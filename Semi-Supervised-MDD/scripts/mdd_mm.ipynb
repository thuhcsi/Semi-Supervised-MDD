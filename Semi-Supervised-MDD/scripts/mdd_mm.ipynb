{
 "cells": [
  {
   "cell_type": "code",
   "execution_count": 1,
   "id": "d7229d43",
   "metadata": {},
   "outputs": [],
   "source": [
    "import sys\n",
    "sys.path.append('../../fairseq')\n",
    "# sys.path.append('./scripts')\n",
    "# sys.path.append('./scripts/g2p')\n",
    "\n",
    "import os\n",
    "import string\n",
    "import pathlib\n",
    "import numpy as np\n",
    "import pandas as pd\n",
    "import librosa\n",
    "\n",
    "\n",
    "from tqdm.notebook import tqdm\n",
    "from glob import glob\n",
    "from g2p.en_us import G2P\n",
    "\n",
    "import torch\n",
    "import fairseq\n",
    "import soundfile as sf\n",
    "\n",
    "from itertools import groupby"
   ]
  },
  {
   "cell_type": "code",
   "execution_count": 2,
   "id": "34ceb97b",
   "metadata": {},
   "outputs": [],
   "source": [
    "data_dir = '/mnt/d/projects/mm_data_splited'\n",
    "checkpoint_path = '/mnt/d/projects/semi/results/finetune_base_vc copy/checkpoint_best.pt'\n",
    "dict_path = '/mnt/d/projects/semi/data/dict.wrd.txt'\n",
    "\n",
    "g2p = G2P()\n",
    "remove_digits = str.maketrans('', '', string.digits)"
   ]
  },
  {
   "cell_type": "code",
   "execution_count": 3,
   "id": "57cedad5",
   "metadata": {},
   "outputs": [
    {
     "data": {
      "text/plain": [
       "63"
      ]
     },
     "execution_count": 3,
     "metadata": {},
     "output_type": "execute_result"
    }
   ],
   "source": [
    "wav_path_list = glob(os.path.join(data_dir, '*.mp3'))+glob(os.path.join(data_dir, '*.m4a'))+glob(os.path.join(data_dir, '*.wav'))+glob(os.path.join(data_dir, '*.aac'))\n",
    "len(wav_path_list)"
   ]
  },
  {
   "cell_type": "code",
   "execution_count": 4,
   "id": "74f574a9",
   "metadata": {},
   "outputs": [
    {
     "data": {
      "text/plain": [
       "['/mnt/d/projects/mm_data_splited/A1-1.mp3',\n",
       " '/mnt/d/projects/mm_data_splited/A1-2.mp3',\n",
       " '/mnt/d/projects/mm_data_splited/A1-3.mp3',\n",
       " '/mnt/d/projects/mm_data_splited/A2-1.mp3',\n",
       " '/mnt/d/projects/mm_data_splited/A2-2.mp3',\n",
       " '/mnt/d/projects/mm_data_splited/A2-3.mp3',\n",
       " '/mnt/d/projects/mm_data_splited/A3-1.mp3',\n",
       " '/mnt/d/projects/mm_data_splited/A3-2.mp3',\n",
       " '/mnt/d/projects/mm_data_splited/A3-3.mp3',\n",
       " '/mnt/d/projects/mm_data_splited/A4-1.mp3',\n",
       " '/mnt/d/projects/mm_data_splited/A4-2.mp3',\n",
       " '/mnt/d/projects/mm_data_splited/A4-3.mp3',\n",
       " '/mnt/d/projects/mm_data_splited/A5-1.mp3',\n",
       " '/mnt/d/projects/mm_data_splited/A5-2.mp3',\n",
       " '/mnt/d/projects/mm_data_splited/A5-3.mp3',\n",
       " '/mnt/d/projects/mm_data_splited/A6-1.mp3',\n",
       " '/mnt/d/projects/mm_data_splited/A6-2.mp3',\n",
       " '/mnt/d/projects/mm_data_splited/A6-3.mp3',\n",
       " '/mnt/d/projects/mm_data_splited/B1-1.mp3',\n",
       " '/mnt/d/projects/mm_data_splited/B1-2.mp3',\n",
       " '/mnt/d/projects/mm_data_splited/B1-3.mp3',\n",
       " '/mnt/d/projects/mm_data_splited/B2-1.mp3',\n",
       " '/mnt/d/projects/mm_data_splited/B2-2.mp3',\n",
       " '/mnt/d/projects/mm_data_splited/B2-3.mp3',\n",
       " '/mnt/d/projects/mm_data_splited/B3-1.mp3',\n",
       " '/mnt/d/projects/mm_data_splited/B3-2.mp3',\n",
       " '/mnt/d/projects/mm_data_splited/B3-3.mp3',\n",
       " '/mnt/d/projects/mm_data_splited/B4-1.mp3',\n",
       " '/mnt/d/projects/mm_data_splited/B4-2.mp3',\n",
       " '/mnt/d/projects/mm_data_splited/B4-3.mp3',\n",
       " '/mnt/d/projects/mm_data_splited/B5-1.mp3',\n",
       " '/mnt/d/projects/mm_data_splited/B5-2.mp3',\n",
       " '/mnt/d/projects/mm_data_splited/B5-3.mp3',\n",
       " '/mnt/d/projects/mm_data_splited/C1-1.mp3',\n",
       " '/mnt/d/projects/mm_data_splited/C1-2.mp3',\n",
       " '/mnt/d/projects/mm_data_splited/C1-3.mp3',\n",
       " '/mnt/d/projects/mm_data_splited/C2-1.mp3',\n",
       " '/mnt/d/projects/mm_data_splited/C2-2.mp3',\n",
       " '/mnt/d/projects/mm_data_splited/C2-3.mp3',\n",
       " '/mnt/d/projects/mm_data_splited/C3-1.mp3',\n",
       " '/mnt/d/projects/mm_data_splited/C3-2.mp3',\n",
       " '/mnt/d/projects/mm_data_splited/C3-3.mp3',\n",
       " '/mnt/d/projects/mm_data_splited/C4-1.mp3',\n",
       " '/mnt/d/projects/mm_data_splited/C4-2.mp3',\n",
       " '/mnt/d/projects/mm_data_splited/C4-3.mp3',\n",
       " '/mnt/d/projects/mm_data_splited/C5-1.mp3',\n",
       " '/mnt/d/projects/mm_data_splited/C5-2.mp3',\n",
       " '/mnt/d/projects/mm_data_splited/C5-3.mp3',\n",
       " '/mnt/d/projects/mm_data_splited/D2-1.m4a',\n",
       " '/mnt/d/projects/mm_data_splited/D2-2.m4a',\n",
       " '/mnt/d/projects/mm_data_splited/D2-3.m4a',\n",
       " '/mnt/d/projects/mm_data_splited/D4-1.m4a',\n",
       " '/mnt/d/projects/mm_data_splited/D4-2.m4a',\n",
       " '/mnt/d/projects/mm_data_splited/D4-3.m4a',\n",
       " '/mnt/d/projects/mm_data_splited/D5-1.m4a',\n",
       " '/mnt/d/projects/mm_data_splited/D5-2.m4a',\n",
       " '/mnt/d/projects/mm_data_splited/D5-3.m4a',\n",
       " '/mnt/d/projects/mm_data_splited/D1-1.wav',\n",
       " '/mnt/d/projects/mm_data_splited/D1-2.wav',\n",
       " '/mnt/d/projects/mm_data_splited/D1-3.wav',\n",
       " '/mnt/d/projects/mm_data_splited/D3-1.aac',\n",
       " '/mnt/d/projects/mm_data_splited/D3-2.aac',\n",
       " '/mnt/d/projects/mm_data_splited/D3-3.aac']"
      ]
     },
     "execution_count": 4,
     "metadata": {},
     "output_type": "execute_result"
    }
   ],
   "source": [
    "wav_path_list"
   ]
  },
  {
   "cell_type": "code",
   "execution_count": 5,
   "id": "6d73a792",
   "metadata": {},
   "outputs": [],
   "source": [
    "phone_seq_dict = dict()\n",
    "for part in [1,2,3]:\n",
    "    prompt_path = os.path.join(data_dir, f'Part{part}.TXT')\n",
    "    with open(prompt_path) as f:\n",
    "        lines = f.readlines()\n",
    "        s = ''.join([l.replace('\\n', ' ') for l in lines])\n",
    "    phone_seq = []\n",
    "    for word in s.split(' '):\n",
    "        if word in ['–', '…', '']:\n",
    "            continue\n",
    "        phone_seq += [x.lower().translate(remove_digits) for x in g2p.convert(word.translate(str.maketrans('', '', string.punctuation)))]\n",
    "    phone_seq = ' '.join(phone_seq)  \n",
    "    phone_seq_dict[part] = phone_seq"
   ]
  },
  {
   "cell_type": "code",
   "execution_count": 6,
   "id": "5f0934dc",
   "metadata": {},
   "outputs": [
    {
     "data": {
      "text/plain": [
       "'hh m s eh d dh ah s ah n l uh k ih ng th ao t f ah l ay hh ae v ae n ay d iy ah l eh t s hh ae v ah k aa n t eh s t t uw s iy w ih ch ah v ah s ih z dh ah s t r ao ng er ay n ow hh uw w ih l w ih n s eh d dh ah w ay n d w iy sh ae l s iy r ih p l ay d dh ah s ah n d uw y uw s iy dh ae t m ae n d aw n dh eh r dh ah w ay n d l uh k t w eh r dh ah s ah n w aa z p oy n t ih ng ah y ah ng m ae n w aa z w ao k ih ng ah l ao ng ah w ih n d iy r ow d th r uw dh ah m aw n t ah n z ih t w aa z s ow k ow l d hh iy w aa z w eh r ih ng ah hh eh v iy w ih n t er k ow t t uw k iy p w ao r m l eh t s s iy w ih ch w ah n ah v ah s ih z s t r ao ng ih n ah f t uw t ey k hh ih z k ow t ao f hh ih m s ah jh eh s t ih d dh ah s ah n iy z iy ay k ae n d uw dh ae t ih n n ow t ay m b ow s t ah d dh ah w ay n d g ow aa n dh eh n s eh d dh ah s ah n ih l w aa ch y uw f r ah m b ih hh ay n d ah k l aw d dh ah w ay n d b l uw ah n d b l uw ih t b l uw s ow hh aa r d dh ae t dh ah b er d z hh ae d t uw k l ih ng t uw dh ah t r iy z t uw s t aa p b iy ih ng s w eh p t ah w ey dh ah m ae n sh ih v er d ah n d d ih d ah p dh ah t aa p b ah t ah n ah v hh ih z k ow t ae z dh ah s n ow s w er l d ih n dh ah eh r dh ah w ay n d k eh p t aa n b l ow ih ng b ah t dh ah m ao r ih t d ih d s ow dh ah t ay t er dh ah m ae n p uh l d hh ih z k ow t er aw n d hh ih m t uw k iy p w ao r m ay g ih v ah p g ae s p t dh ah w ay n d ae t l ae s t ay v g aa t n ow m ao r p ah f l eh f t n aw ih t s m ay t er n s eh d dh ah s ah n ae z ih t ih m er jh d f r ah m dh ah k l aw d dh ah s ah n jh eh n t l iy b r iy dh d ih n dh ah k ow l d eh r dh ah s t r ao ng er ih t b r iy dh d ih n dh ah l aa r jh er ah n d r aw n d er ih t s iy m d t uw g l ow'"
      ]
     },
     "execution_count": 6,
     "metadata": {},
     "output_type": "execute_result"
    }
   ],
   "source": [
    "phone_seq"
   ]
  },
  {
   "cell_type": "code",
   "execution_count": 7,
   "id": "2d816bcd",
   "metadata": {},
   "outputs": [
    {
     "data": {
      "application/vnd.jupyter.widget-view+json": {
       "model_id": "e7f6472ff84f46a6a686e5601c2abeb8",
       "version_major": 2,
       "version_minor": 0
      },
      "text/plain": [
       "  0%|          | 0/63 [00:00<?, ?it/s]"
      ]
     },
     "metadata": {},
     "output_type": "display_data"
    },
    {
     "name": "stderr",
     "output_type": "stream",
     "text": [
      "/home/dmesg/miniconda3/envs/semi/lib/python3.8/site-packages/librosa/util/decorators.py:88: UserWarning: PySoundFile failed. Trying audioread instead.\n",
      "  return f(*args, **kwargs)\n"
     ]
    },
    {
     "name": "stdout",
     "output_type": "stream",
     "text": [
      "A1-1\n",
      "sil dh ih s sil t r ay sil t r iy sil m eh zh er sil ey sh uw sil b r l uw sil l iy f sil k r uw sil f ah sil t ao sil k er f iy sil t er n aa n sil t er n aa n dh ah l ay s sil p l iy s sil sil dh eh r w s ah sil b ih sil k sil p r aa sil b l ah m sil b iy sil t ih n d ih sil t uw sil g r uw sil p s sil dh ah sil g aa m ah n t ih s sil t r ay ih sil t uw ah sil d r eh th iy ih sh uw ah v hh ow m l ah s sil n ah s sil hh iy l er n d hh aw sil t uw sil d r ay w ih n hh iy w ao s ih sil k s sil t iy y ih z ow sil d sil hh ih s sil w ih zh ah w ah s sil b l ae r iy ae n d ih hh iy n iy sil g r ae s ih s sil t uw s iy sil sil sh iy w ah s sil d ah w ih z hh er w er sil k f ao dh ah sil d ey sil ae n d sil k uh ih l ay sil k s sil sh iy y uw z sil t ah sil b l ae n d er sil t uw m ey sil k ah sil sil m ow th ih f ao sil b r eh sil k f er s sil sh ih l ay sil k s sil t uh sil t ey sil k w ao sil k ih n dh ah sil p aa sil k eh v r ih m ao n iy ng sil dh ah s sil k uw s ih s sil t ah m n iy s sil m ao f ah ng d ih ng sil t uw ih m sil p r uw v eh sil jh ah sil k ey sh ah n sil dh ah sil b ih d ih ng s aa sil k ih sil t eh sil ch er w ah s sil m ao sil d ah n ae n y uw n iy sil k sil\n"
     ]
    },
    {
     "name": "stderr",
     "output_type": "stream",
     "text": [
      "/home/dmesg/miniconda3/envs/semi/lib/python3.8/site-packages/librosa/util/decorators.py:88: UserWarning: PySoundFile failed. Trying audioread instead.\n",
      "  return f(*args, **kwargs)\n"
     ]
    },
    {
     "name": "stdout",
     "output_type": "stream",
     "text": [
      "A1-2\n",
      "sil sil ih sil t w ah z ah f ay n b ah t sil eh r ih sil k uh w ih n t er s sil d ey sil ae sil dh s aa n sh ow n d aw ng sil aa n dh ah s n ow ng k aw w er sil er sil p sil er s sil b ih l ow sil ah s ah sil b y uw t f ah s ay sil t sil ey th ao t sil ae n l uh k ae dh ah l ey t ah w ay sil t s aw s ah v sil dh ah sh ih p ao n dh sil b l uw s iy sil ay w ao n t ah t ih sil k m ay t ae sil t r aa v ah l ih ng ah sil k r ao s dh ah s sil k ay sil t ah d ey sil aa f sil t er ao sil w t ah sil w ah s ah r aa sh sil s ah d ah n l iy sil ah v r iy z ih k sil b l aa s ah v ay er sil s sil k r ih sh sil t sil p aa t sil n d sil n ih r l ah sil b l uw d ah s ao ng ah l ao ng w ih dh ih sil t sil ao t ah v sil m ay w ey s ah n sil r ow dh ah w ih n d sil s iy dh ow sh ih p s sil aa m sil g ow ng t uw sil b l ow dh ow m r ow sil ah sil b l ow dh ah m r ay t ah v sil k ao s sil l ih t uw sil ah dh ih w uh n ow w ah s hh dh ah sil dh ah w ih n d sil b l uw ae n b l uw ih sil b l s ow hh aa dh ae sil dh sh ih sil p s aw s uw ih sil t ah sil p aa t sil ao dh ah s ah n sil k uw sil d uw w ah w ao sil ch ih ng ae sil dh ah s eh l er sh ih v er ih n dh ah s sil b l aa s t sil sh uh sil k th l ih f ih s t ae d ah sil k r ay d t ih ng ah ng g er sil n aa t ah sil g ey ng w ih n d sil s ay dh ah s n sil w ah sil d uw uw hh ae v sil t uw sil k ao s m ih z ah r iy ae n d sil t ao s ao dh ah sil t ay m sil sil b ih k ao s ay l ae sil k sh ow ih jh ah s t ah hh aa s t r ng ay ay m sil r ih sil p l dh ah w ih n d sil sil y s ih ih n dh ah s ah sil k sil ey y uw s ih t ih n d ah s sil k ay ae n d n ah th ih ng ih sil k s eh sil sh aa sil sil b ah t ay ah m f uh sil ay m f uh l ah f ao s ae n d eh n ah sil jh iy sil sil\n"
     ]
    },
    {
     "name": "stderr",
     "output_type": "stream",
     "text": [
      "/home/dmesg/miniconda3/envs/semi/lib/python3.8/site-packages/librosa/util/decorators.py:88: UserWarning: PySoundFile failed. Trying audioread instead.\n",
      "  return f(*args, **kwargs)\n"
     ]
    },
    {
     "name": "stdout",
     "output_type": "stream",
     "text": [
      "A1-3\n",
      "sil sil s ae sil dh ah s ah n sil l uh k ih ng th ao t f ah l iy sil ay hh ae v ah ay sil d iy sil dh eh s hh ae v ah sil k aa n t ae sil k s t uw s iy w uh sh ah v ah s ih ah sil f r ao ng sil l ah ih s ah sil ih l ah sil s sil ey z l ah sil s t r ao ng g er sil ay n ow hh uw w ih w ih n s ae dh ah w ih sil w ih sh aa s iy sil r ih sil p ae dh ah s ah n sil d uw y uw s iy dh ah m ae n d aw dh eh r sil dh ah w ih n d ih l uh sil k t w ih n d ah s aa w s sil p ao n t ih ng sil ah y ah ng m ae w ah sil w ao k ih ng sil ah l ao sil ah y ah ng m ah w ah s w ao k ih ng ah l ao ah w ih n d ow sil ah w ih n d ih ng r ow sil t sil sil th r uw d ah m ao ng t n sil ih t w ah s ow sil k ow sil d sil sh uw w ah z w eh ih ng ah hh ae v ih sil hh ae w ah w ih n t ah sil k ow t uw sil k iy sil w m sil ae s iy w ih sh ah v sil w ih sh w ah n ah f s ih s t r ao ng g er sil iy v ih n t uw sil t ey k hh ih s sil k ow ch ao th ah sil hh ih s sil k ow d ao f hh ih m sil s ah sil jh eh s ih dh ah s ah n sil iy z ah sil ay sil k ah n d uw dh ae sil ih n ow sil ch aa m sil b ow s ih d w ih n d sil g ow ng dh eh n sil s dh s ah n sil ah w uh ch iy f r ah n sil ah ae v ah w ow sil ch uw f ao m sil b iy hh ae n d ah sil k l t sil sil dh ah w ih n sil b l uw ae n sil b l uw sil ih sil t uw s ow hh aa dh ae dh ah sil b er s hh sil hh ae sil t uw sil k l iy n t uw dh ah sil t r iy sil t ah s t aa sil p ih ng sil w eh sil p ah w ey sil dh ah m ae n sh ih er d n d sil d ih d ae sil d sil t aa sil b aa ah m ah v hh ih s sil k ow t sil ae dh ah s n ow sil s w ih l er ih n d iy eh r sil dh ah w ih n d sil k eh sil p ao m sil b l ow ih ng sil b ah sil t ah m ao r ih sil d ih s ow sil t sil t ay sil t er dh m ae n sil p uh hh ih sil k ao s ah r aa n hh ih m sil t uw sil k iy sil p w ao m sil ay sil k ih v aw sil p g ae s p ih dh ah w ih n ae l ao s t sil ay v sil g ao n ow m ao r sil p uw f l ay sil t sil n aw sil ih s sil m ay sil t er n s ae dh ah s ah n ae n d ih s ih m er ch f r ah m dh ah sil k l ao t sil d ah s ah n jh eh n t ah l ih sil b ih s t ih ih n dh ah sil k ow t ay r sil dh ah t r ao ng g er sil d sil b r ih s t ih n sil dh ah l aa jh er ae n r ao ng d er ih s ih t uw sil k l ow sil\n"
     ]
    },
    {
     "name": "stderr",
     "output_type": "stream",
     "text": [
      "/home/dmesg/miniconda3/envs/semi/lib/python3.8/site-packages/librosa/util/decorators.py:88: UserWarning: PySoundFile failed. Trying audioread instead.\n",
      "  return f(*args, **kwargs)\n"
     ]
    },
    {
     "name": "stdout",
     "output_type": "stream",
     "text": [
      "A2-1\n",
      "sil n iy s sil t ay sil sil t r iy sil m ey er sil iy sh uw sil sil b l uw sil l iy sil sil g er sil sil v ah sil t aa sil g er f iy sil t er aa n sil sil t er aa n dh ah l ay z sil p l iy s sil sil dh eh w ah z ah sil b ih sil p r aa sil b l ah m sil b ih sil t ih n z ah sil t uw sil g r uw s sil sil dh ah sil g aa ah m ah n d eh sh ay n sil t uw ah sil d r ay s iy y uw sh uw ah f hh ow m l ih s n s sil sil hh ae l er n d hh aa sil t uw sil d r ay w ah sil hh ey w ah dh s ih sil k s sil t iy n y ih r z ow sil d sil hh ih m ih ah w ah z sil l eh iy sil ah n d ah hh ih m ih sil d ih sil dh ih sil g ae s ih z sil t uw s iy sil sil sh iy w ah z sil d aa m ih hh er w ao sil k f ao dh ah sil d ey sil ah n ah sil k uw sil d ih r ih l ae sil k s sil sil sh iy y ow s ah sil b l ae n sil d er sil t uw m ey sil k ah s ih s f ao r ae sil k f er s sil sil iy l ae s sil t uw sil t ih sil k ah w er sil k ih n dh ah sil p aa r sil g ay r ih m ao n ih ng sil sil dh ah s sil k uw s ih s sil t ah m m iy ah m ao f ow n d ih n sil t uw ih n sil p r uw ae sil d ow sil k ey sh ih dh ah sil b l uw sil d ih z aa r sil k sil t eh sil k sil ch er w ah z m ao r dh ah n ah n ih ih n iy sil\n"
     ]
    },
    {
     "name": "stderr",
     "output_type": "stream",
     "text": [
      "/home/dmesg/miniconda3/envs/semi/lib/python3.8/site-packages/librosa/util/decorators.py:88: UserWarning: PySoundFile failed. Trying audioread instead.\n",
      "  return f(*args, **kwargs)\n"
     ]
    },
    {
     "name": "stdout",
     "output_type": "stream",
     "text": [
      "A2-2\n",
      "sil ih t ah w ah z ah f ae n ae t ah m ay r iy k ow t ah v ih n t er s t ey sil ae z ah s ah n sh ao n d ao ao n dh ah s n ow k aa er d er s sil b ih l ow sil sil w ah z ah sil b y ih t ah f ah s ay s sil ey s ao t sil sil ah n d ah l uw k ae z ah l ih t ah sil r aa t s eh s sil ah f dh ah sh ih p s ah n dh ah sil b l uw s iy sil sil ay m aa n t uw t ih k m ay t aa n t aa er ih ng ah k ao s ah k ae t dh ey sil f t er ao sil w ah s l er r aa sh sil ah ah n ey sil ah f r iy dh ah n k ow d ah sil b l ae s ah f eh er s sil k r uw n d p aa s t sil ah n ih r l sil b ih l ow dh ah s ah ah l ao w ih z ey sil aa t ah v f sil m ay v ey sil s ao sil r ao dh ah v ih n d sil s iy dh ih s sh iy p s sil ah n sil g ow ih ng t uw sil b b l ow dh ah n zh r ae t f sil k ao r s sil m ow n s ow w ow s iy z ah n sil l ah v ih n sil b l uw ah n sil b l uw sil ih z sil b l uw s ow hh aa dh ae z dh ah sh ih p s ah s eh s r ih ah sil ah p aa r t sil ao dh ah s ah ng sil k d ah sil d uw sil w ah z ah w ah sh ay z dh ah sil s ih l er s sh ih w er d ih n dh ah ay s eh sil b l aa s sil n dh eh r f ih s t s sil ah n dh ah sil k r ae d ah aa n g er sil sil n aa t ah g eh v ih n d sil ah dh ah s ah sil l t uw hh ae v sil t uw k aa s m ih s er r iy ae n sil t ao s ao dh ah p aa n sil b ih k s ay l ae k sh ow ng d ae s ah hh ao s t r ao aa n sil r ih sil p l ay d dh ah v ih n d sil sil y ow s ih t ih n ah s k ae ae n ah sil d ow n ay s ih ih g s ae dh ah sh aa n sil b ah t ah n f ao f ao s ah n ah n er jh iy sil\n"
     ]
    },
    {
     "name": "stderr",
     "output_type": "stream",
     "text": [
      "/home/dmesg/miniconda3/envs/semi/lib/python3.8/site-packages/librosa/util/decorators.py:88: UserWarning: PySoundFile failed. Trying audioread instead.\n",
      "  return f(*args, **kwargs)\n"
     ]
    },
    {
     "name": "stdout",
     "output_type": "stream",
     "text": [
      "A2-3\n",
      "sil sil sil s ae n z ah s ah sil l uw k ih ng s ao t f ao sil ah hh ae l ay d iy sil dh ae s hh ae w ah k aa n t ae s t uw s iy v ih sh ah f aa s ih z ah s t r ah ng g er sil sil ay n ao uw eh v ih sil s ae dh ah v ih n d sil r ey sh s iy sil r ih sil p l ay z ah s sil d uw s ih dh ae s m ae sil d aa dh eh r sil dh ah w ih n d ah l uw k dh ah r eh ah s ah m ah z sil p ah n t iy sil ah y ah m ah w ah z ah w ao k ih ng ah l ao r ih n d ih r ow d sil s r uw z ah m ah n t ah n s sil eh t w ah s ow k ao d sil eh w z r eh ih ah hh ae v ih r ih n t er k t sil t uw k eh sil w ao sil dh ae s ih r ih sh r ah f aa s ih s t r ao sil ih s t r ao n aa t uw t ih k hh s k ao t ao f hh eh sil s ah jh ae s sil t eh dh ah s ah n sil iy dh ah sil ay k ah n d uw dh aa s ih n n ao t ah n sil s ih ah m ih n sil sil ah s ah sil ae v r eh w sh ah f r ah n b ih hh ae n ah k l ao t sil sil l ah ih n sil b l ow ah n sil b l uw sil ae n ah b l uw s ow hh aa ae z ah sil p er s hh ae t uw ih n t uw ah ch r ih s t uw t aa sil b ih n s l ay ah v ey sil ah n s ih m er t ah n ah sil d ih d sil dh ah sil t ao sil p ao t ah sil ah ih s sil k ao s sil s ao sil s v eh d ih l ay sil l ah w ih n sil k ih sil t ah ah n sil b l ow ih sil ah m ao ih t sil d ih s dh ah t ae t er z ah m ae n sil p ow d hh ae z ah k ao t ah r ah n hh ih n t uw k ih sil w ao sil sil ay g ey v aa p sil ah s sil uw ah ih ng ae n l ay s sil sil g m sil n ow m ao sil p uw f l ay f s sil sil n ih s m ay t er sil s ay dh ah s ah ae s ih s ih m er zh ah f r ah m dh ah sil k l ao d sil dh ah s ah n jh eh n ah m ih sil b r ih z ah sil b r ih z dh ah ng dh ah sil k ao t eh sil ah s t r ao ng g er t ah sil b r ih s ih ah sil l aa jh er ah n dh ah r aa n d ih dh ah s iy n d ah sil t uw sil g ah l ow sil\n"
     ]
    },
    {
     "name": "stderr",
     "output_type": "stream",
     "text": [
      "/home/dmesg/miniconda3/envs/semi/lib/python3.8/site-packages/librosa/util/decorators.py:88: UserWarning: PySoundFile failed. Trying audioread instead.\n",
      "  return f(*args, **kwargs)\n"
     ]
    },
    {
     "name": "stdout",
     "output_type": "stream",
     "text": [
      "A3-1\n",
      "sil sil d ih s sil t w ay sil t r iy m sil m eh zh er sil ey sh uw sil b r l uw sil l ey sil g er sil f ah t ow g r er f iy sil t hh er ao n sil t r er aa n d ah l ay s p l iy s sil d eh r w ah s ah b p r aa b l ah m b ih t w iy ih n d ah t uw g r uw p s sil d ah sil g aa r ah m ah n t sil ih s t r ay ng t uw ah d r eh s d ih s sil iy sh uw ah v hh ow m l iy s n ah s sil hh iy l er n d hh aw t uw d r ay b ah n sil hh w ih n hh iy w ah z s ih k s t iy n y z ow l d sil sil hh ih z v iy zh ah n w ah b l er iy sil ah n d hh iy n iy d ih d k l aa* s ih s t uw s iy sil sh iy w ah s d ah n w ih th hh er w er k sil f ao dh ah d ey sil ah n d k uh d r ih l ae k s sil sh iy y uw s d ah b l eh n d er t uw m ey k ah s m uw th iy sil f er b r eh k f ah s t sil sh iy l ae k s t uw t ey k ah w ao k sil ih n d ah p aa r k sil eh v r iy m ao r n ih ng sil d ah s k uw l s ih s s t ah m n iy s m ao r f ah n t iy ng sil t uw iy m p r uw v eh jh ah k ey sh ah n sil d ah b ih d ih ng z aa r k ah t eh k ch er w ah z m ao r d ah n sil ah n y uw n iy k sil sil\n"
     ]
    },
    {
     "name": "stderr",
     "output_type": "stream",
     "text": [
      "/home/dmesg/miniconda3/envs/semi/lib/python3.8/site-packages/librosa/util/decorators.py:88: UserWarning: PySoundFile failed. Trying audioread instead.\n",
      "  return f(*args, **kwargs)\n"
     ]
    },
    {
     "name": "stdout",
     "output_type": "stream",
     "text": [
      "A3-2\n",
      "sil ih t w ah z ah f ay n b ah t v eh r iy k uh d w ih n t er s d ey sil ah z dh ah s ah n sh ow n d aw ng sil ao n dh ah s n ow k ah v er d er th b ih l ow sil w ah t ah b y uw t ah f ah s ay t sil ih t s th ao t sil ah n d l uw k ae t d ah l t ah sil w ay t s iy l s ah v dh ah sh ih p s ah v dh ah b l uw s iy sil ay w ao n t ah t ey k m ay t ae m t r v l ih ng ah k r ao s dh ah s k ay t ah l iy sil aa* f t ao l sil w ao s ah r ah sh sil s ah d ah n l iy sil ah f r iy z ih ng k ow d sil b l aa s t ah v eh r sil s k r iy ch p aa s t sil ah n d n ih r l iy r uw dh ah s ah n ah l ao ng w ih dh ih t sil sil aw t ah v m ay w ey s eh sil r ao r z ah dh ah w iy n t sil s iy d uw s r iy p s sil ah n d g ih ng t uw b l ow dh ah ao r eh t ah v k ao r s sil d ey w ao t s n ow w s hh ih t hh iy d l ah m sil sil d ah w ih n b l uw ah n d b l uw sil ih t b l uw s ow hh aa r d sil dh ah t sh ih p s ey w l s r ih p t ah p aa r t sil ao dh ah s ah n k uh t d uw w ah s w ao sh ah z ah s ey t er s sil sh ey b* er d ih n d ah ay s iy b l s t sil sh r uw k dh eh r f ey s ah n d k r ay t sil aw t iy ng ae ng g er sil sil n aa t ah g ey n w ih n t sil s ay dh ah s ah n sil w ay d hh aa* v t ah k ao s m iy z ah iy ah n d k ey w s ao l dh ah t ay m sil b ih k ao z ay l ay k sh ow ih ng jh ah s t hh ao s t r ao ng sil r ih p l ay d dh ah w ih n ng d sil y uw s ih t ih n d ah s k ay ah n d d uw n ah th ih ng ih k s eh p t sh ay ng sil b ah t ay ah m f uw f ao r s ah n d eh n er ah jh iy sil sil\n"
     ]
    },
    {
     "name": "stderr",
     "output_type": "stream",
     "text": [
      "/home/dmesg/miniconda3/envs/semi/lib/python3.8/site-packages/librosa/util/decorators.py:88: UserWarning: PySoundFile failed. Trying audioread instead.\n",
      "  return f(*args, **kwargs)\n"
     ]
    },
    {
     "name": "stdout",
     "output_type": "stream",
     "text": [
      "A3-3\n",
      "sil sil sil s d s eh n sil l uw k ih ng th ao t f ah l sil ay hh ae v ah ay d iy r sil l ae s hh ae v ah k aa n t eh s t sil t ah s iy w ih ch ah v ah s s d ah s t r ao ng g er sil ay n ow sil hh uw w w iy n s eh d ah w sil w ih sh ao s iy sil r ih p l ay dh ah s ah n sil t uw s iy d ah t m ah n d aw d eh r sil d ah w iy n d l uw t w eh r dh ah s ah n w ah s p oy n t ih ng sil ah y ah ng m ae n w ah z w ow k ih ng l ao ng sil ah w ih n d iy r ow d sil th r* r uw d ah m aa n t ih n s sil ih t w ah s s ow k ow d hh iy w uh s w eh ih ng ah hh ae v iy w ih n d er k ow ch t k iy p w ao sil d ah t s iy w ih sh w ah v ah z ih s t r ao ng ih n ah f t ah t ey k hh ih s k ow t ao f hh ih m sil s ah zh jh eh s ih d d ah s eh n sil iy z l iy sil sil ay k ah n d uw dh t iy n ow t hh ae m sil b uh s ih d ah w iy ng t sil g ow ao ng dh ah n sil s eh d ah s ah n sil ay w ow sh uw f r ah m b iy hh ay n d ah k l t sil sil sil sil d ah w iy n b l uw ah n d b l uw sil t b l uw s ow hh aa r t sil d ae t d ah b er s hh ae t ah k l iy ng t uw dh ah s t r iy s sil t ah s t ao p b iy ng s w eh p t ah w ey sil d m ae n sh iy v er d sil ah n d d ih d ah p s ah sil t ow b aa s ih ah v hh ih s k ow t sil ah s ah s n ow s w er d ih n d ah ay r sil d ah w iy n d k ae p t ao n b l ow ih ng sil b ah dh ah m ao r ih s sil iy s ow sil dh ah t hh ay t er d m ah n p uw t hh ih k ow t ah r ao n hh ih m sil t uw k iy p w ao sil ay g ey v ah p sil k ae f s sil k ae s p t sil d ah w ih n d t l ae s t sil ah d g ao t n ow m ao r p uw f l f t sil n aw ih s m ay t er n sil s eh d dh ah s ah n sil ae z ih t sil iy m er sil f r ah m d ah l aw d sil sil d ah s ah n sil jh eh n t ah l iy b r eh s t ih n d ah k ow d eh r sil dh ah s t r ao ng g er ih t b r eh th t iy n sil dh ah l aa r zh er ah n d r ao ng g er sil ih t s iy m d t ah k l sil sil\n"
     ]
    },
    {
     "name": "stderr",
     "output_type": "stream",
     "text": [
      "/home/dmesg/miniconda3/envs/semi/lib/python3.8/site-packages/librosa/util/decorators.py:88: UserWarning: PySoundFile failed. Trying audioread instead.\n",
      "  return f(*args, **kwargs)\n"
     ]
    },
    {
     "name": "stdout",
     "output_type": "stream",
     "text": [
      "A4-1\n",
      "sil d ey s sil t r ay sil d r iy m sil m ae zh er sil iy s uw sil r uw sil l sil g er sil f ah t aa b er f iy sil t er n ao sil t er n ah n d ah l ay s p l iy s sil d eh r w ah s ah sil b ih k p r aa b l ah m sil b ih t w iy n d ah sil t uw sil g r uw p s sil d ah g ah v ah m ah n t sil ih z t r ay ih ng t uw sil ah d r eh s t d iy s uw ah v hh ow p l ah s n ah s sil hh iy l er n t sil hh aw t uw d r ay sil w eh n hh iy w ah s ih k s t iy n y r s ow d sil hh iy s v iy zh ah n sil w ah s p l er iy sil ah n hh iy n iy d ih d sil g l aa s ih s t uw s iy sil sh iy w ah s d aw sil w ih th hh er sil w er k f ao d ah d ey ah n k uw ih l ae k s sil sh iy y uw s t ah sil b l ae n d er t uw m ey k ah s m uw th l iy sil f ao b r eh k f ah s t sil sil sh iy l ae k s t uw t ih k ah w ao k sil ih n d ah p aa r k eh v r iy m ao n ih ng sil sil d ah s k uw l s ih s t ah m sil n iy z m ao f ah n d ih ng t uw ih m p r uw v sil ae d jh ah k ey sh ah n sil d ah b iy d iy n s aa k ah t eh k ch er w ah s m ao d ah n sil ah n y uw n iy hh sil\n"
     ]
    },
    {
     "name": "stderr",
     "output_type": "stream",
     "text": [
      "/home/dmesg/miniconda3/envs/semi/lib/python3.8/site-packages/librosa/util/decorators.py:88: UserWarning: PySoundFile failed. Trying audioread instead.\n",
      "  return f(*args, **kwargs)\n"
     ]
    },
    {
     "name": "stdout",
     "output_type": "stream",
     "text": [
      "A4-2\n",
      "sil ih t w ah z ah f ay sil b ah f eh r iy k ow d w ih n t er s t ey sil ah z dh ah s ah n sh ah n d aw ng sil ao n s n ow sil k ah v er d er th sil b ih l ow sil w ah t ah b uw t f uh s ay t sil ih t b ao t sil ah n l k ae n d ah l ih t uw w ay t s ey w s ah v dh ah sh ey p s sil ao n d ah b l uw s iy sil sil ah w aa n t ah t hh ih m eh t ay m sil t r ae v ah l ih ng ah k r ao s ah s k ay t ah d ey sil aa f t ao sil w ah s ah r aa sh sil s ah d ah n l iy sil ah f r iy z ih ng k ow b l s v eh r s k r iy ch t sil p aa s t sil n ih r l iy sil b l uw dh ah s ah n ah l ao ng w ih th ih t sil aa t ah m ay w ey s ah n sil r ao r sil r ao d sil d ah w iy n sil s iy d ow s sh ey p s sil ah n g uw ng t uw b l ow d ah m r t sil ao th sil k ao s sil d ey w uh n n ow w ah s hh ih d ah m sil d ah w ih n b l uw sil ah n b l uw sil ih b l uw s ow hh aa d ae t sil d ah sh ih p s ey s sil r ih t ah p aa t sil ao dh ah s ah n k uh d uw sil w ah s w ao ch sil ah s d ah s ih l er s sh ih v er t sil ih n d iy sil ay s iy b l aa s t sil sh ao k sil d eh r f ih s ah n k r ay d aw t sil iy ng ae ng g er sil n aa t ah g eh n w iy sil s ay d sil d ah s ah n sil b ay t uw hh ae d t uw k ao s m ih z er r iy ah n sil k ey s sil ao d ah t ay m sil b ih k ao s ah l ay k sh ow ng sil jh ah s hh aw s t r ao ng ae m sil b ih p hh ay d sil ah w iy n d sil y uw s ey t ih n dh ah s k ay ah n d uw n ah th ih ng s sil b ae k t sil sh ay ng sil b ah s ae n f uh l ah f f ao s ah n d ae n ah jh iy sil sil\n"
     ]
    },
    {
     "name": "stderr",
     "output_type": "stream",
     "text": [
      "/home/dmesg/miniconda3/envs/semi/lib/python3.8/site-packages/librosa/util/decorators.py:88: UserWarning: PySoundFile failed. Trying audioread instead.\n",
      "  return f(*args, **kwargs)\n"
     ]
    },
    {
     "name": "stdout",
     "output_type": "stream",
     "text": [
      "A4-3\n",
      "sil s ae d ah s ah n sil l uw k ih ng th ao t f uh sil ay hh ae v ah n ah n ay d iy r sil l s hh ae w ah sil k aa n t ae s t sil t uw s iy w ih sh f ah s ih s ah s t r ao ng er sil ay n ow hh uw w iy ng sil s ae d ah w ih n sil w ih sh ih s iy sil r ih p l ay t sil d ah s ah n sil d uw s iy d ae t m ae n sil d aw n d eh r sil d ah w n d sil l uh k sil l k sil w eh d ah s ah ng w ah s p oy t ih ng sil ey y ah ng m ae n w ah s w ao k ih ng ah l ao ng ah w iy n d iy r sil th r uw d ah m aa n t ah n s sil ih w ah s k ow d sil hh iy w ah s w er ih ng ah hh eh v iy w iy n t er k ow t uw k iy p w ao m sil sil ae s s iy w ih ch ah n ah f ah s ih s t r ao ng g er sil ih s t r aa ng ih n ah f t uw t ih hh iy s k ow s ao f hh iy m sil s ah jh ae s t sil d ah s ah n sil iy z iy sil sil ay k ah n d uw d ae t iy n n t ay m sil b uw s t ey d sil d ah w n sil g ow ao sil dh eh n sil s ae d ah s n sil aw w ao t sh uw sil f r ah m b ih hh ay n d ah k l aw t sil d ah w ih n d sil b l uw sil ah n b l uw sil ih b l uw s ow hh aa r d d ae t sil d ah b er s hh d t uw k ng t uw d ah s sil t uw dh t r iy s sil t uw s t aa b iy ih ng s w ae p t ah w ey sil d ah m ae n sh ih v er d sil n d ey d aa f sil d ah t ao p sil b aa t ah n sil ah v hh iy s k ow t sil ae s dh ah s n ow s w ae ow t sil ih n ah sil ih n d iy eh r sil d ah w ih n d sil k ae p t hh ah m b l ow ih n sil b ah d ah m ao r ih d s ow sil dh ah t ay t er sil d ah m ae n p uw t sil hh iy s k ow s er r aa n hh ih m t k iy p w ao m sil sil ay g ey v ah p sil g ae s p t sil d ah w ih n ae t l aw s sil sil ae g n n ow m ao p aw f l ae f t sil n aw sil ih s m ay t er n sil s ae n d ah s ah n sil s ih t sil ih m er zh sil f r ah m ah k l sil d ah s ah n sil jh eh n t ah l iy sil b r iy sil iy n sil d ah sil k ow d ih r sil ah s t r ao ng er ih t b r iy th iy n sil d ah l aa jh er sil ah n r aa ng d er sil ih s iy m sil t uw g l ow sil sil\n"
     ]
    },
    {
     "name": "stderr",
     "output_type": "stream",
     "text": [
      "/home/dmesg/miniconda3/envs/semi/lib/python3.8/site-packages/librosa/util/decorators.py:88: UserWarning: PySoundFile failed. Trying audioread instead.\n",
      "  return f(*args, **kwargs)\n"
     ]
    },
    {
     "name": "stdout",
     "output_type": "stream",
     "text": [
      "A5-1\n",
      "d ey s sil t ay sil t r iy m sil m ae zh er sil iy sh uw sil b l uw sil l iy f sil g er sil f ah t aa g r er f iy sil t er n aa ng sil sil t er l aa n d l ay s sil p l ey s sil d eh r w ah z ah b ih k p r aa b l ah m b ih t w iy n d ah t uw g r ow p s sil d iy g aa f m ah n t sil ih s t r ay n t uw d r eh s t ah iy sh uw ah v hh ow m ah l ih s n ah s sil sil hh l er n t hh aw t ah d r ay w ih n hh iy w er s ih k s t iy n y ih r s ow t sil hh iy s b ih sh ah n w ah s l aa r iy ae n hh ey n iy d ih d sil k l aa s ih s t uw s iy sil sh iy w ah s t ah n w ih d hh er w er k f ao d ah d ey sil ae n d k uh d r iy ah l ay k s sil sh iy iy s t ah p l ae n d er t ah m ey k ah s m uw th l iy f ao b r eh k f ah s t sil sh iy l ae k s t uw t ey k ah w ao k ih n d ah p aa k sil eh v r iy m ao r n ih ng sil d ah s k uw s ih s t ah m n iy s m ao f aa n d ih ng t uw ih m p r uw f ae jh ah k ey sh ah n sil d b iy d ih ng s aa k ah t ae k ch er w ao s m ao r d ah n ae n d y uw n iy k sil sil\n"
     ]
    },
    {
     "name": "stderr",
     "output_type": "stream",
     "text": [
      "/home/dmesg/miniconda3/envs/semi/lib/python3.8/site-packages/librosa/util/decorators.py:88: UserWarning: PySoundFile failed. Trying audioread instead.\n",
      "  return f(*args, **kwargs)\n"
     ]
    },
    {
     "name": "stdout",
     "output_type": "stream",
     "text": [
      "A5-2\n",
      "sil sil ih t w z ah f ah n b ah t v ay r iy k ow d w ih n t er s t ey ae t dh ah s ah n sh aa n d aw n ao n dh ah s n ow k aa v er d sil er s sil b ih l ow sil w ah t ah b y uw t ah f ah s ay t sil ih t s ao t sil ae n d l uw k ae z ah l t ah w ay t s ey w ah v dh ah sh ih p s aa n dh ah b l uw s iy sil ay w ah n t uw t ey k m ay t ay m t r ae v ah l ih ng ah k r ao s ah s k ay t ah d ey sil sil aa f t er ao l sil w ah t s s ah r ah sh sil s ah t ah n l iy sil ah f r ey z ih ng k ow d ah sil b l ae s t ah v sil eh r s k r ae ch t p aa s t sil ae n d ah n iy r l iy b l uw ah s aa n ah l ao ng w ih ih t sil aw t ah v sil m ay v ey s aa n sil l ow d dh ah w ih n d sil s iy z ah sh ih p s sil ay m g ow ih ng t ah b l ow z ah m r ay d ah v k ao r s sil s iy w ow n l ow w ao s hh ey ah m sil dh ah w ih n d sil b l uw sil ae n d b l uw sil ih t b l uw s ow hh aa r d dh ah dh ah sh ih p s ey s sil r p t ah p ao t sil aw t ah s aa n k uw d uw w ah s w ao ch dh iy ae dh ah s eh l er s sh eh t sil ih n dh ah s l aa s t sil s sil sh uh k dh eh r f ih s t ae n k r ae d aw t sil ih n ae ng g er sil sil n aa t sil ah g ey n sil w ih n d sil s ay n d dh ah sh aa sil w ay t uw hh ae v t uw k ah s m ey d er iy ae n d k ey s ao v ah t ay m sil sil b iy k aa s ay l ay k sh ow ih ng jh ah s hh aw s t r aa ng ay ay m sil r ih p l ay d dh w ih n d sil sil y uw s ey ih n d ah s k ay ae n z n ah s ih ng ih s p ae k t sh ay m b ah t ay m f uw ah v f ao s sil ae n d sil n er jh iy sil sil\n"
     ]
    },
    {
     "name": "stderr",
     "output_type": "stream",
     "text": [
      "/home/dmesg/miniconda3/envs/semi/lib/python3.8/site-packages/librosa/util/decorators.py:88: UserWarning: PySoundFile failed. Trying audioread instead.\n",
      "  return f(*args, **kwargs)\n"
     ]
    },
    {
     "name": "stdout",
     "output_type": "stream",
     "text": [
      "A5-3\n",
      "sil sil s ae d dh ah s ah n sil l uw k ih ng s ao t f ow sil ay hh ae v ah ay d iy ah sil l aa s hh ae v ah k aa ng t eh s t sil t ah s iy w ih ch ah v ah s ih s ah s t r ao g er sil ay n ow hh uw w iy w ih n sil s ay d dh ah w ih n d sil sil w iy sh ae l s iy sil r ih p l ay d ah dh ah s ah n sil sil d iy d s iy dh ae t m aa n d aa ng g eh sil dh ah w iy n d sil l uw k t w r dh ah s aa n w er s sil p oy n t ih ng sil ah y ah ng m aa n w ah s w ao k ih ng ah l ao ng ah w ih n d iy r ow sil s r uw dh ah m aa ng t n s sil ih t w ah s ow k ow d sil hh iy w er s w r ih ng hh ae v iy w iy t ah k ow t sil t uw k iy p sil w ao ng sil l ae t s iy w ih ch w ah n ah v ah s ih s t r ao ng g er ih n aa f sil t uw t ey k hh ih s k ow t ao f ih m sil s ah t ae t t sil dh ah s ah n sil iy z iy sil sil ay k ah n d uw z ae t sil ih n ow t ay m sil b ow s ih dh ah w ih n sil g uh ao n ah sil s ae d dh ah s n sil aa w iy w ao ch uw f r ah m b ah hh aa n d ah k l t sil ah w ih n d sil b l uw sil ah n d b l uw sil ae t b l uw s ow hh aa r dh ah dh ah b er s hh ae v t ah k l ng t ah dh ah t r iy s t ah s t aa b iy ng s w ae p t ah w ey sil s ah m aa n sh ih v er ah n d ah d eh l aa p dh ah t aa p sil b t ah n ah v ih s k ow t sil ae t dh ah s n ow s w ey d sil ih n dh ah k sil eh r sil ah w ih n d k eh p t ah m b l ow ih ng sil b ah z ey m ow ih t d ih d s ow sil t ah t ay t er dh ae z ah m n p uw t ey s k ow t ah r aa ng hh ih m sil t uw k iy p sil w sil sil ay g ey v ah p sil g ae s t sil p sil dh ah w ih n ae d l ao s t sil ay f g aa t n ow m ao p uw l ae f t sil n aw ih s m ay t er n s ay dh ah s ah n ae d ih s m er s f r ah m dh ah l ow t sil dh ah s ah n jh eh n t ah l iy sil b r ey s sil ih n d ey k ow d ay r sil t ah s t r ow ng g er sil ih t s sil p r eh s t ih ng sil dh ah l aa t er sil ah n d dh r aa ng g er ih t s iy m sil t sil g l ow sil sil\n"
     ]
    },
    {
     "name": "stderr",
     "output_type": "stream",
     "text": [
      "/home/dmesg/miniconda3/envs/semi/lib/python3.8/site-packages/librosa/util/decorators.py:88: UserWarning: PySoundFile failed. Trying audioread instead.\n",
      "  return f(*args, **kwargs)\n"
     ]
    },
    {
     "name": "stdout",
     "output_type": "stream",
     "text": [
      "A6-1\n",
      "sil sil l iy s sil t ay sil t r iy sil m ay sil s iy sil b l uw sil l iy sil g er sil t aa er f iy sil t r uw hh sil t er ao n dh ah l ay v s p l iy s sil s eh r w ah z dh ah b ih k p r aa b l ah m t w ih n ah sil t uw g r uw p s sil s ah k aa m ah n ih z t r ay ih ng t uw d r eh s ey s iy ah v hh hh ow b l eh s n ey s sil sil hh ah l er n d hh aw t uw d ae w ah n hh iy w er s ih t iy ng y ah s ow l d sil hh ah s ah w iy zh ah n w ah s p l r iy b l ao r iy ah n ah hh ey n iy d ah k l aa s ih z t ah s iy sil sh iy w ah z d ah ng w ih s w er k f ao dh ah t ey k ah n d ah k d ah l ah k s sil sil sh iy y uw z d ah b l n d er t m ey k hh er s m ao s iy f ao b r eh f ah s sil sh iy l ay k s t ah t ey k w ao k ih n z ah p aa k eh v r iy m ao n ih ng sil dh ah s k uw s ih s ah m n iy s m ao f ao n ih ng t uw ih m p r uw sil ae d ah k sh ah n sil s ah b ih d ih ng s sil ah aa k ah t eh k ch er w ah z m ao l ah n ah n ah y uw n iy k sil sil\n"
     ]
    },
    {
     "name": "stderr",
     "output_type": "stream",
     "text": [
      "/home/dmesg/miniconda3/envs/semi/lib/python3.8/site-packages/librosa/util/decorators.py:88: UserWarning: PySoundFile failed. Trying audioread instead.\n",
      "  return f(*args, **kwargs)\n"
     ]
    },
    {
     "name": "stdout",
     "output_type": "stream",
     "text": [
      "A6-2\n",
      "ih t w ah s ah th ae n sil dh ah w ay iy k ow l b ah n t er s iy sil ah d s ah n sh ao n ah ao n dh ah s n ow k aa w er d er s b l ow sil w ah t s ah b iy l f ah s ay sil s ao sil ah n d ah uw k ae z ah w ay t s sil l ih t ah w ay t s aw s ah v dh ah sh iy p s ao n dh ah b l uw s iy sil w t ah t iy k m ay s ay m k t r ah b l ih ng k r ao z ah s k ae s d ey sil aa f t er ao l sil w ao t s ah r aa sh sil s ah d ah n l iy sil ah f r iy z ih ng k ow d k r s ah v eh r s k r ih s k r iy n d sil p aa s sil ah n d ah n ih r l iy b l ow dh ah s ah n ao m iy s iy sil ao t m ay w ey s ah n sil ao r l ih dh ah w n sil s ih s sh iy p s sil ah m g ow ih ng t ah b l ow l ah sil r ae n ow sil k ao s sil dh ah w uw ng n ow w ao t hh iy s ow sil s ow w ih n d b l ow ah n d b l sil ah l uw s ow hh aa r dh ah ah sh iy p s eh v r eh p t ah p aa r sil ao l s ah ng k uw d uw w ah z w ao sh ae z dh ah s eh l er s sh r iy p t ih n dh ah s iy ih n dh ah ay s b l aa s sil sh r ao k dh ah f iy s ah n d ah k r ay d ao ih ng ao ng g sil n ao l ah k iy m w ih n sil s ay d s eh sil w ay t hh ae v t t uw k r ao s m ay s er iy ah n ah k r ao s ah s ah t aa sil k ah s ah l ay k sh uw ih ng jh aa s hh ao s f r ah ng sil ih p l ay d ah w iy n sil y uw s iy n dh ah s k ay ah n d d ah n ao s ih ng g s ae p sh eh sil ah m f iy l ah v f ao r s ah n ah n jh iy sil sil\n"
     ]
    },
    {
     "name": "stderr",
     "output_type": "stream",
     "text": [
      "/home/dmesg/miniconda3/envs/semi/lib/python3.8/site-packages/librosa/util/decorators.py:88: UserWarning: PySoundFile failed. Trying audioread instead.\n",
      "  return f(*args, **kwargs)\n"
     ]
    },
    {
     "name": "stdout",
     "output_type": "stream",
     "text": [
      "A6-3\n",
      "sil s d dh ah s eh d sil l uh k ih ng s ao l f ah l sil ah hh ah ay d iy r* sil l ae s hh ae k ah n t ah s t ah s iy w ih sh ah v ao ih z ah sh r ao ng g er sil sil ay n ow hh uw v iy n sil s ae d dh ah w ih n sil w iy sh ow s iy sil r ih p l ay d s eh d sil d uw y uw s iy dh ah m ah n t ao ng dh eh sil s ah w ih n d ah l uh k v eh r dh ah s ae n w ah z ow n hh ih m sil y ah ng l ah w ah z w ow k ih ng l ow ng w ih n d ey r ow sil s ao dh ah m ao ng t ah n s sil w er s ow k ow sil z uw ih ng hh ay w iy w ih n hh r* er k ow s k iy w ao sil sil l s iy w iy s ah n ah v z ah m ih s t ao ng g ih n ah f t ah t iy s k ow l ah v hh ih m sil s ah jh eh s ih d ah s eh sil iy z iy sil ay k ah n d uw dh ae t hh iy n ow t ae n sil ah s ih dh ah w n d sil g ow ao ng dh ih n sil s eh d ah s eh sil v uw w ow f uw f r ah m b iy hh n ah k l ow sil dh ah w ih d b l ow ah n b l ow sil dh ah d ah s s r* hh aa dh ah dh ah p er s hh ae d t ah k l ih ng t uw z ah t r iy t s ao b iy ih ng s aa b ah w iy sil s ah m eh sh b l ah n d ey l aa d t dh ah ow t ao b ow t ah m ah v hh ih s k ow d sil ae d ah s n ow s w ay v ih n dh ah eh r sil s ah w ih n d ih k iy b l ao ng b r ow ih ng sil b ah s ah m ao ih d ih s ow sil dh ah t aa l er m ae n p ow d ah hh ih k ow ah r ao ng hh ih s k t uh k ih m b ao sil sil ay d uw ah sil k ae ah r* w ih n ah l aa s t sil ah hh uh n ow m ao p ow sil p ow f ah l ae f t sil n ow ih s m eh t er sil s ah dh ah s ah n ae t ih t m er d f r ah m dh ah k l ow sil dh ah n d ah s ae n jh n d l ih d p er iy s l iy ih n dh ah k ow l eh r sil dh ah sh t r ao ng g er ih d b r iy ey s l iy n sil l aa r d er ah n d r ao ng g er ih s iy m s t l ow sil sil\n"
     ]
    },
    {
     "name": "stderr",
     "output_type": "stream",
     "text": [
      "/home/dmesg/miniconda3/envs/semi/lib/python3.8/site-packages/librosa/util/decorators.py:88: UserWarning: PySoundFile failed. Trying audioread instead.\n",
      "  return f(*args, **kwargs)\n"
     ]
    },
    {
     "name": "stdout",
     "output_type": "stream",
     "text": [
      "B1-1\n",
      "sil d ih s sil t r ay sil t r iy m sil m eh jh er sil ih sh uw sil b l uw sil l ih v sil g er sil p ah t aa g r er f iy sil t er n ao n sil sil t er n aa n s ah l ay s p l iy s sil d eh r w ah z ah b ih k p r aa b l ah m b ih t w iy d ah t uw g r uw p s sil sil d ah g ah v er m ah d sil ih s t r ay ih ng t uw ah d r eh s dh ah ih sh uw ah v hh ow m l ah s n ah s sil sil hh iy l er n d hh aw t uw d r ay v w ih n hh iy w ah s s ih k s t iy n y ih r z ow t sil sil hh ih z v ih zh ah n w ah s p l er iy sil ae n d hh iy n iy d ih d g l ae s ih s t uw s iy sil sh iy w ah s d ah n w ih th hh er w er k f er d ah d ey sil ae n d k uh d t r ih l ae k s sil sh iy uw z d ah b l ae n d er t uw m ey k sil ah s m uw th iy f er b r eh k f ah s t sil sh iy l ay t t ih t ey k ah w ao k ih n d ah p aa r t eh v r iy m ao r n ih ng sil sil d ah s k uw s ih s t ah m n iy s m ao r f ah n d ih ng t uw ih m p r uw v eh jh ah k ey sh ah n sil sil d ah b d ih ng z aa r k ah t eh k ch er w ah s m ao r d ah n ae n y uw n iy k sil sil\n"
     ]
    },
    {
     "name": "stderr",
     "output_type": "stream",
     "text": [
      "/home/dmesg/miniconda3/envs/semi/lib/python3.8/site-packages/librosa/util/decorators.py:88: UserWarning: PySoundFile failed. Trying audioread instead.\n",
      "  return f(*args, **kwargs)\n"
     ]
    },
    {
     "name": "stdout",
     "output_type": "stream",
     "text": [
      "B1-2\n",
      "sil ih t w ah z ah f ay n b ah t v eh r iy k ow d w ih n t er s d ey sil ae z dh ah s ah n sh ao n d aw n sil ao n d ah s n ow k aa v er d er s b ah l ow sil sil w ah t ah b y uw t f uh s ay t sil ey th ao t sil ae d l uw k ae t ah l ih t w ay t s eh z ah v d ah sh ih p s ah n d ah b l uw s iy sil ay w aa n t ih t ey k m ay t ay m t r ae b l ih ng ah k r ao s dh ah s k ay t ah d ey sil ae f t er ao l sil w ah t s t ah aa sh sil sil sil s ah d ah n l iy sil ah f r iy z ih ng k ow b l ae s ah v eh r sil s k r iy ch t p ae s t sil ae n n ih r l iy b l uw d ah s ah n ah l ao ng w ih t ih t sil sil aw t ah v m ay w ey s ah n sil r ao d dh ah w ih n sil s iy d ow s sh ih p s sil ay m g ow ng t uw b l ow ah r ay t ao f k ao r s sil sil d ey w ow n t n ow w ah t s hh ih t ah m sil sil dh ah w n b l uw ae n b l uw sil ih t b l uw s ow hh aa r d sil d ah t d ah sh ih p s eh w s r ih t ah p aa r t sil sil ao t ah s ah n k uh d uw sil w uh th w ao ch ae t ah s ey l er s sh ih b er d ih n d ah ay s iy p l ae s t sil sh uh k d eh r f ih s s sil ae n d k r ay d aw t ih n ae ng g er sil n aa t ah g ey n w ih n t sil s ay d dh ah s ah n sil w ay d uw hh ae t uw k ao s m ih z er iy ae n k ey ao s ao dh ah t ay m sil sil sil b ih k ao s ay l ay k sh ow ih jh ah s hh aw s t r ao ng ay ae m sil r ih p l ay dh ah w ih n t sil y uw s ih t ih n d ah s k ay eh n t ih n ah th ih ng ih k s eh p sh ay sil b ah t ay m f uh l ah f ao r s eh n eh n er jh iy sil sil\n"
     ]
    },
    {
     "name": "stderr",
     "output_type": "stream",
     "text": [
      "/home/dmesg/miniconda3/envs/semi/lib/python3.8/site-packages/librosa/util/decorators.py:88: UserWarning: PySoundFile failed. Trying audioread instead.\n",
      "  return f(*args, **kwargs)\n"
     ]
    },
    {
     "name": "stdout",
     "output_type": "stream",
     "text": [
      "B1-3\n",
      "sil s eh d dh ah s ah n sil l uh k ih ng s ao t f ow sil ay hh ae v n aa d iy ah sil l eh s hh ah k aa n t eh s t sil t ih s iy w ih ch ah v ah s ih dh ah s t r ao ng g er sil ay n ow hh uw w uh w ih n sil s eh t d ah w ih n t sil w iy sh ae s iy sil r ih p l ay d ah s ah n sil d uw s iy d ae t m eh n d aw n d iy sil dh ah w ih n d l uw k w eh d ah s ah n w ah s p oy n t ih ng sil ey y ah ng m eh n w ah s w ao k ih ng ah l ao ng ah w ih n d iy r ow t s sil th r uw d ah m aw n t ih n s sil ih t w ah s ow k ow t sil hh iy w ah z w eh r ih ng ah hh eh b* iy w ih n t ah k ow t uw k iy p w ao r m sil sil l eh t s iy w ih ch w ah n ah v ah s ih s t r ao ng ih n ah f sil t uw t ey k hh ih s k ow t ao f hh ih m sil s ah jh eh s t ih d dh ah s ah n sil iy z iy sil sil ay k ah n d uw d ae t ih n ow t ay m sil b ow s t ih dh ah w ih n t sil g ow ao n d eh n sil s eh dh ah s ah n sil ay w aa ch f r ah m b ih hh ay d ah k l aw t sil sil d ah w ih n b l uw ae n b l uw sil ih t b l uw s ow hh aa r d dh ae t dh ah b er s hh ae d t uw k l iy n t d t r iy s t ih s t ao b iy ng s w eh p t ah w ey sil dh m ae n sh ih v er d sil ae n d d ih d ah ah t aa b aa t ah n ah v hh ih s k ow t sil ae t ah s n ow s w er d ih n d iy eh r sil sil d ah w iy n k eh p ah n b l ow ih ng sil b ah t dh ah m ao r ih t d ih s s ow sil d ah t ay t er s ah n m ae n p ow d ih s k ow t ah r aw n d hh ih m t ah k iy p w ao r m sil sil sil sil sil ay g ih v ah p sil g ae s dh ah w ih n ae t l ae s t sil ay v g ao t n ow m ao r p aa p l ae n aw ih t s m ay t er n sil s eh d dh ah s ah n sil ae z ih t ih m er zh f r ah m dh k l aw t sil sil d ah s ah n jh eh n t l iy b r iy d ih n d ah k ow d eh r sil dh ah s r ao ng g er ih t b r iy th ih n sil dh ah l aa jh er ae n d r aw n d er sil ih s iy m s t uw g l ow sil sil\n"
     ]
    },
    {
     "name": "stderr",
     "output_type": "stream",
     "text": [
      "/home/dmesg/miniconda3/envs/semi/lib/python3.8/site-packages/librosa/util/decorators.py:88: UserWarning: PySoundFile failed. Trying audioread instead.\n",
      "  return f(*args, **kwargs)\n"
     ]
    },
    {
     "name": "stdout",
     "output_type": "stream",
     "text": [
      "B2-1\n",
      "sil sil sil l iy s sil t r oy sil t r iy ng sil m eh zh er sil iy sh uw sil l uw sil l iy ng sil k ao sil f t aa g r er f iy sil t er ah sil s er aa n d ah l ay s sil p l iy sil l eh r w ah s ah b p r aa b ah m b iy t r iy n d ah t uw g r uw p s sil t ah g aa r er m ah n t sil ih d sil t r ay ng t uw t r ae s dh ah iy sh uw ah v hh ow m l ah s n ah s sil hh iy l er n d hh aw t uw t r ay v w ah n hh iy w ah s ah k s iy ng y er z ow l d sil hh ih s v iy zh ah w ah b l ah iy ae n d hh iy n iy d ih d g l ae s ih t uw s iy sil sh iy w s d eh n w ih s er r w er r k f ao d ah d ey ae n k uw l r ih l ae k s sil sh iy uw s ah b l eh n d er t uw m ey k l ow s m uw s iy f ao b r eh k f ah s t sil sh iy l aa k s t uw t ey k ah w ao k iy n d ah p aa r k eh v r iy m ao n ih ng sil d ah s k uw l s ih s t ah m d iy s m ao f ah n d ih ng sil t uw iy m p r uw ae d ah k ey sh ah n sil d ah b iy d ih ng s sil aa k ah t eh k ch er w ao m ao r d ah n eh d iy y uw n iy k sil sil\n"
     ]
    },
    {
     "name": "stderr",
     "output_type": "stream",
     "text": [
      "/home/dmesg/miniconda3/envs/semi/lib/python3.8/site-packages/librosa/util/decorators.py:88: UserWarning: PySoundFile failed. Trying audioread instead.\n",
      "  return f(*args, **kwargs)\n"
     ]
    },
    {
     "name": "stdout",
     "output_type": "stream",
     "text": [
      "B2-2\n",
      "sil ih t w ao s ah th eh n b ah s w aa iy k ow d w ih ng f er s ey sil ae z ah s ah n sh ow n d ng ao n ah s l ow k hh aa w er d er s b ih l ow sil w ao t s ah b y uw t f ah s ay sil s ao t sil ah n l uh k ae s ah l ih t w ay t s ey l s ah v dh ah sh iy p s ao n b l uw s iy sil ah w ow n t s k m ay t s ae m t aa l ih ng ah k r ao s ah s k ay t d ey sil aa f t s ao sil w ah s ah r aa sh sil s d ah n l iy sil ah f r iy s ih ng k ow b aa s ah v eh r s r iy n sh p aa s t sil ah n n ih r l iy b l uw d ah s eh ng l ao w ey s eh sil ao t s ah v m ay v ey s ae sil r ao d v iy n sil s iy g l ow sh iy p s sil ah n g ow s b l ow l ah l ae d ah v k ao s sil l iy w ow s n ow w ao s iy l ah sil t ah v iy n b l uw ah n b l uw sil t b l ow s ow hh aa r sil d ae t ah sh ih p s eh l s sil r ih p s sil ah p aa r t sil ao r s eh n ng k uw t uw w ah s w ao sh ae s s eh l sil sh ih w s sil ih n d iy sil eh s b l aa s t sil sh uh k l eh r f iy s ae n k r eh l ah v y ao ng g er sil n ao t s ow d iy m v iy n sil s ay n ah s ah n sil w ay t hh ae v t ah k ao s m iy s er iy ae n k ey l s ah v dh ah t ay m sil b ih k ow s ay l k sh ow ih ng d ah s hh ao s f ah m ey ae m sil r ih p l d w iy t sil ah s iy t ih ng d ah s k ay ae n t uw n ah s ih ng k s ah p t sh ay n sil b ah s m f uh f ao eh n iy eh n er jh iy sil sil\n"
     ]
    },
    {
     "name": "stderr",
     "output_type": "stream",
     "text": [
      "/home/dmesg/miniconda3/envs/semi/lib/python3.8/site-packages/librosa/util/decorators.py:88: UserWarning: PySoundFile failed. Trying audioread instead.\n",
      "  return f(*args, **kwargs)\n"
     ]
    },
    {
     "name": "stdout",
     "output_type": "stream",
     "text": [
      "B2-3\n",
      "sil ah sil s ay d ah s ah n sil l uw k ih ng s ow t f ow sil ah hh ae v ay d iy ah sil n ah s ae v k ow ng t ah s sil t ah s iy m sh ah v ah s ih ah s t r ao ng g er sil ay n ow hh uw v ih ih ng sil s d v n t sil v iy sh ah sh s iy sil r ih p l ay d ah s ah n sil t uw s ng l ae s m eh n zh ao n d eh r sil d ah v n l uw k w ih r d ah s eh s p ao n t ih ng sil ah y ah ng m ah w uh s w ao k ih ng ah l ao w ih n d iy r ow sil s r uw d ah m ao n t ah n s sil ih t w ao s s ow k ow t sil hh iy w ow s w ih r iy ng hh ae v m iy n s ah k ow s k iy p w ao sil l ae s iy v ih sh w eh v ah s ih s sil t r ao ih n ah f t ah t ey k hh iy s sil k uw t ao f hh iy sil s ah ch ae s ih t s eh n sil iy dh iy sil eh t ah n d uw l ah t s ih n ow t ay m sil b ow s t ih d ah w iy n t sil g ow n sil s ay d ah s ah n sil ah w sh uw f ah m b iy hh ae n ow k ow t sil d ah iy n b l uw b l uw sil ih t b l uw s ow hh aa r l ae t dh ah b er s hh ae l ae d t uw k l iy n t t ah t r iy n s t uw s b iy ng s r ae p ah v ey sil d ah m ae n sh uw er d ae n d iy d ah b t ah t ao b aa t s ah v ih k ow s ae s ah s m ow sil s w ao r d ih n d iy eh r sil t ah v iy n s sil k eh p t t uw b l ow iy ng sil b ah t d ah m ao t iy s sil t t ae n t f er d m ae n p uw t hh ih s k ow s er r aw n hh ng sil t k iy p ao ng sil ae t d w aa p sil g ae s dh v iy n ae t l aa s t sil ah n g ow s n ow m ao p aa f l t sil n ao s m ae t s ah n sil s ay d ah s n ae s iy t sil sil ih m ao zh ah f r ah m d ah k l ow t sil ah s ae n ch ah n t uw l iy b r iy s ih ng sil ih n d ah k ow d eh r sil s t r ao ng er s b r iy s ih ng sil l aa jh er ae n r ow n d er ih s s iy m t ah g l ow sil sil\n"
     ]
    },
    {
     "name": "stderr",
     "output_type": "stream",
     "text": [
      "/home/dmesg/miniconda3/envs/semi/lib/python3.8/site-packages/librosa/util/decorators.py:88: UserWarning: PySoundFile failed. Trying audioread instead.\n",
      "  return f(*args, **kwargs)\n"
     ]
    },
    {
     "name": "stdout",
     "output_type": "stream",
     "text": [
      "B3-1\n",
      "sil sil l iy sil er sil f ow t ow g r aa sil ah n aa sil t ah aw l ah l ay s sil p l iy s sil l eh w ah z ah b iy g p r aa b ah m sil b ih t w iy n l ah t uw k r uw p s sil l ow k aa m ah t iy sh ay ng uw ch aa s sil l ah iy sh uw ah v ah hh ow m l iy s n s sil sil hh iy l n d hh aw t uw t r ay v sil w eh n hh iy w ah s ih k s t iy n y s ow t sil hh ih s v iy zh ah w ah z b r ao sil ah n d ao hh iy n iy d ih d ah p l aa s iy ch uw s iy sil sil sh iy w ah d aw w ih z sil w ih dh hh er w ao k f ao l ah d ey sil ae n d ah k uw l ah r ih l ae k s sil sh iy y uw s t ah p l eh n d er t uw m ey k ah s m er s iy f ao sil b r ae k f er s t sil sil sh iy l ah k s t uw t ey k ah w ao k ih n ah p aa k sil v r iy m ao n ih ng sil sil l ow s k ao r s ih s t ah n ih s m ao sil f ah n d ih t uw ih m p r uw eh jh ah k ey sh ah n sil l b ih d ih ng s aa k ih t ae k ch er w ao z m ao er ae n d ah y uw n iy k sil sil\n"
     ]
    },
    {
     "name": "stderr",
     "output_type": "stream",
     "text": [
      "/home/dmesg/miniconda3/envs/semi/lib/python3.8/site-packages/librosa/util/decorators.py:88: UserWarning: PySoundFile failed. Trying audioread instead.\n",
      "  return f(*args, **kwargs)\n"
     ]
    },
    {
     "name": "stdout",
     "output_type": "stream",
     "text": [
      "B3-2\n",
      "t ah w ao z ah f aa n b ah d w ay r iy k r ao v ay r iy k d w ih n t er s t ey sil ae d ah l s ng sh ao n sil aw ao ng ah s l ow k aa v er d er s b ih l ow sil w ah t ah b y uw t ah f ah s ay t sil l ih t s ao t sil ah n d ah l uw k t ae d ah l ih t ah w ay d ah s ey s ao v l sh r p s sil ah l ah b r l uw s iy sil ay w aa n t uw t ey k m ay t eh n t aa v ih ah k r ao s l ah k ay t ah d ey sil aa f t ah ao sil w ah s ah r aa sh sil s ah d ah l iy sil ah f r ey ih k ao d ah b r aa s t ao sil s k r ae sh t ah p p aa s t ae n d ah sil n ih r l iy b r uw l ah s aa ah l ao w ih dh iy t sil aa t ah m ay w ey s aa sil r ao d ah l ao w iy ng t sil s iy r ow s t r iy p s sil ah n g ow ih ng t uw b r ao l ey sil r aa n sil r ae t f sil k ao s t sil sil l ey w n t ah sil l ow w ao s hh iy l eh sil l ow w ih n t sil b l uw sil b r l uw ae n d ah b l uw sil iy t ah b l uw s ow hh aa t sil l ay l ow sh r iy p s ah s eh s r ih t ah p aa t sil ao l ah s aw uh d uw w ah z ah sil w ao sh ae z ah l ow s eh ah s sh iy v er ih l ah ay s iy sil b r aa s t sil sh uw k t ah l eh f iy s ah n d ow k r ae d t ih ae ng g ah sil n ao t ah sil g eh sil w ih n t sil s t eh l ah s ah sil w ay d uw uw hh ae t uw k ow s m ih z er r iy ae n d ah k eh s ao l ah t ah sil b iy k ao ay l ay ah sh ao ih ng t aa t ah hh aw s t r ah ay ah m sil r ih p ay d ah l ah w iy ng t sil y uw s iy s iy l ah s k ay ah n d ah d uw n ao s ih ng iy s t ah s t r ay ng sil b ah d ah ay ah m ow f ao v ah sil f ao s ae n d ah ae n ah t r iy sil sil\n"
     ]
    },
    {
     "name": "stderr",
     "output_type": "stream",
     "text": [
      "/home/dmesg/miniconda3/envs/semi/lib/python3.8/site-packages/librosa/util/decorators.py:88: UserWarning: PySoundFile failed. Trying audioread instead.\n",
      "  return f(*args, **kwargs)\n"
     ]
    },
    {
     "name": "stdout",
     "output_type": "stream",
     "text": [
      "B3-3\n",
      "sil sil s eh l ah s aa sil l uw k ih ng s ao t p ao sil ay hh ae v ay d iy ah sil l s ae w sil ah k aa n t eh s t t uw s iy w t r v aa s ih dh ah s t r aa ng g ah sil ay n ow sil hh uw w ih sil s ah d ah l w ih t sil m iy sh uh s iy sil r ih p aa l ah l ah s aa sil t uw uw s iy l ay m ah sil d n l eh r sil l ow w ih n z l uw k t ah w eh l ah s aa w ah p oy n t ih sil ah y ah m ae w ah z w ao k ng ah ao w ih n d iy r ow t sil s r uw l ah m aa n t ah s sil eh t ah w ao s ow k ow t sil hh w ah z r aa ng ow sil hh ae v iy w ih n t uh k ah t sil t uw k iy p w ao sil l ah s iy w iy t aa v aa s ih t r aa ng g er iy n ao t uw t eh k l ih sil t ey k hh iy s k s sil k ow t ao f sil hh iy sil s ah t r ae s l ah s ah sil iy th iy sil ay k eh n d uw l ay s iy n ow t ah sil b er s t ah l ow sil w ih n t sil g aa sil g ao l sil s ae d ah l ah s ah sil w ao ch y uw f r b iy hh ae n d ah k r ao t sil l ow ih n t sil b r uw ae n d b r uw sil iy t p r uw s ow hh aa t sil l ae l ah b er s hh ae sil t uw s ih ih ng t uw ah t r iy s sil t uw s t ao b iy ih ng s w iy t ah ah w ey sil l ow m ae n sh v er d ae n d ah sil d iy d aa p sil l ow sil b aa sil l ah t ah b ah b aa t ah sil ah v ao sil l eh k ao sil ah v hh ih s k ao s sil ae z ah l s l ao s eh d ah iy l ah eh sil l ow w n t sil k eh p t ah sil ah sil eh p ah sil l ow w ih t sil k p aa sil b r ao sil b ah t ah l ow m ao r iy s d iy ah s ao sil l ah t ay er l ah m eh n p ao hh iy s k ao d ah r aa n hh ih m t uw k iy w ao sil ay g ey v ah p sil ay g ey v ah p g eh s sil g ae f ow l ah sil g ae s sil p ah sil g ae s p l ow w ih n t ae d ah l aa s t sil sil ah v g ow sil n ow sil ah v g t n ow m ao p ah f sil l ah f t sil n ow sil ih s m ay t eh n sil s ae l ah s ao sil ae ah iy z ah m zh l ah f r aa ng l ah sil k r ao t sil l ow s aw jh eh n l iy b r ey sil l ow s ah sil eh n t ah l iy sil b r iy s ng ih l ah sil ao l r sil l ah s t r aa ng g er iy t ah sil b r ey s ih sil l ow s sil l aa jh er ae n d ah r aa n d er iy s iy m s sil t uw sil g r ow sil sil\n"
     ]
    },
    {
     "name": "stderr",
     "output_type": "stream",
     "text": [
      "/home/dmesg/miniconda3/envs/semi/lib/python3.8/site-packages/librosa/util/decorators.py:88: UserWarning: PySoundFile failed. Trying audioread instead.\n",
      "  return f(*args, **kwargs)\n"
     ]
    },
    {
     "name": "stdout",
     "output_type": "stream",
     "text": [
      "B4-1\n",
      "sil l iy s sil t r ay sil t r iy ng sil m ae l er sil sh r uw sil p l uw sil iy sil g er sil f uh t ow g r ae f sil t er sil t er z ah l iy p s sil p l iy s sil sil s eh r w ah s ah sil b ih k sil p r m sil b iy t iy n z ah t uw g r ow p s sil ah g aa m ah n d ih s t r ay ih ng t uw ah d r eh s iy sh uw ah f sil ow m l iy s n ih s sil sil hh iy l er n d ih d hh ow t uw d r ay sil hh ao t uw t r ah sil hh ow t uw d r ay sil w ow n t hh iy w ao s ih s t ih y ah s ow d sil sil hh iy s sil w iy sh ah w ao s p l ao v iy sil ah n d ah hh iy n iy d ih d ah sil g l ae s ih s t uw s iy sil sh iy w ah s sil d ao n w ih th hh ao w er k f ao dh ah d ey ah n d sil k uw t r ih l ae k s sil sil sh iy sil y uw s sil d ah sil l ah sil p l n d er t uw m ey ah s m ao l s iy f ao b r eh k f er s sil iy l ae sil s sil t uw sil t ey k ow w k ih n dh ah sil p aa k eh v iy sil m ao n ih ng sil sil s ah s k uw s ih s t er m n iy s m ao f ah n d ih ng sil f ow n d ih ng sil uw ih ng r uw sil eh d ah k iy sh ah n sil sil s ah b iy t ih ng s sil w ah s sil t ih s sil t er sil w ao s m ao n d ah n ah d y uw n iy k sil sil\n"
     ]
    },
    {
     "name": "stderr",
     "output_type": "stream",
     "text": [
      "/home/dmesg/miniconda3/envs/semi/lib/python3.8/site-packages/librosa/util/decorators.py:88: UserWarning: PySoundFile failed. Trying audioread instead.\n",
      "  return f(*args, **kwargs)\n"
     ]
    },
    {
     "name": "stdout",
     "output_type": "stream",
     "text": [
      "B4-2\n",
      "sil sil ih t w ao ah f aa n sil b ah t v ay r iy sil k uw t v ih n t er s t ey sil ae t ah s ah ng s ah n d ah ng sil ah n d sil dh ah sil aa ng th ah sil n ow sil p aa er iy sil d ah sil l er s sil b ih l sil w ah t ah sil b uw f s sil ay t s sil ih t s ow s sil ah n d ah l uh k ae ah l ih t uw w ay s sil s iy eh sil s eh s sil ah f sh iy p ah ng z ah sil b l uw s sil v aa t uw t ih k m ay t m t r aa v l ih ng k r ao s ah s k ay t sil d ih sil f sil ah f er ao sil w ao s er sil r aa sh sil s ah d ah l iy sil ao r iy s iy ng k ow t sil l ae s t ah sil ao f r sil k r ow sil d ey ah sil p aa s t sil ah n d n ih r l iy sil b ih l ow dh ah s sil ah l ao ng v ih th t sil ao t ah f m ay v iy s ah sil r ow sil d ey sil dh ah v iy ng sil sil s iy l uw th ch iy p s sil ah m g ow iy ih ng t uw l iy sil t uw b l s ah m r ae t ao f sil k l s sil s iy w ah t s n ow sil w ah t iy p s ah sil s ow v iy ng sil t sil b l ow sil b ih sil b l uw ah n d b l uw sil ih t sil b l uw s t ow hh aa t sil s ah t s dh ah sh iy p s iy s sil r aa t ah sil ah p aa t sil ah z ah s ah n k uw t sil d uw sil w ah s sil w iy sil w ah sh ae ah s iy w s sil s aa v r iy d sil ih n s ah sil b l aa s t sil sh aa k s ah n m ah iy s sil ah n d ah sil k r d iy sil ao t s sil iy n sil aa ng g er sil n t ah d iy ng sil f ih ng t sil sil s ay d ih ah s ah sil sil w ay t hh ae v ah k r ow s m iy s r iy ah n d ah sil ao th ah t ah m sil sil b iy k ow s ay l k s sh ow iy ng sil jh ah s ah hh ao s t r ao ng ay aa m sil s l iy sil p d ey sil d ah sil ah s v iy ng sil sil y uw s iy t iy ng th ah s g ay sil ah n d sil d uw n aa s ih ng eh k s ae f s ih ng sil s sil ah t ah m ao ao f ao k er sil f ao s sil ah n dh ah sil ah n ah jh iy sil sil\n"
     ]
    },
    {
     "name": "stderr",
     "output_type": "stream",
     "text": [
      "/home/dmesg/miniconda3/envs/semi/lib/python3.8/site-packages/librosa/util/decorators.py:88: UserWarning: PySoundFile failed. Trying audioread instead.\n",
      "  return f(*args, **kwargs)\n"
     ]
    },
    {
     "name": "stdout",
     "output_type": "stream",
     "text": [
      "B4-3\n",
      "sil n aw sil s ae s s ah n sil l uw k ih ng sil s ow t sil hh ae v ah sil ay d iy r sil s w ao k ah ng sil t ih s sil k aa n t eh s sil sil uw s iy v iy ch ah f aa s ih ah sil s t r ao ng g er sil ae n n ow sil uw v ih v ih sil s s dh ah v aa sil ih ng t sil v iy sh eh s iy sil s ih p l ey sil d ey sil t sil dh ah ah n sil t uw y uw s iy s ae t sil m aa n d ah th ih r sil dh ah v n l uw k ae sil b l uw k sil d ah sil v ih r z ah s aa n w ah s ah sil p ow t ih ng sil ah y ah n m ae n w ah s w ao k ih ng l ng s ah v ih ng sil dh ey sil k r ow sil ah v n d ih r ow t sil k r uw sil s r uw ah sil m n t ih n s sil ae t w ao s uw k ow t sil hh iy w ah z w ih ng ah hh ae v ih ng v ih n t k t s sil t uw ih w sil l ae s iy sil v w ih ch r aa ah f s ih s t r ng g er sil v ih t r ng ih n f t uw t ih k iy s ow t ah f dh sil ih ng sil s t r aa t ey ah s ah n sil iy z iy sil t ah n d uw z ae t ih n ow t ah sil b ow s t ih th ah v ih ng sil b ow aw s ng sil s ae t ah s ah sil ah iy w ah t sh f ao ng sil b iy hh ae n d sil k ao t sil sil dh ah v ih t sil p l uw ah n d sil l uw sil ih t p l uw s ow k ow s s ah sil p er s t r uw k l ih ng sil t uw z ah t iy s sil t r uw s sil ah sil b iy ng ae t ah v iy sil dh ah m aa n sil s v ih ng er sil ah sil ah n d sil d ey t sil ah p sil sil t ao sil b aa t s sil sil b ow t ah n sil ao f hh iy s k ow d sil ae t ah s ah n sil s ih v iy t sil ih n th ah eh r sil dh ah v n t sil k ih p t ah ng p l ow sil p l uw ih ng sil p l uw iy sil b t s m ao ih t s d ih t s ow sil s ah t ih ng sil g er sil th ah m ae n sil p uw sh t ah s k ow t sil ah r aa ih ng t uw k ih m w ao sil ae t iy w sil b ae s t sil p ah t th ao sil v ih n t sil ae t l ah s sil ah hh g ao s n ow m ao sil p uw f t ah sil l f t sil n aw ih s sil m ay t ah sil ih s m ay t r ah sil s ae t ah s ah n sil ae s ih s ih ih m ao ch er sil ih m ao sil m ao sil t r er sil d ih t sil f r ah m th ah sil k r uw t sil ah s ay sil g ae t l ih sil b r ae s ih t sil ih n dh ah sil k ow t eh r sil dh ah s t r ao ng g er ey s ah sil p r uw s ih ng sil s l ow sil m aa ch er sil ah n d ah sil r ow t jh er ey t s iy n t sil t r uw sil k l ow sil sil\n"
     ]
    },
    {
     "name": "stderr",
     "output_type": "stream",
     "text": [
      "/home/dmesg/miniconda3/envs/semi/lib/python3.8/site-packages/librosa/util/decorators.py:88: UserWarning: PySoundFile failed. Trying audioread instead.\n",
      "  return f(*args, **kwargs)\n"
     ]
    },
    {
     "name": "stdout",
     "output_type": "stream",
     "text": [
      "B5-1\n",
      "sil dh ih s sil t r ay sil g r iy sil m eh er sil ih sh uw sil l uw sil l ih sil g r er sil f ow t aa ow l iy sil t er aw sil sil t er ah dh ah l ay s p l iy s dh eh r w ah z ah b ih g p r aa b l ah m sil b iy t iy n dh ah t uw g r uw s dh g er m eh t ih z t r ay n t uw eh d r eh s dh iy ih sh uw ah v hh ow m l ah s n ah s sil hh iy l er d hh aw t ih d r ay sil b ah n hh iy w er s ih s t iy n y ih r s eh d sil hh iy z v ih zh ah n w ah z f l ao r iy sil ae n hh iy n iy d ih d g l aa s ih s t ih s iy sil sil sh iy w ah z d ae n w ih z hh er w er k f ao dh ah d ey sil ae k r uw r ih l ae k s sh iy y uw z d ah ae er t uw m ey k ah z m uw dh iy f ao b r ae f er s sil sil sh iy l ay s t uw t ey k sil ah w ao ih n dh ah p aa r k eh v r ih m ao r n ih ng sil dh ah s k uw s ih s ah dh iy z m ao r f ah n d ih t uw ih ng p r uw dh iy eh d ih g ey sh ah n sil dh ah b ih d ih s aa k ih t eh k ch er sil w er s m ao r ae n ih m iy k sil sil\n"
     ]
    },
    {
     "name": "stderr",
     "output_type": "stream",
     "text": [
      "/home/dmesg/miniconda3/envs/semi/lib/python3.8/site-packages/librosa/util/decorators.py:88: UserWarning: PySoundFile failed. Trying audioread instead.\n",
      "  return f(*args, **kwargs)\n"
     ]
    },
    {
     "name": "stdout",
     "output_type": "stream",
     "text": [
      "B5-2\n",
      "sil ih w ah z ah f n sil dh ae t w er r ih k ow w ih n t er s t ey sil ae z dh ah s ah n sh ow n d n dh ah s n ow k ah er er s ih l ow sil w ah ah b y uw f ah s ae t sil ih s ao s sil ae n l uh k ae sil dh ah l ih t ah w ay s ae s ah v dh ah sh ih p s ah n dh ah b l uw s iy sil ae w aa n t ih t ey k m ay t ay n t r eh v l ih ng ah k r ao s dh ah s k ay t d ey sil aa f t er ao l sil w ah z ah aa sh sil s ah n l iy sil ah f r l ih ng k ow d sil b l ae s ah v eh r s k r ih ch p s t sil ae n n iy r l iy sil b l uw ah s ah n sil ah l ao ng w ih dh ih s sil sil aa dh ah m ah w ey sil s n sil r ao r dh ah w d sil s iy dh ow s ih s ae n g ow ih n t uw sil b ao d ah r ae d ah v k ao r s dh ey w ah d ah w ah t hh ih d ah sil dh ah w ih n d sil b l uw ae n b l uw sil ih t g uw s ow hh aa sil dh ah ah sh ih p s ae s r ae t ah p aa r s sil ao dh ah s n k uh d uw w ah s w ao sh sil ae sil dh ah s eh l er z sh aw er ih n dh ah sil ay s iy b ae s t sil sh uh b eh r f eh s s ae n k r ae d aw ih ng ae g er sil n aa ah g iy n sil w ih n sil s aa dh ah s ah n sil w ay d ih hh ae t ah k ao z m ih z ah r iy ae n dh ah k ey aa s ao l dh ah t ay m sil b ih k ah s ay l ae sh ow n jh ah s hh aw s t r ay ae n sil w ih p l ay dh ah w ih n d sil y ih s ih t ih n dh ah s k ay sil ih n d ah n aa s ih ih k s ah sh ay n sil b aa s ay ah n f ao l ah f ao r s ae n ae n ah zh iy sil sil\n"
     ]
    },
    {
     "name": "stderr",
     "output_type": "stream",
     "text": [
      "/home/dmesg/miniconda3/envs/semi/lib/python3.8/site-packages/librosa/util/decorators.py:88: UserWarning: PySoundFile failed. Trying audioread instead.\n",
      "  return f(*args, **kwargs)\n"
     ]
    },
    {
     "name": "stdout",
     "output_type": "stream",
     "text": [
      "B5-3\n",
      "sil sil s ay dh ah s n sil dh uh k ih ng s ow t f ow sil sil ay hh ae ah n ay d iy sil l ay s ay v w k ah n hh ae s t s iy w sh uh ah s ih s t r ah g er sil ah n ow hh uw w uh w ih ng sil s ay dh ah w ih n d sil sil w iy sh ah s iy sil r ih p ay dh ah s ah n sil d uw y uw s iy d ae m ae n d ah dh eh r sil dh ah w n l d ah w dh ah s ah w ah z p ao t ih sil ah y ah n ae w ah z w ao k ih ng ah l ao ah w ih n d ih g er sil dh uw dh ah m aa t ih n s sil ih t w ah s ow k ow sil hh iy w eh r ih ah hh ae v iy w ih d er k ow t uw k iy p w ao sil l eh s iy sil w ih sh w ah n ah v b ah s ih s t r ah er ih n aa sil t uw s ih t hh ih z k ow sil ay ih ng sil s ah jh eh s t ih dh ah s ah n sil iy v iy sil ay eh n d uw d ae t ih n n ow t ay n sil b ow s t ih dh ah w ih n d sil g ow aw n dh eh n sil s ay dh ah s ae n sil ae w ah t sh iy f r ah m b ih hh ay n d ah k l ao th sil sil dh ah w iy n d b l uw ae n b l uw sil ih g uw s ih hh aa r sil dh ah dh ah b er s hh ae t ih s iy t uw ah t r iy z ih s t ao b iy s w eh p t ah w ey sil sil sil dh ah m eh n sh eh er d sil ae n dh eh sil dh ah t ao b aa r t ah n ah v hh ih z k ow d sil ah dh ah s n ow s w er d ih n dh iy eh r sil dh ah w ih n d sil k ih p t aa n b l ow ih ng sil b ah dh ah m ao r iy d ih s eh sil dh ah t ay t er d ah ae n b l uw d hh ih z k aw d er w aa hh ih ng sil t uw k w ao sil ay g ey v ah sil g ae s t ah v w ng n sil ae n l s t sil ay g aa n ow m ao r p ae f l ay t sil n aw sil ih s m ay t er n sil s ay dh ah s ae n sil ae z ih t ih m er zh t f r ao m dh ah k l ao th sil dh ah s ae n sh ae t ah l iy b r iy s ih n dh ah k ow r sil dh ah s t r ao g er ih t b r ey s ih ng sil ah l aa jh er ae n r aa d er ih s iy ng t ih p l uw sil sil\n"
     ]
    },
    {
     "name": "stderr",
     "output_type": "stream",
     "text": [
      "/home/dmesg/miniconda3/envs/semi/lib/python3.8/site-packages/librosa/util/decorators.py:88: UserWarning: PySoundFile failed. Trying audioread instead.\n",
      "  return f(*args, **kwargs)\n"
     ]
    },
    {
     "name": "stdout",
     "output_type": "stream",
     "text": [
      "C1-1\n",
      "sil s iy s sil f w ay sil t r eh m m ae s er sil ae s iy sil b uw l uw sil l ey v sil g er sil p aa t er sil r aa sil f ao f ao t ah r er sil ah t ah d ah l ae t ah p l iy s sil d eh r w ao s ow b ih v ah p r aa p ah m sil b iy t w iy sil d ah t uw k r uw ah s sil d ah sil g aa m ah n t ih ah t r ay ih ng t uw sil ah t r eh s d ah ay s iy ah v d ah sil hh ah b l s t iy s sil hh iy l er n d hh aw t uw t r ae v w ih n hh iy w ao s ih k s t iy n y ah s sil ow t sil hh iy s w ey sh ah w ao s l ah sil ay sil r iy aa n d ah sil hh iy n iy d ih d sil g r ae s sil g r aa s ih s t uw th iy sil sil sh iy w ao ah sil d aa sil w ih th f er w ao d ah f ao d ah d ey sil aa n d ah sil k uw d r ih l k s sil sh iy y ow s t ah ah sil ah n sil ah n d ah sil t uw m ey k ah sil s m ao sil m ow sh ih ng f ao sil b r ae k f ao t ah iy l k s sil t uw t ey k ah ah sil k ih n d ah p aa k sil ae r iy m ow n iy sil d ah f ah g uw sil f eh s t ah m sil n iy s sil m aa sil f uw f uw t sil f ah m sil f ao t ih ng sil t uw sil iy m p r uw sil ae d ah k ey sh ah n sil d ah b iy d ah ng s sil aa sil k uw d t r iy t ao sil w ao s ah sil m ao d ah n sil aa n d ah sil y uw sil r uw k ah n sil sil\n"
     ]
    },
    {
     "name": "stderr",
     "output_type": "stream",
     "text": [
      "/home/dmesg/miniconda3/envs/semi/lib/python3.8/site-packages/librosa/util/decorators.py:88: UserWarning: PySoundFile failed. Trying audioread instead.\n",
      "  return f(*args, **kwargs)\n"
     ]
    },
    {
     "name": "stdout",
     "output_type": "stream",
     "text": [
      "C1-2\n",
      "sil iy t w ao s sil f ae sil aa d ah w eh r iy ow t w ih n t er s t ey sil aa s t ah s ah n sil ao sil b aa sil ng d ah sil s m ao ng k aa er d ah sil er s sil r ih sil b l ow sil w ah t b ih t ah f ah l ay t iy t ah sil s aa sil sil ah n d ah l uh k ae t ah sil d ah l iy t w ae t ah sil s eh s sil ow d ah sil sh eh p s sil aa ng d ah sil l ow s iy sil aa w ah ng t uw t k sil m ay sil p aa sil t r ae v ah l ih ng sil aa f t ah sil s ah ae t d ey sil aa f s ah d ae t sil w ah s t ah r aa sh sil r aa sh sil s aa d ah l iy sil ah sil f ey s ih ng sil k ow d sil l aa s t sil ao ae sil s r ih ah p s t aa n d ah sil n iy l sil b l ow sil d ah sil s aa sil l aa w ey s ih t sil aa ng sil aa l sil ah m ay v ey s ah n sil r ow sil d t ah d sil w ih ng sil s iy sil dh ih s sh iy s sil ah m g ow ih ng t f uw sil b l ow ih ng sil d ah r ae t ah f t ah k ao s sil d ah w ah n t ah n ow sil w aa t ah hh ih t d ah sil d ah w ih n t ah b l aa n d b l sil l ow ah n d b l sil t ah b l ow s ow hh aa t dh ae dh ah sh ih p s ah s ey w sil r ih p ah d ah sil ah p aa t sil sil ah d ah s ah n k uw d ah b iy sil k uh d ah sil d ow sil w s t dh ah sil w aa sh ae s ah l ah s s eh l s sil s eh t r ah sil aa n d ah sil f eh d r ah s ey sil s eh w ah d ih n ah sil ae s ah b l ow aa s t sil sh aa k t ah f ao s t ah aa n ah k r ae ah sil aa t ah sil ih ng sil ah n sil aa n g iy sil l ow ah g eh w ih n d sil s ay t ih d ah dh ah s ah sil r ay d ah hh ae v ah k ey sil v d d ah t uw hh ae v t uw ih s sil m ih s t ah aa n d ah sil k ao s sil k aa s l t ah m sil b iy k ah s ay l ae k sh ow ng sil jh aa s t ah hh sil s ah t r ao ae ae m sil r ih p iy t ih d ah d ah w ih n d sil sil iy sil n y uw s ey t iy ih ng d ah s g aa sil ah n d ah d uw n l aa s ih k s ae t ah sh ae sil b aa d ay m ow f ao ah w ah sil f ao s aa n d ah sil ah n ah jh iy sil sil\n"
     ]
    },
    {
     "name": "stderr",
     "output_type": "stream",
     "text": [
      "/home/dmesg/miniconda3/envs/semi/lib/python3.8/site-packages/librosa/util/decorators.py:88: UserWarning: PySoundFile failed. Trying audioread instead.\n",
      "  return f(*args, **kwargs)\n"
     ]
    },
    {
     "name": "stdout",
     "output_type": "stream",
     "text": [
      "C1-3\n",
      "sil s ae s ah sil s ah sil l uw hh iy ng sil s ao t f ah sil aa hh ae v ay d iy ah sil l ae s hh ae ao k ng s sil t ae s t t uw s iy sil v eh sh ah aa s sil ih s t ah s t r aa ng g ah sil sil n ow sil uw w iy w iy sil s ae t d ah sil w iy sil w ih sh ao s iy sil r ih p iy t ih d ah s ae sil t uw ih l s iy d ah m ah n m sil d w ih n d ow s l uw k ae t ih sil d uw sil l ow hh ae t w d ah s aa ao v p ao t ih ng sil ao y aa n ah ah ao hh ih ng ah l aa w ih th w ih aa sil r ih r iy d sil w ih n sil w eh n d ey r ow d s r uw d ah m aa ng hh ih s sil ih t w ao z s ow k d sil iy w ao s w eh r ng sil hh ae v l v ih n t ah k ow t sil t uw k eh p w ah sil l s sil l s sil s iy w ih sh w ah ng ow aa s ih t r ng sil k er n aa f sil t uw t ey k ah hh ih s ah sil k ao d ao f hh iy m sil s ah zh ae s ih s t ah s ah sil iy s ey sil ae ah n d uw dh ae t ih n n ow t hh aa sil b ah s t ah sil d uw w iy sil g ow ng d ah sil s t ah dh ah s aa sil v iy w ao sh y uw f r ah m b hh aa n d ah k l ow t sil d ah w ih n sil b iy l ow sil t b l ah n d b l ow iy t l ow s ow hh* aa dh ae t ah d ah sil b ao d ah sil b r ao s hh ae t uw sil k ah sil l ng t uw d ah t r sil t uw sil s t aa p iy ng sil s b ay sil s b ae t ah w ey sil sil d ah m eh sil sh ae v iy d ah n d ah sil d iy d ah n hh ah sil d iy l ah n sil d iy d ah aa p ah t uw d ah t aa ah b aa t ah n ah hh s k s t sil aa s ah sil d ah s l ao ng sil s uw sil s w aa sil d ah sil ih n d ah r sil d ah w iy ng sil t ey f aa sil b l ow ih sil b aa t ah sil d ah m ao sil iy t sil d ih d d uw sil d ah t ae sil t k er s sil d ah t ae d ah s ah d ah m ah sil p ow sh ah d ah hh ih s k ow d ah r aa hh ih m sil t uw k iy p w ah n sil ae d iy w aa sil r ae s t ah d ah w iy ng sil ah t ah l s t ah sil ae v iy sil k ow t n l ow m p uw p ow sil l f t sil l ow ih s b ay t ow sil s ae t ah l ah s aa sil ae z ah sil ih t ay n ah jh iy ah f r d ah sil l aa sil d ah s aa sil ay k t iy ng sil d ah s ah sil g ay t ah sil uw b r eh s t ah ih n d ah k eh sil d ah s ah g aa d ah iy t ah sil b r ey s t ah sil b r eh t ah n d ah sil iy ng sil d ah l aa t ah s t ah n d ah r n ih t d ah s iy m sil t uw sil g r ow sil sil\n"
     ]
    },
    {
     "name": "stderr",
     "output_type": "stream",
     "text": [
      "/home/dmesg/miniconda3/envs/semi/lib/python3.8/site-packages/librosa/util/decorators.py:88: UserWarning: PySoundFile failed. Trying audioread instead.\n",
      "  return f(*args, **kwargs)\n"
     ]
    },
    {
     "name": "stdout",
     "output_type": "stream",
     "text": [
      "C2-1\n",
      "sil l iy s sil t w ay sil t r iy ng sil m eh zh ah sil iy sh uw sil l uw sil l iy f sil g er sil f ow t ow g r ae f iy sil hh er ow sil t er m d ah l ay t s sil p l iy s sil dh eh r w ah z ah sil b iy k sil p r aa b l ah n b iy t w iy n dh ah sil t uw g r uw p s sil d ah g aa v m ah n t sil iy t t r ay ng t uw ah t r eh s ah iy sh uw ah v hh ow m ah l ah s n ah s sil ih n ao r d hh aw t uw t r ay v sil w ah n hh iy w ah s s ih k s t iy n y ih r s sil ow d sil hh iy s sil v iy sh ah n w ah s b r l aa r iy ae n hh iy n iy d ih d sil k l ae s ih s t uw s iy sil sh iy w uh sil d aw w ih t hh er w er k f ao r dh ah d ey ae n sil k uh d sil r iy l ae k s sil sh iy y uw s d ah sil p l eh n d er sil t uw m ey k sil ah s sil m ao th iy f ao r sil b r eh k f ah s t sil sh iy l ay k sil t uh t ey k ah w ah k ih n ah p aa r k sil eh v r iy m ao r n ih ng sil d ah s k uw s ih s t ah n n iy t m ao r f ah n d ih ng sil t uw ih m p r uw v sil eh jh uw k ey sh ah n sil dh ah sil b iy w d ih ng s aa k ah t eh k ch er w ah t sil m ao r d ah n ng sil ae n d sil y uw n iy k sil sil\n"
     ]
    },
    {
     "name": "stderr",
     "output_type": "stream",
     "text": [
      "/home/dmesg/miniconda3/envs/semi/lib/python3.8/site-packages/librosa/util/decorators.py:88: UserWarning: PySoundFile failed. Trying audioread instead.\n",
      "  return f(*args, **kwargs)\n"
     ]
    },
    {
     "name": "stdout",
     "output_type": "stream",
     "text": [
      "C2-2\n",
      "sil sil iy t w ao z ah f ay m b ah t v eh r k ow t w ih n t er s t ey sil ae z dh ah s ah ng sh ow n d aw ng sil ah n dh ah s n ow k ah v er d sil er th sil b l ow sil w aa t ah b uw t ah f ah s ay t sil ih t th ao s sil ah n l uw k ae t dh ah l iy t ah w ay t s eh w s ah v ah sh iy p s sil ah n dh ah b l uw s iy sil ah w ah n t uw t ey k m ay t ay m t r ae v ah l ih ng ah k r ao s dh ah s k ay t ah ey sil f t er t ao l sil b ah t s dh ah r ah sh sil s ah d ah n l iy sil ah f r ey s ih ng k ow t b r l s ah v eh r s k r ih n ch t sil p ae s t sil ae n d ih r l iy sil b l uw dh ah s ah ng sil ah l ao ng w ih th ih t sil aa t ah m ay w ey s ao sil r ao r t ah dh ah w ay n t sil s ey dh ow s sh iy p s sil ay m g ow ih ng t ah b l ow dh eh m b r ay t ah v k ao r s sil d w ow n t n ow w ah s hh iy t dh eh m sil d ah w ay n d sil b l uw ae n sil b l uw sil ih t sil b l uw t s ow hh aa r dh ae t dh ah sh ih p s eh l g r ih p t sil ah p aa r t sil ao l ah s ah k uh d d uw w ah t w ah sh sil ah dh ah s ey l er s sil sh ih v aa r s ih ng dh ah ay s iy b l ae s t sil sh uh k dh eh r f ey s t ae n k r ay d aw t ih n sil ae ng g er sil sil n aa t ah d ae m w ay sil s ay n d sil s ao sil w ay d uw hh ae v d uw k ao s m ih z er r iy ae n d k ey ah s ah v dh ah t ay sil sil b iy k ao s ay l ae k sh ow ih ng jh ah s t hh aw s t r ao ng ay ae n sil r ih p l ay t sil dh w ay sil s ey t ih n dh ah s k ay ae n d ih n aa s ih ng ih k s s eh p s n sil b ah t ay ae m f ao f ao r s sil ae n eh n er jh iy sil sil\n"
     ]
    },
    {
     "name": "stderr",
     "output_type": "stream",
     "text": [
      "/home/dmesg/miniconda3/envs/semi/lib/python3.8/site-packages/librosa/util/decorators.py:88: UserWarning: PySoundFile failed. Trying audioread instead.\n",
      "  return f(*args, **kwargs)\n"
     ]
    },
    {
     "name": "stdout",
     "output_type": "stream",
     "text": [
      "C2-3\n",
      "sil sil s eh d ah s ao ng sil l uh k ih ng th ao t f ao iy sil ay hh ae v ah ay d iy ah sil ah s hh v ah k ah n t eh k s t uw s iy w ih sh ah v ah s ih s sil dh ah s t r ao ng g er sil ah n ow hh uw w ih w ih sil s eh ah w ay n sil w iy sh ah s ey sil r ih p l dh ah s ow ng sil t uw s iy dh ah t m eh n d aw n dh eh r sil d ah w ay n d r uw k t ah w eh r dh ah s aa ng w ah th p oy n ih ng sil ah y ah ng m ae n w ah s w uh k ih ng ah l ao ng w ay n d ih ng r ow sil th r uw dh ah m aa n t ah n s sil ih t w ah s s ow k ow d sil hh iy w ah s w er ih ng ah hh eh v iy w ih n t er k t sil t uw k iy p w ao sil sil l eh t s iy w ih ch w ah n ah v l ah s ih s t r ao n ah f t uw t ey k hh ih s k ao ao f hh ih m sil s ah k jh eh s t ih dh ah s ao sil sil iy z iy sil ay k ah n d uw dh ae t ih n n ow t ay n sil b ow s t ih dh ah w ay n g ow ah ng d eh n sil s eh dh ah s ah ng sil ae w ih w ah sh uw f r ah m b ih hh ay n d ah k l aw t sil dh ah w ay n b l uw ae n b l uw sil ih t sil b l uw d s ow hh aa r dh ae t ah b ao r d hh ae d t uw k l iy m t ah dh ah t r iy s sil t s t aa p sil b ih ng s w eh p t ah w ey sil sil d ah m ae sh uh t sil ae n d ih l ae p dh ah t aa p b aa t ah n ah v hh ih s sil k ow th sil ah dh ah s n ow sil s w eh d ih n dh ah r sil dh ah w ay n d k eh p t ah b l ow ih ng sil b ah dh ah m ao r ih t d ih s ow sil dh ah t ay t er dh ah m ae n p d hh ih k ow s ah r aw n d hh ih m t uw k iy p w ao sil sil ay g iy v ah p sil g ae s p t dh ah w ay n d ah k l ae s t sil ae v g ao t n ow m ao r sil p uh f sil l eh f t sil n aw ih s m ay t er sil s eh s ah ng ae t ih m er t f r ah ah k l aw sil dh ah s ao ng jh eh n t ah l iy sil r eh th dh ah sil k ow d sil eh r sil dh ah s t r ao ng g er ih t sil b r eh th t ih n sil dh ah sil l aa jh er ah n d r aa n d er sil ih t s iy m t uw k l ow sil sil\n"
     ]
    },
    {
     "name": "stderr",
     "output_type": "stream",
     "text": [
      "/home/dmesg/miniconda3/envs/semi/lib/python3.8/site-packages/librosa/util/decorators.py:88: UserWarning: PySoundFile failed. Trying audioread instead.\n",
      "  return f(*args, **kwargs)\n"
     ]
    },
    {
     "name": "stdout",
     "output_type": "stream",
     "text": [
      "C3-1\n",
      "sil l iy s sil t w ay sil t r iy ng sil m eh zh ah sil iy sh uw sil l uw sil l iy f sil g er sil f ow t ow g r ah f iy sil hh er ow sil t er m d ah l ay t s sil p l iy s sil dh eh r w ah z ah sil b iy k sil p r aa b l ah n b iy t w iy n dh ah sil t uw g r uw p s sil d ah g aa v m ah n t sil iy t t r ay ng t uw ah t r eh s ah iy sh uw ah v hh ow m ah l ah s n ah s sil ih n ao r d hh aw t uw t r ay v sil w ah n hh iy w ah s s ih k s t iy n y ih r s sil ow d sil hh iy s sil v iy sh ah n w ah s b r l aa r iy ae n hh iy n iy d ih d sil k l ae s ih s t uw s iy sil sh iy w uh sil d aw w ih t hh er w er k f ao dh ah d ey ae n sil k uh d sil r iy l ae k s sil sh iy y uw s d ah sil p l eh n d er sil t uw m ey k sil ah s sil m ao th iy f ao r sil b r eh k f ah s t sil sh iy l ay k sil t uh t ey k ah w ah k ih n ah p aa r k sil eh v r iy m ao r n ih ng sil d ah s k uw s ih s t ah n n iy t m ao r f ah n d ih ng sil t uw ih m p r uw v sil eh jh uw k ey sh ah n sil dh ah sil b iy w d ih ng s aa k ah t eh k ch er w ah t sil m ao r d ah n ng sil ae n d sil y uw n iy k sil sil\n"
     ]
    },
    {
     "name": "stderr",
     "output_type": "stream",
     "text": [
      "/home/dmesg/miniconda3/envs/semi/lib/python3.8/site-packages/librosa/util/decorators.py:88: UserWarning: PySoundFile failed. Trying audioread instead.\n",
      "  return f(*args, **kwargs)\n"
     ]
    },
    {
     "name": "stdout",
     "output_type": "stream",
     "text": [
      "C3-2\n",
      "sil sil iy t w ao z ah f ay m b ah t v eh r iy k ow t w ih n t er s t ey sil ae z dh ah s ah ng sh ow n d aw ng sil ah n dh ah s n ow k ah v er d sil er th sil b l ow sil w aa t ah b uw t ah f ah s ay t sil ih t th ao s sil ah n l uw k ae t dh ah l iy t ah w ay t s eh w s ah v ah sh iy p s sil ah n dh ah b l uw s iy sil ah w ah n t uw t ey k m ay t ay m t r ae v ah l ih ng ah k r ao s dh ah s k ay t ah d ey sil f t er t ao sil b ah t dh ah r ah sh sil s ah d ah n l iy sil ah f r ey s ih ng k ow t b r l s ah v eh r s k r ih n ch t p ae s t sil ae n d ih r l iy sil b l uw dh ah s ah ng sil ah l ao ng w ih th ih t sil aa t ah m ay w ey s ao sil r ao r t ah dh ah w ay n t sil s ey dh ow s iy p s sil ay m g ow ih ng t ah b l ow dh eh m b r ay t ah v k ao r s sil d w ow n t n ow w ah s hh iy t dh eh m sil d ah w ay n d sil b l uw ae n sil b l uw sil ih t sil b l uw t s ow hh aa r dh ae dh ah sh ih p s eh l g r ih p t sil ah p aa r t sil ao l ah s ah k uh d d uw w ah t w aa sh sil ah dh ah s ey l er s sil sh ih v aa r s ih ng dh ah ay s iy b l ae s t sil sh uh k dh eh r f ey s t ae n k r ay d aw t ih n sil ae ng g er sil sil n aa t ah d ae m w ay n sil s ay n d sil s ao ng sil w ay d uw hh ae v d uw k ao s m ih z er r iy ae n d k ey ah s ah v dh ah t ay sil sil b iy k ao s ay l ae k sh ow ih ng jh ah s t hh aw s t r ao ng ay ae n sil r ih p l ay t sil dh w ay sil s ey t ih n dh ah s k ay ae n d ih n aa s ih ng ih k s s eh p s n sil b ah t ay ae m f ao f ao r s sil ae n eh n er jh iy sil sil sil\n"
     ]
    },
    {
     "name": "stderr",
     "output_type": "stream",
     "text": [
      "/home/dmesg/miniconda3/envs/semi/lib/python3.8/site-packages/librosa/util/decorators.py:88: UserWarning: PySoundFile failed. Trying audioread instead.\n",
      "  return f(*args, **kwargs)\n"
     ]
    },
    {
     "name": "stdout",
     "output_type": "stream",
     "text": [
      "C3-3\n",
      "sil sil s eh d ah s ah ng sil l uh k ih ng th ao t f iy sil ay hh ae v ah ay d iy ah sil ah s hh v ah k ah n t eh k s t uw s iy w ih sh ah v ah s ih s sil dh ah s t r ao ng g er sil ah n ow hh uw w ih w ih sil s eh ah w ay n sil w iy sh ah s ey sil r ih p l dh ah s ow ng sil t uw s iy dh ah t m eh n d aw n dh eh r sil d ah w ay n d r uw k t ah w eh r dh ah s aa ng w ah th p oy n ih ng sil ah y ah ng m ae n w ah s w uh k ih ng ah l ao ng w ay n d ih ng r ow sil th r uw dh ah m aa n t ah n s sil ih t w ah s s ow k ow d sil hh iy w ah s w er ih ng ah hh v iy w ih n t er k t sil t uw k iy p w ao sil sil l eh t s iy w ih ch w ah n ah v l ah s ih t r ao n ah f t uw t ey k hh ih s k ao ao f hh ih m sil s ah k jh eh s t ih dh ah s ao sil sil iy z iy sil ay k ah n d uw dh ae t ih n n ow t ay n sil b ow s t ih d dh ah w ay n g ow ah ng d eh n sil s eh dh ah s ah ng sil ae w ih w ah sh uw f r ah m b ih hh ay n d ah k l aw t sil dh ah w ay n b l uw ae n b l uw sil ih t sil b l uw d s ow hh aa r dh ae t ah b ao r d hh ae d t uw k l iy m t ah dh ah t r iy s sil t s t aa p sil b ng s w eh p t ah w ey sil sil d ah m ae sh uh t sil ae n d ih l ae p dh ah t aa p b aa t ah n ah v hh ih s sil k ow th sil ah dh ah s n ow sil s w eh d ih n dh ah r sil dh ah w ay n d k eh p t ah b l ow ih ng sil b ah dh ah m ao r ih t d ih s ow sil dh ah t ay t er dh ah m ae n p d hh ih k ow s ah r aw n d hh ih m t k iy p w ao sil sil ay g iy v ah p sil g ae s p t dh ah w ay n d ah k l ae s t sil ae v g ao t n ow m ao r sil p uh f sil l eh f t sil n aw ih s m ay t er sil s eh s ah ng ae t ih m er t f r ah ah k l aw sil dh ah s ao ng jh eh n t ah l iy sil r eh th dh ah sil k ow sil eh r sil dh ah s t r ao ng g er ih t sil b r eh th t ih n sil dh ah sil l aa jh er ah n d r aa n d er sil ih t s iy m t uw k l ow sil sil\n"
     ]
    },
    {
     "name": "stderr",
     "output_type": "stream",
     "text": [
      "/home/dmesg/miniconda3/envs/semi/lib/python3.8/site-packages/librosa/util/decorators.py:88: UserWarning: PySoundFile failed. Trying audioread instead.\n",
      "  return f(*args, **kwargs)\n"
     ]
    },
    {
     "name": "stdout",
     "output_type": "stream",
     "text": [
      "C4-1\n",
      "sil sil dh ih s sil t ay sil t r iy m sil m ey sil ay s ih sil b uh l uw sil l ay sil k er sil f uh t uw k r aa f iy sil t er ah sil t aa ng l ay s sil p l iy s sil dh eh r w er s ah sil b ih k sil p r aa b l ah m sil b iy t w iy n sil d ah sil t uw sil k r uw p s sil dh ah sil g ah v ah m ah n t sil ih s sil t r ay ih ng sil t uw sil t r ae s sil dh ih s sil ah s ih sil f sil hh ow n l ih s n ih s sil hh iy l er n d sil hh aw t uw t r ay v sil w ah n iy w ao sil s ih k s sil t iy sil y ih r s ow t sil hh iy s v ih zh ah n sil w er s sil b aa l er r iy sil ah n d ah sil iy sil n iy d ih d sil k l ae s ih s sil t uw s iy sil sh iy w er s sil t ao n sil w ih th hh er w er k sil f ao d ah sil d ey sil ah n k uh sil r ih l ae k s sil sil sh iy y uw s t sil ah sil b ah l ae n d er sil t uw sil m iy k sil ah sil s m ow s ey sil f ao sil b r eh k f ah s t sil sh iy l ae k s sil t uw sil t ey k ah w ao k sil ih n d ah sil p aa k eh v r iy m ao n ih ng sil dh ah s sil k uw sil s s t ao ng sil n iy s sil m ao r f ao n d ih ng sil t uw ih n sil p r uw sil ae d ah k ey sh ah n sil dh ah sil b ih d ih ng s sil aa k ih t eh k ch er sil w er s sil m ao r d ah n sil ah n d ah sil iy n sil k ey sil sil\n"
     ]
    },
    {
     "name": "stderr",
     "output_type": "stream",
     "text": [
      "/home/dmesg/miniconda3/envs/semi/lib/python3.8/site-packages/librosa/util/decorators.py:88: UserWarning: PySoundFile failed. Trying audioread instead.\n",
      "  return f(*args, **kwargs)\n"
     ]
    },
    {
     "name": "stdout",
     "output_type": "stream",
     "text": [
      "C4-2\n",
      "sil ih t w ah s ah f ah n sil b ah t sil b ay r ih k ow w ih ng t er s t ey sil ah s t ah s ah sh aa n d aw sil n dh ah s sil n ow sil k ah v er t er s sil b ih l ow sil w ao t ah sil b y uw t ah f sil l ay t sil eh t th ao t sil ah n d l uh k ay dh ah l ih t ah w ay t sil s eh s sil ah v sil d ah sh iy p s ah n dh ah sil b uw s iy sil ah w ah n t uw t ey k m ay sil t aa sil t r ah v l ih ng ah k r ao s ah k aa t ey sil aa f t ah ao sil w ao s sil d ah sil r uw sh sil sil s ah d ah l iy sil ah f r iy z ih ng k ow t sil b l ay s t sil ah f sil eh er sil s sil k r iy ng sil p aa s t sil sil ah n t ah sil n ih r l iy sil b l ow dh ah sil s ah sil ah l ao ng w ih s ih t sil ao ah f sil m ay w ey s ah sil r ow r ey d dh ah sil w ey ng d sil s iy ih ng d ow s sh iy p s sil ah m g ow ih ng t uw sil l sil ah m sil r ay t ah f sil k k ao s sil dh ih sil w ao n t sil n ow sil w ao s sil hh iy t l ow sil ah w ih n sil b ih l ow ah n sil b ih l ow sil eh t sil b ih l ow s ow hh aa ah dh ah sh iy p s sil s eh s sil r p ih t ah sil p aa t sil ao dh ah s ah ng sil k uw t uw sil w er s sil w ao ch ae s t ah sil s ih l er s sil sh ih v er s sil ih n dh ah sil ay s iy sil b l aa s t ah sh r ow k dh eh r f r aa s t ah sil ah n d ah sil k r ay d ao t ah iy sil ey sil ah n g er sil n aa t ah g eh n w ey n sil s ay n d ah s ah n sil w ay d w iy hh v sil t uw sil k ao s sil m ey zh er aa n d ah sil k ow z ih s sil ao l ah t ay m sil b ih k ow s ay l ay k sil sh r ow ih ng t r ah s t hh ao sil t r ao aa sil r ih p aa ah w ay t sil y uw s ih t ih ng s k ay ah n t sil t uw n aa th iy ng s sil s aa p t sil sh ay ng sil b ah t ay m sil f uw l ah v sil f ao s ah n ae n ah jh iy sil sil\n"
     ]
    },
    {
     "name": "stderr",
     "output_type": "stream",
     "text": [
      "/home/dmesg/miniconda3/envs/semi/lib/python3.8/site-packages/librosa/util/decorators.py:88: UserWarning: PySoundFile failed. Trying audioread instead.\n",
      "  return f(*args, **kwargs)\n"
     ]
    },
    {
     "name": "stdout",
     "output_type": "stream",
     "text": [
      "C4-3\n",
      "sil sil ah sil s ay d ah s ah l ow k l uw k ih ng sil th ao f ow sil ay hh ae v aa ay d iy r sil l ay s hh ae v ah sil k ao ng sil p ae s t sil t uw s iy sil w ih sh f sil s sil ih s sil t ah s t r ao ng g er sil ay n ow hh uw ih w ih n sil s ae dh ah w ay t sil w ih sh ah s iy sil r ih p ay ah s ah n sil t uw s iy dh ae t sil m ay sil d aa ng dh eh r sil t ah w ay n t sil uh k t sil w eh r dh ah s aa ng w ao s sil p oy n t ih ng sil ah y ah ng m aa ng z w ao k ih ng ah l ao sil w ay d r ow t sil r ow dh ah m ow n t ah s sil ih t ah w ah s ow k ow d sil sh iy w ah s w er ih ng ah hh aa v iy sil w ih n t er k ow t uw k iy w ah sil s iy w ih ch w aa v sil s sil ih s t r n aa sil t uw t ey k sil hh ih s k ow sil ow f sil hh iy m sil s ah jh eh s ih ah dh ah s ah n sil iy s ey sil ay ah n d uw dh ae t sil ih n ow t aa sil b ow s ey ah w ay sil g ao ng l ae n sil s ae dh ah s ah n sil aa w ah w ow sh uw sil f ng sil b iy hh ay n ah sil k ao t sil ah w ih n d sil b l ow ah n b ih l ow sil ey t sil b l ow s ow hh aa d ae ah sil b er s hh aa sil t uw sil k l iy sil s iy b ih ng dh ah sil t uw dh ah t r iy ng sil t uw s t ao sil b iy ih ng s sil t ae ah w iy sil t ah m ay sh uh n sil d ih t aa p ah sil t ao p sil b ao ng t ah ah f sil hh ih s k ow t sil s ah sil s n ow s sil w eh l er ih n ah eh r sil t w ih ng sil k eh p t ao b l ow n ih ng sil b aa sil dh ah sil m ao r sil ih t sil d iy s ow sil ah sil t ay t er d ah m aa n sil p uw t sil hh s k ow ah r aa ng hh ih m t uw k iy w ao sil ay g ey v p sil g eh s sil p ay dh ah w ih ae t l aa s sil aa f sil g ow s sil n ow m ao r sil p uw f sil l aa t sil n ao t sil l ih s m ay t er n s t ae ah s ah sil ay sil ih t sil sil ah n ah m ey sil f r ah m d ah k ow sil dh ah s aa n sil jh eh n t ah d ey sil b r eh th sil ih n d ah ow sil k ow t sil eh r sil dh ah t r ng g er ih t sil b r iy s t sil dh iy ih n sil t ah sil l aa ch er ah n d ah sil r aa ng d er sil ih sil s iy m d sil t uw sil g l ow sil sil\n"
     ]
    },
    {
     "name": "stderr",
     "output_type": "stream",
     "text": [
      "/home/dmesg/miniconda3/envs/semi/lib/python3.8/site-packages/librosa/util/decorators.py:88: UserWarning: PySoundFile failed. Trying audioread instead.\n",
      "  return f(*args, **kwargs)\n"
     ]
    },
    {
     "name": "stdout",
     "output_type": "stream",
     "text": [
      "C5-1\n",
      "sil sil d iy s sil t r ay sil t r iy m sil m ae zh er sil ih sh uw sil l uw sil d iy sil g uh sil f uw t uh g r eh f iy sil t uw n ng sil sil t ih n sil aa ng sil d ah l ay t s p l iy s sil d eh r w ah z ah b iy k p r aa b l ah m b ih t w iy n d ah sil t uw g r uw p s sil d ah g ah m ah n t sil ih th t r ay ih ng t uw ah d r eh s d ey ey sh uw ah v hh ow m l ah s n ah s sil sil hh iy l uh n d ah hh aw t uw t r ay v w ah n hh iy w uh s ih k s t iy n y ih z ow d sil sil hh iy z v l ih n w ao s sil b r l uw r iy ah n d ah hh iy n iy d ih d g r l aa s ih z t uw s iy sil sh iy w ao s t ah ng sil w ih d hh uh w k sil f ao d ah d ey sil aa n d sil k r uw d r ih l ae k s sil sil sh iy y uw s t ah ah sil l eh n d er sil t uw m ey k sil ah sil s m uw th l iy f ao sil b r eh k f ah s t sil sh iy l ay k s t uw t ey k sil ah w ao k sil ih n d ah sil p aa k sil eh v r ih m ao n ih ng sil sil ah s k uw s ih s t ah m n iy s sil m ao f ah n d ih ng t uw eh m p r uw v sil ae d ah k ey sh ah n sil d ah sil b ih w d ih n s sil ae t hh iy t eh k ch er w ao s sil m ao dh ah n sil ah n d sil y uw n ih k sil sil\n"
     ]
    },
    {
     "name": "stderr",
     "output_type": "stream",
     "text": [
      "/home/dmesg/miniconda3/envs/semi/lib/python3.8/site-packages/librosa/util/decorators.py:88: UserWarning: PySoundFile failed. Trying audioread instead.\n",
      "  return f(*args, **kwargs)\n"
     ]
    },
    {
     "name": "stdout",
     "output_type": "stream",
     "text": [
      "C5-2\n",
      "sil ih t w ah z ah f ah n b ah t k ow l w iy n t er s d ey sil ae s sil d eh* ah s ah n sh aa n sil d aa n sil aa n d ah sil s n ow sil k ah er iy d ah sil ah s sil b l ow sil b l sil w ao t sil ah sil b uw t f ow s ay t sil ih t s ao t sil aa n d ah l uw k sil ae t sil d ah sil d ey t ow w ay t sil s ay s sil s sil ah ow sil d ah sh p s sil aa n d ah sil b l uw s iy sil aa w ao t ah t ey k m ay t ay m t r ay v ih ng sil ah k r ao s d ah s k ay t t l ey sil aa f t ah ao sil w ah s d ah r aa sh sil s ah d ah l iy ah f r iy z ih ng k ow d ah sil b l aa s t ah ah v sil eh r s sil g r iy t sh iy d ah sil p aa s t ah aa n d ah n ih r l iy b l uw d ah s ah n sil ah l ng w ih d ih t sil aw th sil ah v m ay w iy s ah n sil r ao d ah sil d ah w ay d sil s iy n d ow sh iy p s sil aa m sil g ow ih ng f uw sil b l uw d ah r ay t sil ah v k ao s sil sil d ey w uw n t f n ow sil d ey s sil d ey w uw n t sil n ow sil w ao th hh ey th ah sil d ah w ay n d sil b l ow aa n d b l ow sil ey t sil b l ow s ow hh aa t s dh ae t dh ah sh ey p s ih l z ah r ih p s ah p aa t sil ao dh ah s ah n k uw t sil t uw sil w ao z ah w ao sh sil ae s sil dh ah s ey l er z ah sil sh r ae b er ih d ah ih n sil d ey sil ay s iy sil b l aa s t sil sh r uh k sil d dh ah r sil f ey s s ah ah n d ah sil k r ay d ah aw t iy n sil ae ng g er sil n ao t ah k g ng w ay sil s ih l d ah s ah n sil sil w ay d uw hh ae v t k ao s sil m ey s iy r ey aa n d ah sil t ao s sil ao d ah sil t ay m sil b ih k s sil ay l ay k sh ow ih ng sil w ao t f aa s t hh ao s t r ao ay ay m sil r ih p hh ay d ah sil ay n sil y uw s iy t ih n d ah s k aa aa n d ah sil d uw n aa t ih ng sil ey k s ae p t ah sh ay sil aa d aa aa ao sil f uw ow sil f ao s aa n d ah ae n ah zh sil sil\n"
     ]
    },
    {
     "name": "stderr",
     "output_type": "stream",
     "text": [
      "/home/dmesg/miniconda3/envs/semi/lib/python3.8/site-packages/librosa/util/decorators.py:88: UserWarning: PySoundFile failed. Trying audioread instead.\n",
      "  return f(*args, **kwargs)\n"
     ]
    },
    {
     "name": "stdout",
     "output_type": "stream",
     "text": [
      "C5-3\n",
      "sil ah s eh z d ah s ah n sil l uw k iy ng sil b ow th f ah l ih sil sil ay hh ae v ah ah d iy r sil l ae s hh ae v ah k aa n t ae s t ah t uw s iy w ih sh ah v aa s ey s t r ao ng ah sil sil ay n ow hh uw w ih w ih s ae d ah w ay n ow w iy sh ae w s iy r ih p ay d d ah s ah n sil d ah l uw s iy d ae t sil d ah m ae n sil d aw ng d eh r sil d ah w ay n d ah l uw k th ah hh aw sil w eh r d ah s aa w ao s p ao n t ih d ah y ah ng m aa ng w ao s sil w ao k ih ng ah l ao ng sil ah sil ow w ah n d ey r ow t sil t r uw d ah m aa n t ih s sil ih t w ah s ow k ow sil sil hh iy w ah z w aa r ih ng sil hh eh v iy sil w ih n d ah k ow t uw k iy p w ao m l ae s iy w ih ch w ah ng ah v ah s ey s t r ao ng ih n ah f sil t uw t ey k hh iy k ow d ao f dh ah sil s ah jh ah s t sil d ah s ah n sil iy z iy ay k ah n d uw d ae t iy n ow t ay m sil b ow s ih d ah d ah w aa n d ah sil g ow ao ng d ae n sil s ae d ah s ah n sil ay w ah w ao sh ih f r m sil b iy hh ay n d ah sil ah sil k l aa sil sil d ah w ay n ah b l uw sil aa n d ah sil b l ow aa n d ah sil b l ow sil ih t sil b l ow s ow hh aa d ah d ae t sil d ah b uh s hh aa d ah t uw sil k l ey n ih n sil t uw d ah t r iy z t uw s t p sil b iy iy ng s w eh p t sil ah w ey sil d ah m ay sh ay n sil d ah m ay sil sh eh m er iy d aa n d ah sil d iy d aa dh ah sil t ao p sil b aa t ah n sil ah iy s k ow t sil ae s sil d ah sil s n ow iy ng sil s w aa l ih d sil ih n d ah ae r d ah w ao n sil k eh p t ah ah ng b l ow ih ng sil p aa t sil d ah m ao ih t ih s ow d ah t ay ah d ah m aa n t uw hh iy s sil k ow t sil ah r aa n d d ah n t ah k iy p w ao sil ay g ey v aa p sil g ae s t ih d d ah w aa d ae t l aa s t sil aa ao k ao t sil n ow m ao sil p ow f sil l f t sil d aw ih t w ah z m ay t ih n sil s ae t sil d ah s ah ae s ey t ah sil ih sil b ao sil ih m ah d ah sil f r ao m ao sil d ah sil k l aa t sil d ah s ah n sil jh eh n t l iy sil b r iy s t ih n d ey k ow d ah ae r sil d ah s t r ao ng ah ey t ah sil b r iy s ah iy n sil d ah l aa sil aa n d ah r aa n d ih d ey t s iy m sil s t uw sil k l ow sil sil\n"
     ]
    },
    {
     "name": "stderr",
     "output_type": "stream",
     "text": [
      "/home/dmesg/miniconda3/envs/semi/lib/python3.8/site-packages/librosa/util/decorators.py:88: UserWarning: PySoundFile failed. Trying audioread instead.\n",
      "  return f(*args, **kwargs)\n"
     ]
    },
    {
     "name": "stdout",
     "output_type": "stream",
     "text": [
      "D2-1\n",
      "sil sil z iy s sil t w ay sil t r iy m sil m eh zh er sil iy sh uw sil b l uw sil b iy sil g er sil f uh t p ao r ah f sil t er ah sil t er ah n dh ah l ay s p l ey s sil dh eh r w ah s ah b ih k p r aa b l ah m sil b ih t w ih n dh ah t uw g er s sil dh ah g aa m ah n t sil ih s t r ay l ih ng t uw ah t r eh s l ah sh uw ah hh ow m l eh s n ih s sil iy l er n d sil hh aw t uw sil t r ay w ih n sil hh ey w ah s ih k s t iy n y r sil ow d sil hh ih s v iy zh ah w ah sil p aa iy sil ah n hh eh n iy s k l ae s ih s t ah s iy sil sh iy w ah s d aw w ih s hh er w er k f ao dh ah sil d ey ah n d k l uw r ih l ae k s sil sh iy y uw s t ah sil b l eh n d er t uw m ey k sil ah s m ao s iy f ao sil p r eh k f ih k sil f er sil f er s t sil sh iy l ay k s t uw sil t ey k ah w ao k ih ng dh ah sil p aa r k eh v r iy m ao r n ih ng sil l s k uw s ih s ah n iy s sil m ao f ao n ih ng t uw sil ih ng p uw eh jh ah k ey sh ah n sil dh ah b y ih t iy ng s aa k ah t eh k ch er w ah s m ao r l er ah n y uw n iy k sil sil\n"
     ]
    },
    {
     "name": "stderr",
     "output_type": "stream",
     "text": [
      "/home/dmesg/miniconda3/envs/semi/lib/python3.8/site-packages/librosa/util/decorators.py:88: UserWarning: PySoundFile failed. Trying audioread instead.\n",
      "  return f(*args, **kwargs)\n"
     ]
    },
    {
     "name": "stdout",
     "output_type": "stream",
     "text": [
      "D2-2\n",
      "sil sil ih t w ah s sil ah f ah n b ah v eh r iy k ow l ah w ah n er s t ih sil ae dh ah s ah sil sh ow n sil d aa ng sil ao n ah s n ow k aa er sil er s l ow sil w aa t ah sil b y uw f ah s ay t s sil t s ao s sil ah n d ah l uh k ae s ah sil l iy hh ow w ay s eh l s sil ah dh ah sil sh iy p s ah n dh ah sil b uw s iy sil ay w ah n t ah t ey k m ay t ay m t aa ih ng sil ah k r ao s ah s k ay t d ey sil aa f t sil aw sil w ao t s ah r sh sil s ah d ah n l iy sil ah f r ay z ih ng k ow d sil b l aa s t ah v sil eh r s r ih r er s t sil p aa s t ah n n ih r l iy sil b l uw d z ah s ng sil l ao ng w ih s ih t sil aw t s ah m ay w ey s ah ng sil r ow dh ah w ah n sil s iy ow s sh p s sil ah n g ow ih ng t uw b l ow z ah m w ay t ao f k ao s sil dh ey w ow n t n ow w ao t s hh ey s dh ah sil dh ah w n d sil b l ow ah n d b l ow ay t sil r uw s ow hh aa r d sil dh ah dh ah sh iy p s eh l s r ih p t sil ah p aa r t sil aw z ah s ng k uh b uw w uh t s sil w ao s sil w ao ch sil ae dh ah s iy l er sil sh ih sh iy w er sil ih n dh z ah sil ay s b l aa s t sil sh uh k sil dh eh r f iy s t s ah n sil k ay sil aw t sil iy sil ae n jh er sil n t g ah sil w ah n sil s aa ng sil ah s ah sil sil w ay sil d uw y hh ae s ah k aw s m iy s er r iy ah n d ch aa sil ao s ah t ay m sil b iy k ao s ay l k s sh ow ih ng jh ah s t hh s t r ao ae n sil r iy p r ay z ah b ah n d sil d ah s iy t ih ng dh ah s k ay ah n d uw n ah s ih ng sil ih k s eh p t sh ay sil b ah t ah n f ow f ao s ah n eh n ah jh iy sil sil\n"
     ]
    },
    {
     "name": "stderr",
     "output_type": "stream",
     "text": [
      "/home/dmesg/miniconda3/envs/semi/lib/python3.8/site-packages/librosa/util/decorators.py:88: UserWarning: PySoundFile failed. Trying audioread instead.\n",
      "  return f(*args, **kwargs)\n"
     ]
    },
    {
     "name": "stdout",
     "output_type": "stream",
     "text": [
      "D2-3\n",
      "sil sil s ay d ah dh ah s ah ng l uh k ih ng s l f ao sil ay hh ae v ah sil ay d iy r sil ae t hh ae ah k ah n t hh ae s t ah s iy w ih ch ah sil aa s sil ih s t r ao ng g er sil ay n ow sil uw eh l w n sil s ae d dh ah w ah n sil w ih sh ah l s iy sil r ih p l ay d z s ah sil d uw ah s dh ae t dh ah m ah n d aa dh eh r sil l ah sil w n d l uw k t sil w eh r z ah s w ah s p ow n t ih ng sil ah y ah ng m ah w ao s w ow k ih ng ah l ao ng sil ah w n d ey r ow d s r uw ah m aa ng t ah n sil ih t w ah s s ow k ow d hh iy w ah s w eh r ih ng sil ah hh ay l iy w ah n s r er k ow t t uw k p w ao sil l ae t s iy w ah t s sil b ah sil w ah ah v sil ah s ih s t r oy n ah t ah t ey k hh ih s k ow t sil ah f hh ih m sil s ah ch ae s sil p ih t sil ah sil dh s ah sil iy z iy ay k ah n sil d uw sil z t sil ih n n ow t ay m sil b ow s t ih d z ah w n d ah sil g aa ng z ah s ae dh ah s ah sil ay w eh w ch iy f r ah m b ih hh ah n sil ah k l aw sil dh ah w ah n sil n sil b l ah n b l ow sil ih t b r ow s ow hh aa r dh ae dh ah b er s hh s t uw k l ih ng sil t uw z ah ch w ey s t ah s b ao b b ih ng s sil ah v ey sil ah m aa sh iy p t sil ah n d sil ih d sil ah p sil dh ah p aa p b aa t ah n ah b hh ih s k ow t sil ae s ah sil s n ow s w eh r sil ih ng dh ah sil eh r sil sil ah w n d k iy p ah m p r uw ih ng sil b aa t s sil dh ah m ao sil ih t ih s ow ah p ay sil p ay r sil dh ah m ah n sil ow hh ih s k ow ah r ng hh ih ng t uw k iy p w ao ng sil ay v aa p sil g ae s t sil l ah w ah n sil ae t l aa s t sil ay hh ae v sil g ao sil n ow m ao sil p aa f l ae f t sil n aw ih s m ay t er n sil s ae dh ah s aa ng sil ae s ih t m er jh f m dh ah sil k l aw d sil dh ah s ah n t ah n l iy sil p r ey t sil ih ng dh ah k ow d sil eh r z ah s t r ao ng g er sil ih t sil p r ay s ih ng sil l aa jh er z ah sil ah n d ah r ow d er sil r ao n d er sil ih t s iy m sil t uw g r uw sil sil\n"
     ]
    },
    {
     "name": "stderr",
     "output_type": "stream",
     "text": [
      "/home/dmesg/miniconda3/envs/semi/lib/python3.8/site-packages/librosa/util/decorators.py:88: UserWarning: PySoundFile failed. Trying audioread instead.\n",
      "  return f(*args, **kwargs)\n"
     ]
    },
    {
     "name": "stdout",
     "output_type": "stream",
     "text": [
      "D4-1\n",
      "sil sil sil dh eh s sil t r ay sil t r iy m sil m ae zh er sil iy sh uw sil b l uw sil l ae sil g er sil f ah t aa g er ah f iy sil t er n aa sil t ah n aa n dh ah l ae s p r iy s sil d eh r w ao z ah sil b g p r b l ah m b iy t w ih n dh ah sil t r uw g r ow s sil d ah g aa n m ah n t ih t r ay ih ng t uw t r ay s dh ah y uw sh ah sil ah v hh ow m l eh s n ih s sil hh ey l er n d ah hh ao t uw t r ay w ih n hh ey w ao s ih k s t iy n y r s ow t sil hh ih z v ih zh ah n w ao s sil p l er iy sil ah n d hh ey sil n iy d ih d sil g l aa s iy s t uw s iy sil sh iy w ah z d aa w dh hh er w ah k f ao dh ah sil d ey ah n d sil k uw t r ih l ae k s sil sh iy y uw z d ah b l ih n t er t uw m ey k ah s m uw th iy f ao r sil b r ay t f r ah s t sil sh iy l ae k s t uw t ey k er w ah k sil ih n dh ah p aa r t eh v r iy m ao r n ih ng sil dh ah s k uw s ih s t ah m sil n iy s m ao r sil f aw n d ih ng t ih m p r uw eh jh ah k ey sh ah n sil dh ah b y iy d iy s aa k ah t eh k ch er sil w ao z m ao r d ah n ah n y uw n ih k sil sil\n"
     ]
    },
    {
     "name": "stderr",
     "output_type": "stream",
     "text": [
      "/home/dmesg/miniconda3/envs/semi/lib/python3.8/site-packages/librosa/util/decorators.py:88: UserWarning: PySoundFile failed. Trying audioread instead.\n",
      "  return f(*args, **kwargs)\n"
     ]
    },
    {
     "name": "stdout",
     "output_type": "stream",
     "text": [
      "D4-2\n",
      "sil sil sil ih t w ao z ah f ay sil b ah v eh r iy k ow w ih n t er s t ey sil ae n dh ah s ah n sh ow n d aa n dh ah s n ow k l er d er s b ih l ow sil w ao t ah b y uw t f ah s ay t sil ih t s t sil l uw k ah dh ah l ih t ah w aa s iy ah v dh ah sh ih p s aa n dh ah b l uw s iy sil w ah n t uw t ey k m ay t ay m t r ae v ah l ih ng ah k r ao dh ah s k ae t d ey sil aa f t er ao sil w ao s dh ah r aa s sil s ah d ah l iy sil ah f r iy z ih ng k ow d sil b l aa s ah v eh r s k eh ch t sil p aa s t sil ae n n iy r l iy b l z ah s aa n ah l ao w iy z iy t sil aw t ah m ay w ey s ah n sil zh ao r d ah dh ah w ih n t sil s iy dh ow sh ih p s sil ah n g ow ng t b l ow z ah sil r ae d ah v k ao r s sil dh iy w ow n n ow sil w ao s hh ih dh ah sil l ah w iy n t sil b l ow ah n d b l uw sil ih t b l uw s ow hh aa r d sil dh ae t dh ah sh ih p s sil s iy s sil r ih p t ah p aa r t sil ao dh ah s ah n sil k uw t sil t uw sil w ao z w ao ch sil ae z dh ah s ih l er s sil sh iy v er d sil ih n dh ah sil ae s iy b l s t sil sh uw k dh iy r f ih s sil ae n d k r ay d aw t ih ng ae ng g er sil n aa t ah g ey n w ih n t sil s ay d dh ah s ah n sil w ay t w iy hh ae v t uw k ao s sil m z ah iy ae n d sil ch aa s sil ao dh ah t ay m sil k ao z ay l ae k sh ow ih ng jh ah s t hh aw s t r ao ng ay ae m sil r ih p l d dh ah w n t sil y uw s iy ih n dh ah s k ay ae n d d uw m aa s iy ih k s eh p t ah sh ay sil b ah t sil ae n f ow ah v f ao r s ah n n er jh iy sil sil\n"
     ]
    },
    {
     "name": "stderr",
     "output_type": "stream",
     "text": [
      "/home/dmesg/miniconda3/envs/semi/lib/python3.8/site-packages/librosa/util/decorators.py:88: UserWarning: PySoundFile failed. Trying audioread instead.\n",
      "  return f(*args, **kwargs)\n"
     ]
    },
    {
     "name": "stdout",
     "output_type": "stream",
     "text": [
      "D4-3\n",
      "sil sil ah sil s ae d dh ah s ah n sil l uh k ih ng s ao r t f ah sil ah hh ae v ah n ay d iy ah sil l ae s hh ae v l uh k ah n t ae s t t ah s iy sil ih sh ah v aa s ih z dh ah s t r aa ng g er sil n ow hh w ih w ng s ae t dh ah w ih n t sil w ih sh ae s iy sil r ih p ae t dh ah s ah n sil b ow s iy dh ae n m ae sil d ah ng z iy r sil l ah w n t sil l k t sil w eh dh ah s ah n w s ao n t ih sil ah y ah ng m ae n sil w ao z w ao k ih ah l ao ng w ih n d iy r ow sil th r uw dh ah m aa n t ah n s sil ih t ah w ao z s ow k ow d hh iy w ah z w eh ih ng hh eh v iy w ih n t er sil k t sil t uw k iy p w n sil l s s iy sil w ih w ah n d ah v aa s ih t r aa ng ih n ah s sil t uw t ih f hh s k ow s ah v hh ih m sil s t ae s t ih dh ah s ah n sil iy z iy sil ah k ah t uw z ae t ih n d ow t ah n sil b ow s t ih l ah w ih t sil g aa n z ah sil s ae d dh ah s ah n sil ah w ah ch ih f r ao m b iy hh n d ah k k l aw d sil l ah w ih n t sil b l ow ah n b l ow sil ih t b l ow s ow hh aa r dh ae t dh ah sil b er z hh ae d t uw sil k r* iy ng sil t uw ah t r iy s sil t s t aa t sil b iy ng s w ae t d ah w iy sil dh ah m ae n sil sh ih v er d sil ae n d sil b iy d aa p sil dh ah sil b ao t ao b ao t ah n sil b t ah n ah v hh ih s k ow t sil ae dh ah s l ow sil s w ay t sil ih n dh ah eh r sil dh ah w ih k eh p t n l ow ng sil aa d sil dh ah m ao r ih t t s sil dh ah sil ch ae t er dh ah m ae n sil p uw d sil hh ih s k ow t sil ah r aa n hh ih m sil ae g ey v ah p sil g ae s p iy dh ah w ih n t sil ae t l ae s t sil sil ae hh ae v sil g ao t sil n m ao r sil p aa f l eh f t sil n aw ih s m ae er sil s ae t dh ah s ah n sil ae z ih s sil ih m er s sil f r ah m dh ah k l aw d sil dh ah s ah n sil t ih n t ah l iy sil b r ae s t sil ih n dh ah sil k ow l eh r sil dh ah s t r aa g er ih t b r ae s t n sil l ah l aa jh er ae n d sil r aa ng d er ih t s iy m t uw k l ow sil sil\n"
     ]
    },
    {
     "name": "stderr",
     "output_type": "stream",
     "text": [
      "/home/dmesg/miniconda3/envs/semi/lib/python3.8/site-packages/librosa/util/decorators.py:88: UserWarning: PySoundFile failed. Trying audioread instead.\n",
      "  return f(*args, **kwargs)\n"
     ]
    },
    {
     "name": "stdout",
     "output_type": "stream",
     "text": [
      "D5-1\n",
      "sil l ey s sil t ay sil t r iy ng sil m zh er sil iy sh uw sil b r l ow sil l ey f sil er sil f ah t aa g er f t er n d aa n sil t ah n ao n d ah l ay t s p l iy sil d eh r w ah s ah sil b ih k sil p r aa b l ah m b ih t w iy d ah sil t uw g r uw p s sil d ah g aa ah m ah n t ih s t r ay ih ng t uw sil ae d r eh s d iy s sil iy sh uw sil ao f sil hh ow m l ah s n ah s sil hh iy l ah n d hh aw t uw d r ay v sil w eh n hh iy w ao s ih k s t iy n y ih r s ow d sil hh iy d r ey zh ah n sil w ah s sil l ao iy sil ah n d hh iy n iy d ih d sil l aa s ih s t uw s iy sil sh iy w s d aw n w ih th sil er w ao k f ao dh ah d ey ae n d sil k uh t sil r ih l ae k s sh iy y uw s t sil ah sil b l ey d t uw m ey k ah s m uw s iy sil f ao r b r ey k f er s t sil sh iy l ay k s t uw t ey k w er k ih n d ah p aa k sil eh v r iy m ao n ih ng sil d ah s k ao s ih s t ih n n iy m ao r f ah n d ih ng t uw ih n p r uw v eh jh ah k ey sh ah n sil d ah b ih d ih ng s aa r t ih t ae ch er w ah s m ao d ah n ae n d y uw n iy k sil sil\n"
     ]
    },
    {
     "name": "stderr",
     "output_type": "stream",
     "text": [
      "/home/dmesg/miniconda3/envs/semi/lib/python3.8/site-packages/librosa/util/decorators.py:88: UserWarning: PySoundFile failed. Trying audioread instead.\n",
      "  return f(*args, **kwargs)\n"
     ]
    },
    {
     "name": "stdout",
     "output_type": "stream",
     "text": [
      "D5-2\n",
      "sil ih t w ah z ah f ay b ae t v eh r iy k ow d w ih n t er s d ey sil ae d ah s aa n sh ow d aw n sil ah n dh ah s n ow k ah v ah d er s b ih l ow sil w ah t b uw t f ao s ay t sil ih t s ao t sil ah n d l uh k ae dh ah l ih t ah w ay t s aw s ah v dh ah sh ey p s ah n ah b l uw s iy sil ay w ah n t ih t ih k m ay t ay t aa v l ih ng ah k r ao s dh ah s k ay t d ey sil ae f t ah ao r sil w s dh ah r sh sil s aa d ah n l iy sil ah f r iy d ih ng k ow d sil b l eh s t ah v sil ey r sil s k r iy n ch sil p aa s t sil ae n m ih r l iy b ah l dh ah s ah n ah l ao ng ih dh ih t sil aw t ah v m ay w ey sil s ah n sil r ow d ah w ih n d sil s iy d ow sh p s sil ay n g ow ih ng t uw b l ow d ah r ae t ah v k ow s sil dh ey w ah n t n ow w ah s hh iy b ah sil ah w ih n t sil b l uw ae n d b l uw sil ih t b l uw s ow hh aa d sil d t dh ah sh ih p s eh s sil r ih p t ah p aa t sil ao dh ah s ah n k uh sil d uw sil w ih th w aa ch ae t dh ah s ae s ae l er s sh ey f t sil ih n d ah sil ay s iy b l ae s t sil sh uh k sil dh eh r f ih f s sil ah n d k r ay d t sil ih ng ae ng g er sil n aa t g eh n w ih n d sil s ay n dh s ah n sil w ay d uh hh ae b t ah k ao s m ih dh er r iy sil ah n sil jh ow s sil ow v ah dh ah t aa sil b ih k ow s ay l ay k sh ow ng sil jh ah s t sil hh s t r ah n ay ae n sil r ih p l ay d dh ah w ih n d sil uw s ih t ih ng d ah s k ay ah n d sil d uw n aa th ih ng ih k s ae p t sh ng sil t ay ah n ah f ow ah v f ow s ae n d ae n ah jh iy sil sil\n"
     ]
    },
    {
     "name": "stderr",
     "output_type": "stream",
     "text": [
      "/home/dmesg/miniconda3/envs/semi/lib/python3.8/site-packages/librosa/util/decorators.py:88: UserWarning: PySoundFile failed. Trying audioread instead.\n",
      "  return f(*args, **kwargs)\n"
     ]
    },
    {
     "name": "stdout",
     "output_type": "stream",
     "text": [
      "D5-3\n",
      "sil iy n sil s eh dh ah s ah n sil l uh k ih ng s ao t f ah sil ay hh ae v ah n ay d iy r sil l ae s hh ae v ah k ow t eh s t sil t ah s iy w ih ch ah v ah s ih d ah s t r ow ng g er sil ay d ah hh ow w eh r ih ng sil s eh d ah w ih ng t sil w ih sh uh s iy sil r ih p ay dh ah s ah n sil d r iy s iy d ae t m eh n d aa n dh iy r sil d ah w ih n d l uh k sil w eh r ah s ah n w ah s p ao n t ih ng sil dh iy y ah ng m eh n w ah s w ao k ih ng ah l ao ng ah w ih ng d ih r ow t sil s r uw dh ah m aw n t ah n s ih w er s ow k ow t sil ih w ah z b eh r ih ng sil ah hh eh v iy w ih n t er k ow t sil t uw k iy p sil w ah n sil l eh s s iy w ih ch ah v ah s ih s t r ow ih n ah f sil t uw t ey k hh ih s k ow t ao f sil hh ih ng sil s ih jh eh s t ih dh ah s ah n sil iy d iy sil ay k ih n d uw d ae t sil ih n n ow t ay m sil b ow s t ih d sil dh ah w ih ng d sil g ow ao n d eh n sil s ih d dh ah s ah n sil ah w ah ch iy f r n sil b ih hh ay n d ah k ow k l aw sil d ah w ih n t sil b l ow ae n d b l uw sil ih t b l uw s ow hh aa r d sil d ae t d ah b er s sil hh ae t uw k l iy n t dh ah sh t r iy s sil t ih s t sil b ih ng s eh p t ah w ey sil d ah m ae n sh iy v t ae n d sil d ih d sil ae p dh ah t aa b sil b aa d ah n ah v hh ih s ow t sil ae d ah s n ow sil ih d sil ih n iy eh r sil d ah w ih n sil k eh p t sil ao n b l ow ih ng sil b ah t dh ah m ao r ih d ih d s ow sil dh ah t ay t er d ah m eh n p ao sil ih k d er r aw n hh ih m sil t uw k iy p w ao sil ay g ey v ah p sil y eh t g ae s p t sil d ah w ih ng d ae t l ao s t sil aa g aa t n ow m ao sil p ao sil l eh f t sil n aw ih t s m ay t er n sil s eh d dh ah s aa n ae z ih t ih m er t f r ah n dh ah k l d sil s ah jh eh n t ah l iy b r iy s t sil ih d k ow d eh r sil dh ah s t r ow ng g er sil ih t sil b ey s t ih ng sil dh ah l aa d er sil ih n d ah r aa n d er sil s iy n sil t uw b l uw sil sil\n",
      "D1-1\n",
      "z ih s sil t ay sil d r iy m sil m eh zh er sil iy sh uw sil g r uw sil l ih sil g r er sil f ah t aa g r er f iy sil t er aa sil t er ah n l ay s p l iy s sil d eh r w ah z ah b ih g p r aa b l ah m b iy t w iy n d ah t uw g r ow s sil d ah g ah m ah n t iy z t r ay n t ah d r eh s dh iy iy sh uw ah v hh m l eh s n eh s sil hh iy l er n d hh aw t ah d r ay v w eh n hh iy w ah s ih k s t iy n y ih r z ow d sil hh ih z v iy zh ah n w ah z b l er iy sil ae n d hh iy n iy d ih d g l ae s ih s t uw s iy sil sh iy w ah z d aa n w ih z hh er w ah k f ao dh ah d ey sil ae n d k ih r ih l ae k s sil sh iy y uw z d ah b r ih n t er t ah m ey k ah s m uw s iy f ao b r eh k f ah s t sil sh iy l ay s t ah t ey k ah w ao k ih n d ah p aa t eh v r iy m ao n ih ng sil dh ah s k uw l s ih s t ah m n iy s m ao r f ah n d iy ih n t uw ih m p r uw v eh jh ah k ey sh ah n sil d ah b uw t ih ng ae k t eh k ch er sil w ah z m ao r d ah n ae n y uw n iy k sil sil\n",
      "D1-2\n",
      "sil ih t w ah z ah f ay n b ah t ah v eh r iy k l w ih n t er s t ey sil ae z ah s ah ng sh ao n d aw ao n ah s n ow k ae b ah t er s b ih l ow sil w t ah b uw t ah f ah s ay sil ih s ao t sil ae n l uh k dh ah l ih t ah w s eh l s ah v dh ah sh iy p s aa n b l uw s iy sil ay n t t ey k m ay t ay m t r aa b l ih ng ah k r ao s ah s k ay t ah d ey sil aa f t ah ao l w ah s l ah r ah sh sil s ah d ah n l iy sil ah f r iy z ih ng k ow d b r ae s ah v eh r sil s k r iy ch p ae s t sil n d n ih r l iy b l ow dh ah s ao ng ah l ao ng w ih z ih t sil aw t ah m ay w ey s ao sil r ow d dh ah w n d sil s ih z ow z sh iy p s sil m g ow ih n t ah b l ow d ah n r ay t ah v k ao s sil dh ah w ah n n ow w ah s hh ih t l ah n sil d ah w ih n d b l uw ah n d b l uw sil ih t b l uw s ow hh aa d dh ah t dh ah sh p s eh l r ih p t ah p r aa sil sil ao dh ah s aa ng g ih d uw sil w ah z w ao sh sil ah z dh ah s ey l er z sh ih v er d ao n ih n dh iy ay s iy sil b l aa s sil sh uh k dh eh r f iy s sil ae n d k r ay d aw t ih ng ae ng g er sil n ao t ah k ih ng sil w ih n sil s ay ih n ih s aa sil w ay t uw y hh ae v t ah k ao s m ih z er iy ae n d k ey aa s sil ao l dh ah t ay m sil b ih k ao s ay l ay sh ow ih ng ch ah s t hh aa v s t r ay ae sil w ih p r ay d dh ah w ih n sil y uw s iy t ih n ah s k ay ae n d uw n ah s ih ng s eh p t ah sh ay sil b ah d ah sil ay ah n f ao l f ao s ae n eh n ah jh iy sil sil\n",
      "D1-3\n",
      "sil sil s eh dh ah dh ah s ah ng sil l uh k ih ng s ao t ah f ao sil ay hh ae v ah ay d iy ah sil l eh s hh ae v ah k aa n t eh s t ah s iy w ih ch ah v aa s dh ah s t r ng g er sil ay n ow hh uw y ah w ih ng s eh d dh ah w ih ng sil w ih sh ah l s iy sil r ih p r ay d ah s ah sil d uw s iy dh ah t m ae n d n dh eh r sil d ah w ih n d l uw k t ah w eh r dh ah s ah n w ah z p oy n t ih ng sil ah y ah ng m ae n w ah z w ow k ih ng ah l ao w ih n d iy r ow d ah th r uw dh ah m aa n t ih ng s sil ih t w ah z k ow sil hh iy w ah z b eh r ih ng ah hh eh v iy w ih n d ah k ow d t uw k iy p w ao r sil l eh s s iy w ih ch w ah ao aa s ih s t r ao ng ih n ah f t uw t ey k hh ih k ow t ao f hh ih sil s ah jh eh s t ih d ah s aa n sil iy z iy sil ay k ae n d uw dh ae t ih n ow t ay m sil b ow s ih d dh ah w ih n sil g ow ao ng g s eh d ah dh ah s aa sil ay w ao sh ih f r m b ih hh ay n d ah k l aw sil d ah w ih n d b l uw ah n d b l uw sil d b l uw s ow hh aa r t d dh ah ah sil b er s hh ae d t uw sil k l ih ng sil t dh ah t r iy s sil t uw s t ao p ih ng s w eh t sil ah w ey sil ah m ae n sh ih v er d ae n d d ih d sil aa p d ah t p b aa t ah n sil ah v sil hh ih s k ow t sil ah t dh ah s n ow s w er d ih n dh iy eh r sil d ah w ih n k eh p t aa b l ow ih ng sil b ah t dh ah m ao r ih t d ih d s ow sil b ah t ay t ah d ah m ae n p ow d hh ih s k ow d er aa n hh ih m sil t ah k iy p sil w ao sil ay g iy v ah sil g ae s p ah dh ah s w ih ng sil ae t ah l aa s t sil ay g aa t n ow m ao r p aa f l f sil n aw ih s m ay t ah sil s eh d dh ah s aa ng sil ae z ih sil ih t sil ih m er jh ah f r ah m dh ah k l aw d sil dh ah s aa n jh ah n t l iy b r iy s t ih n d iy k ow d eh r sil ah s t r ao ng g er ih t b r er s t n sil ah l aa jh er ah n d r aa n d er sil ih dh ah s iy m t uw g l ow sil sil\n"
     ]
    },
    {
     "name": "stderr",
     "output_type": "stream",
     "text": [
      "/home/dmesg/miniconda3/envs/semi/lib/python3.8/site-packages/librosa/util/decorators.py:88: UserWarning: PySoundFile failed. Trying audioread instead.\n",
      "  return f(*args, **kwargs)\n"
     ]
    },
    {
     "name": "stdout",
     "output_type": "stream",
     "text": [
      "D3-1\n",
      "sil d ih s sil t oy sil t r iy sil m eh zh er sil ey zh sil b l uw sil l ih sil g er sil f t ow g r ae f iy sil t er n aw sil t er n aa n ah l ay s p l ey s sil d eh r w ah z ah b ih p ao b ah n b ih uw n d t uw g r uh p s sil d ah g aa r m ah n t ih s t r oy ng t d r eh s d ih s eh zh r sil ah v hh ow m l ah s n ah s sil hh iy l er n d hh aw t uw jh r oy w eh n hh iy w ah s s ih k s t iy n y ih r s ow l d sil sil hh ih s v ih sh ah n w ah z b l uw iy sil ah n d hh iy n iy d ih d sil g r ae s iy s t ah s iy sil sh iy w ah s d ao ng w ih s er w er k f ao l ah d ey sil ah n d k r uw r ih l ae k s sil sh iy y uw t ah p l ah n d er t uw m ey k ah s m uw iy f er sil b r eh k f ah s t sil sh iy l eh k s t uw t ey k ah w ao k ih n dh ah p aa r t eh v r iy m ao r n ih ng sil d ah s k r uw s ih s t ah m n iy s m ao r f ah n d ih ng sil t uw sil ih m p r uw v sil ae l ah k ey sh ah n sil b ih l ih ng s aa r k ah t eh k ch r er w ah s m ao dh ah n ae n y n ih ng k sil sil\n"
     ]
    },
    {
     "name": "stderr",
     "output_type": "stream",
     "text": [
      "/home/dmesg/miniconda3/envs/semi/lib/python3.8/site-packages/librosa/util/decorators.py:88: UserWarning: PySoundFile failed. Trying audioread instead.\n",
      "  return f(*args, **kwargs)\n"
     ]
    },
    {
     "name": "stdout",
     "output_type": "stream",
     "text": [
      "D3-2\n",
      "sil sil ih w ah z ah f ay b ae b eh r ih k ah v w ih ng t er s t ey sil ae z ah s ah n sh ao n d aw n sil aa n dh ah s n ow k aa v er d sil er s b ih l ow sil ao t ah b y uw t ah f ah l s ay t sil hh iy s ao t sil ah n l uh k ae d ah l t ah w ay t s eh ah v dh ah sh iy p s sil ao n d ah p l uw s iy sil ay w ah n t ah t ey k m ay t ay m t r aa v ah l ih ng ah k r ao s dh ah s k ay t ah d ey sil ae f t er ao l s t ah r ae sh sil s ah d ah l iy sil ah f r iy s ih ng k ow l b l eh s t sil ah v sil eh r s k r iy sh t sil p ae s t sil ah n n ih r l iy b l uw dh ah s ah n ah l ao ng ih s ih t sil ao t ah v sil m ay v oy s ah sil r ao d ah w ih n d sil s iy d ah s f t iy p s sil ah n g ow ih ng t ah b ow d ah r ay t ah f k r ao s sil d ah w ah n n ow w ao s hh iy d ah n sil d ah w ih ng b l uw ah n d b l uw sil ih t b l uw s ow hh aa r d sil ah n d d ae sh iy p s s sil r ih t ah p aa r t sil ah l ah s ah n t r uw d uw w ah s w ao sh sil ae z dh ah s eh l er s sil sh ih w er d sil ih n d ah s ay s b l ae s t sil sh uh k d eh r f iy s sil ah n d k r ay d aw t ih ng sil ae ng g er sil n aa t ah g eh n w ih n d sil s ay d s ah n sil w ay d uw y uw hh ae t uw k ao s sil m ih z er iy ae n ch ao s sil t t ay m sil b iy k ah z ay l ae k sil sh ow ih ng jh ah s t hh aw s t r ao ng ay m sil r ih p l ay d ah w ih n d sil ah s iy t ih n d ah s k ay sil ah n d ah n ao s ih ng ih k s ae t sh ay sil b ah t sil ay ae m f uw ah v f ao r s ah n sil eh n er jh iy sil sil\n"
     ]
    },
    {
     "name": "stderr",
     "output_type": "stream",
     "text": [
      "/home/dmesg/miniconda3/envs/semi/lib/python3.8/site-packages/librosa/util/decorators.py:88: UserWarning: PySoundFile failed. Trying audioread instead.\n",
      "  return f(*args, **kwargs)\n"
     ]
    },
    {
     "name": "stdout",
     "output_type": "stream",
     "text": [
      "D3-3\n",
      "sil sil s ae t ah s ah n sil l uh k ih ng s ao t f ow sil ay hh ae d ah n ay d iy r sil ae s hh ae v ah k ao n t eh s t ah s iy w ih ch ah p ah s ih z ah s t r ao ng g er sil ay n ow sil hh uw l w ih ng sil s ae d ah w ih n t sil iy sh ae l s iy sil ih p aa t ih n d ah s ah n sil d uw s iy d ae t sil m aa n d ah hh iy r sil d w ih n d l uh k t w eh r d ah s ah n w ah p ao n ih ng sil ah y ah ng m ah n w ah s w ao k ih ng ah l ao ng ah w ih n iy r ow sil s r uw ah m aa n t hh ih ng s sil ih v w ah s s ow k ih t sil hh iy w ah z r eh r ih ng ah hh ae v iy w ih ng t er k ow t k p ao r sil ae s s iy w ih ch w ah n ah v ah s ih s f r aa ng k er ih n aa f sil t ah t ey k hh ih s k ow t ao f ih m sil s ah jh eh s t ih d ah s ah n sil iy s iy sil ay k ah n d ih l l ih ng n ow t ay m sil m b ow s t ih d ah w ih ng t sil g ow aa n d ih n sil s eh d ah s ah n sil eh v ah w ao t sh uw f r ah m b iy hh ae n d ah k ao l t sil d ah w ih n d b l ow ah n d b l ow sil ih t b ih l ow s ow hh aa r d ae d ah b ao r s sil hh ae s t uw k l ih m ih ng sil t uw t r iy s t ah s t ao b b ih ng s w ae p t ah w ey sil d ah m ae n sh ih v er d sil ae n d d ih d ah sil d ah t ao p sil b ah t ah m sil ah v hh ih s k ow sil ae z dh ah s n ow s w eh d ih n dh iy eh r sil d ah w n k ih p ah m b l ow ih ng sil b ah d ah m ao r sil ih d ih s ow sil dh ah t ay t er d ah m ae n p uw d hh ih s k ow t sil er r aa n hh ih m t ah k iy p w ao r n sil ay g ey v ah sil g eh s p er d ah w ih ng ae t l ah s t sil ay hh ae sil n ow m ao r p ah f t sil l ae t sil l ae t sil n ao eh l s ih s m ay t er sil s eh d ah s ah n ae s ih t m ao r t f r ah m d ah k ow t sil d ah s eh n jh ah n hh ow b r s t sil ih n ah k ow l d eh r sil ah s t r ao ng g er ih t sil b r eh s t sil ih ng sil d ah l aa sil d ah l aa t er ah n d r ao n d er ih s ih m d ah t g ow sil sil\n"
     ]
    }
   ],
   "source": [
    "class Decoder:\n",
    "    def __init__(self, json_dict):\n",
    "        self.dict = json_dict\n",
    "        self.look_up = np.asarray(list(self.dict.keys()))\n",
    "\n",
    "    def decode(self, ids):\n",
    "        converted_tokens = self.look_up[ids]\n",
    "        fused_tokens = [tok[0] for tok in groupby(converted_tokens)]\n",
    "        output = ' '.join([tok for tok in fused_tokens if tok != '<s>'])\n",
    "        return output\n",
    "    \n",
    "device = torch.device('cuda')\n",
    "\n",
    "model, _ = fairseq.checkpoint_utils.load_model_ensemble(\n",
    "    [checkpoint_path], arg_overrides={})\n",
    "model = model[0]\n",
    "model.eval()\n",
    "\n",
    "model.to(device=device)\n",
    "\n",
    "json_dict = {\"<s>\": 0, \"<pad>\": 1, \"</s>\": 2, \"<unk>\": 3}\n",
    "count = 4\n",
    "with open(dict_path, 'r') as f:\n",
    "    for line in f.readlines():\n",
    "        json_dict[line.split(' ')[0].strip()] = count\n",
    "        count += 1\n",
    "\n",
    "decoder = Decoder(json_dict=json_dict)\n",
    "\n",
    "\n",
    "decoded_dict = dict()\n",
    "for wav_path in tqdm(wav_path_list):\n",
    "    wav_id = wav_path.split('/')[-1].split('.')[0]\n",
    "    with torch.no_grad():\n",
    "        wav, sr = librosa.load(wav_path.strip())\n",
    "        if sr != 16000:\n",
    "            wav = librosa.resample(wav, orig_sr=sr, target_sr=16000)\n",
    "        input_sample = torch.tensor(wav)[None, :].to(torch.float32).to(device=device)\n",
    "\n",
    "        logits = model(source=input_sample, padding_mask=None)[\"encoder_out\"]\n",
    "        predicted_ids = torch.argmax(logits[:, 0], axis=-1).cpu()\n",
    "\n",
    "    phn_seq = decoder.decode(predicted_ids)\n",
    "\n",
    "    decoded_dict[wav_id] = phn_seq\n",
    "    print(wav_id)\n",
    "    print(phn_seq)"
   ]
  },
  {
   "cell_type": "code",
   "execution_count": 8,
   "id": "a2eeda67",
   "metadata": {},
   "outputs": [],
   "source": [
    "pd.to_pickle(decoded_dict, './decoded_dict.pkl')"
   ]
  },
  {
   "cell_type": "code",
   "execution_count": 9,
   "id": "f7c4e7ef",
   "metadata": {},
   "outputs": [],
   "source": [
    "output_dir = '/mnt/d/projects/semi/results/mm/'"
   ]
  },
  {
   "cell_type": "code",
   "execution_count": 10,
   "id": "cbdf63be",
   "metadata": {},
   "outputs": [
    {
     "data": {
      "text/plain": [
       "{1: 'dh ih s t r ay d r iy m m eh zh er ih sh uw b l uw l ay v g er l f ah t aa g r ah f iy t er n aa n t er n aa n dh ah l ay t s p l iy z dh eh r w aa z ah b ih g p r aa b l ah m b ih t w iy n dh ah t uw g r uw p s dh ah g ah v er m ah n t ih z t r ay ih ng t uw ae d r eh s dh ah ih sh uw ah v hh ow m l ah s n ah s hh iy l er n d hh aw t uw d r ay v w eh n hh iy w aa z s ih k s t iy n y ih r z ow l d hh ih z v ih zh ah n w aa z b l er iy ah n d hh iy n iy d ah d g l ae s ah z t uw s iy sh iy w aa z d ah n w ih dh hh er w er k f ao r dh ah d ey ah n d k uh d r ih l ae k s sh iy y uw z d ah b l eh n d er t uw m ey k ah s m uw dh iy f ao r b r eh k f ah s t sh iy l ay k s t uw t ey k ah w ao k ih n dh ah p aa r k eh v er iy m ao r n ih ng dh ah s k uw l s ih s t ah m n iy d z m ao r f ah n d ih ng t uw ih m p r uw v eh jh ah k ey sh ah n dh ah b ih l d ih ng z aa r k ah t eh k ch er w aa z m aa d er n ah n d y uw n iy k',\n",
       " 2: 'ih t w aa z ah f ay n b ah t v eh r iy k ow l d w ih n t er z d ey ae z dh ah s ah n sh ow n d aw n aa n dh ah s n ow k ah v er d er th b ih l ow w ah t ah b y uw t ah f ah l s ay t ih t th ao t ah n d l uh k ae t dh ah l ih t ah l w ay t s ey l z ah v dh ah sh ih p s aa n dh ah b l uw s iy ay w aa n t t uw t ey k m ay t ay m t r ae v ah l ih ng ah k r ao s dh ah s k ay t ah d ey ae f t er ao l w ah t s dh ah r ah sh s ah d ah n l iy ah f r iy z ih ng k ow l d b l ae s t ah v eh r s k r iy ch t p ae s t ah n d n ih r l iy b l uw dh ah s ah n ah l ao ng w ih dh ih t aw t ah v m ay w ey s ah n r ao r d dh ah w ay n d s iy dh ow z sh ih p s ih m g ow ih ng t uw b l ow dh eh m r ay t ao f k ao r s dh ey w ow n t n ow w ah t s hh ih t dh eh m dh ah w ay n d b l uw ah n d b l uw ih t b l uw s ow hh aa r d dh ae t dh ah sh ih p s s ey l z r ih p t ah p aa r t ao l dh ah s ah n k uh d d uw w aa z w aa ch ae z dh ah s ey l er z sh ih v er d ih n dh ah ay s iy b l ae s t sh uh k dh eh r f ih s t s ah n d k r ay d aw t ih n ae ng g er n aa t ah g eh n w ay n d s ay d dh ah s ah n w ay d uw y uw hh ae v t uw k aa z m ih z er iy ah n d k ey aa s ao l dh ah t ay m b ih k ao z ay l ay k sh ow ih ng jh ah s t hh aw s t r ao ng ay ae m r ih p l ay d dh ah w ay n d y uw s ih t ih n dh ah s k ay ah n d d uw n ah th ih ng ih k s eh p t sh ay n b ah t ay ae m f uh l ah v f ao r s ah n d eh n er jh iy',\n",
       " 3: 'hh m s eh d dh ah s ah n l uh k ih ng th ao t f ah l ay hh ae v ae n ay d iy ah l eh t s hh ae v ah k aa n t eh s t t uw s iy w ih ch ah v ah s ih z dh ah s t r ao ng er ay n ow hh uw w ih l w ih n s eh d dh ah w ay n d w iy sh ae l s iy r ih p l ay d dh ah s ah n d uw y uw s iy dh ae t m ae n d aw n dh eh r dh ah w ay n d l uh k t w eh r dh ah s ah n w aa z p oy n t ih ng ah y ah ng m ae n w aa z w ao k ih ng ah l ao ng ah w ih n d iy r ow d th r uw dh ah m aw n t ah n z ih t w aa z s ow k ow l d hh iy w aa z w eh r ih ng ah hh eh v iy w ih n t er k ow t t uw k iy p w ao r m l eh t s s iy w ih ch w ah n ah v ah s ih z s t r ao ng ih n ah f t uw t ey k hh ih z k ow t ao f hh ih m s ah jh eh s t ih d dh ah s ah n iy z iy ay k ae n d uw dh ae t ih n n ow t ay m b ow s t ah d dh ah w ay n d g ow aa n dh eh n s eh d dh ah s ah n ih l w aa ch y uw f r ah m b ih hh ay n d ah k l aw d dh ah w ay n d b l uw ah n d b l uw ih t b l uw s ow hh aa r d dh ae t dh ah b er d z hh ae d t uw k l ih ng t uw dh ah t r iy z t uw s t aa p b iy ih ng s w eh p t ah w ey dh ah m ae n sh ih v er d ah n d d ih d ah p dh ah t aa p b ah t ah n ah v hh ih z k ow t ae z dh ah s n ow s w er l d ih n dh ah eh r dh ah w ay n d k eh p t aa n b l ow ih ng b ah t dh ah m ao r ih t d ih d s ow dh ah t ay t er dh ah m ae n p uh l d hh ih z k ow t er aw n d hh ih m t uw k iy p w ao r m ay g ih v ah p g ae s p t dh ah w ay n d ae t l ae s t ay v g aa t n ow m ao r p ah f l eh f t n aw ih t s m ay t er n s eh d dh ah s ah n ae z ih t ih m er jh d f r ah m dh ah k l aw d dh ah s ah n jh eh n t l iy b r iy dh d ih n dh ah k ow l d eh r dh ah s t r ao ng er ih t b r iy dh d ih n dh ah l aa r jh er ah n d r aw n d er ih t s iy m d t uw g l ow'}"
      ]
     },
     "execution_count": 10,
     "metadata": {},
     "output_type": "execute_result"
    }
   ],
   "source": [
    "phone_seq_dict"
   ]
  },
  {
   "cell_type": "code",
   "execution_count": 11,
   "id": "88fa614f",
   "metadata": {},
   "outputs": [],
   "source": [
    "with open(os.path.join(output_dir, 'tran_seq'), 'w+') as f:\n",
    "    for k,v in decoded_dict.items():\n",
    "        part = int(k.split('-')[1])\n",
    "        f.write(k + ' ' + phone_seq_dict[part]  + \"\\n\")"
   ]
  },
  {
   "cell_type": "code",
   "execution_count": 12,
   "id": "e63b9d9b",
   "metadata": {},
   "outputs": [],
   "source": [
    "with open(os.path.join(output_dir, 'decode_seq'), 'w+') as f:\n",
    "    for k,v in decoded_dict.items():\n",
    "        f.write(k + ' ' + ' '.join([x for x in v.split(' ') if x != 'sil'])  + \"\\n\")\n"
   ]
  },
  {
   "cell_type": "code",
   "execution_count": 13,
   "id": "1bfc4387",
   "metadata": {},
   "outputs": [
    {
     "name": "stdout",
     "output_type": "stream",
     "text": [
      "compute-wer --text --mode=present ark:tran_seq ark:decode_seq \n",
      "align-text ark:tran_seq ark:decode_seq ark,t:- \n",
      "LOG (align-text[5.5.1061~1-e4eb]:main():align-text.cc:135) Done 63 sentences, failed for 0\n"
     ]
    }
   ],
   "source": [
    "!/mnt/d/projects/semi/semi/scripts/mdd_result_mm.sh"
   ]
  },
  {
   "cell_type": "code",
   "execution_count": null,
   "id": "071384c5",
   "metadata": {},
   "outputs": [],
   "source": []
  },
  {
   "cell_type": "code",
   "execution_count": 14,
   "id": "593090ee",
   "metadata": {},
   "outputs": [],
   "source": [
    "with open('/mnt/d/projects/semi/results/mm/ref_human_detail', 'r') as f:\n",
    "    lines = f.readlines()"
   ]
  },
  {
   "cell_type": "code",
   "execution_count": 15,
   "id": "57763216",
   "metadata": {},
   "outputs": [
    {
     "data": {
      "text/plain": [
       "'A1-1 #csid 283 58 3 35\\n'"
      ]
     },
     "execution_count": 15,
     "metadata": {},
     "output_type": "execute_result"
    }
   ],
   "source": [
    "lines[3]"
   ]
  },
  {
   "cell_type": "code",
   "execution_count": 16,
   "id": "e92e7233",
   "metadata": {},
   "outputs": [],
   "source": [
    "res_dict = dict()\n",
    "csid_dict = dict()\n",
    "i = 0\n",
    "for line in lines:\n",
    "    splited = line.split(' ', 1)\n",
    "    wav_id = splited[0]\n",
    "    spk = wav_id.split('-')[0]\n",
    "    if i == 0:\n",
    "        l = [[x for x in splited[1].split(' ', 1)[1].replace('\\n', ' ').strip().split(' ') if x != '']]\n",
    "    elif i == 1:\n",
    "        l.append([x for x in splited[1].split(' ', 1)[1].replace('\\n', ' ').strip().split(' ') if x != ''])\n",
    "    elif i == 2:\n",
    "        l.append([x for x in splited[1].split(' ', 1)[1].strip().split(' ') if x != ''])\n",
    "        \n",
    "        if spk in res_dict:\n",
    "            res_dict[spk].append(np.array(l))\n",
    "        else:\n",
    "            res_dict[spk] = [np.array(l)]\n",
    "    else:\n",
    "        i = 0\n",
    "        if spk in csid_dict:\n",
    "            csid_dict[spk].append(np.array([int(x) for x in splited[1].strip().split(' ')[1:5]]))\n",
    "        else:\n",
    "            csid_dict[spk] = [np.array([int(x) for x in splited[1].strip().split(' ')[1:5]])]\n",
    "        continue\n",
    "    i += 1"
   ]
  },
  {
   "cell_type": "code",
   "execution_count": 17,
   "id": "9f76bf31",
   "metadata": {},
   "outputs": [
    {
     "data": {
      "text/html": [
       "<div>\n",
       "<style scoped>\n",
       "    .dataframe tbody tr th:only-of-type {\n",
       "        vertical-align: middle;\n",
       "    }\n",
       "\n",
       "    .dataframe tbody tr th {\n",
       "        vertical-align: top;\n",
       "    }\n",
       "\n",
       "    .dataframe thead th {\n",
       "        text-align: right;\n",
       "    }\n",
       "</style>\n",
       "<table border=\"1\" class=\"dataframe\">\n",
       "  <thead>\n",
       "    <tr style=\"text-align: right;\">\n",
       "      <th></th>\n",
       "      <th>0</th>\n",
       "      <th>1</th>\n",
       "      <th>2</th>\n",
       "      <th>3</th>\n",
       "      <th>4</th>\n",
       "      <th>5</th>\n",
       "      <th>6</th>\n",
       "      <th>7</th>\n",
       "      <th>8</th>\n",
       "      <th>9</th>\n",
       "      <th>...</th>\n",
       "      <th>706</th>\n",
       "      <th>707</th>\n",
       "      <th>708</th>\n",
       "      <th>709</th>\n",
       "      <th>710</th>\n",
       "      <th>711</th>\n",
       "      <th>712</th>\n",
       "      <th>713</th>\n",
       "      <th>714</th>\n",
       "      <th>715</th>\n",
       "    </tr>\n",
       "  </thead>\n",
       "  <tbody>\n",
       "    <tr>\n",
       "      <th>0</th>\n",
       "      <td>hh</td>\n",
       "      <td>m</td>\n",
       "      <td>s</td>\n",
       "      <td>eh</td>\n",
       "      <td>d</td>\n",
       "      <td>dh</td>\n",
       "      <td>ah</td>\n",
       "      <td>s</td>\n",
       "      <td>ah</td>\n",
       "      <td>n</td>\n",
       "      <td>...</td>\n",
       "      <td>t</td>\n",
       "      <td>s</td>\n",
       "      <td>iy</td>\n",
       "      <td>m</td>\n",
       "      <td>d</td>\n",
       "      <td>t</td>\n",
       "      <td>uw</td>\n",
       "      <td>g</td>\n",
       "      <td>l</td>\n",
       "      <td>ow</td>\n",
       "    </tr>\n",
       "    <tr>\n",
       "      <th>1</th>\n",
       "      <td>&lt;eps&gt;</td>\n",
       "      <td>&lt;eps&gt;</td>\n",
       "      <td>s</td>\n",
       "      <td>&lt;eps&gt;</td>\n",
       "      <td>ae</td>\n",
       "      <td>t</td>\n",
       "      <td>ah</td>\n",
       "      <td>s</td>\n",
       "      <td>ah</td>\n",
       "      <td>n</td>\n",
       "      <td>...</td>\n",
       "      <td>&lt;eps&gt;</td>\n",
       "      <td>s</td>\n",
       "      <td>ih</td>\n",
       "      <td>m</td>\n",
       "      <td>d</td>\n",
       "      <td>ah</td>\n",
       "      <td>t</td>\n",
       "      <td>g</td>\n",
       "      <td>&lt;eps&gt;</td>\n",
       "      <td>ow</td>\n",
       "    </tr>\n",
       "    <tr>\n",
       "      <th>2</th>\n",
       "      <td>D</td>\n",
       "      <td>D</td>\n",
       "      <td>C</td>\n",
       "      <td>D</td>\n",
       "      <td>S</td>\n",
       "      <td>S</td>\n",
       "      <td>C</td>\n",
       "      <td>C</td>\n",
       "      <td>C</td>\n",
       "      <td>C</td>\n",
       "      <td>...</td>\n",
       "      <td>D</td>\n",
       "      <td>C</td>\n",
       "      <td>S</td>\n",
       "      <td>C</td>\n",
       "      <td>C</td>\n",
       "      <td>S</td>\n",
       "      <td>S</td>\n",
       "      <td>C</td>\n",
       "      <td>D</td>\n",
       "      <td>C</td>\n",
       "    </tr>\n",
       "  </tbody>\n",
       "</table>\n",
       "<p>3 rows × 716 columns</p>\n",
       "</div>"
      ],
      "text/plain": [
       "     0      1   2      3   4   5   6   7   8   9    ...    706 707 708 709  \\\n",
       "0     hh      m   s     eh   d  dh  ah   s  ah   n  ...      t   s  iy   m   \n",
       "1  <eps>  <eps>   s  <eps>  ae   t  ah   s  ah   n  ...  <eps>   s  ih   m   \n",
       "2      D      D   C      D   S   S   C   C   C   C  ...      D   C   S   C   \n",
       "\n",
       "  710 711 712 713    714 715  \n",
       "0   d   t  uw   g      l  ow  \n",
       "1   d  ah   t   g  <eps>  ow  \n",
       "2   C   S   S   C      D   C  \n",
       "\n",
       "[3 rows x 716 columns]"
      ]
     },
     "execution_count": 17,
     "metadata": {},
     "output_type": "execute_result"
    }
   ],
   "source": [
    "pd.DataFrame(l)"
   ]
  },
  {
   "cell_type": "code",
   "execution_count": 18,
   "id": "721e6a89",
   "metadata": {},
   "outputs": [
    {
     "data": {
      "text/plain": [
       "array([1172,  317,   24,  149])"
      ]
     },
     "execution_count": 18,
     "metadata": {},
     "output_type": "execute_result"
    }
   ],
   "source": [
    "np.stack(csid_dict[spk]).sum(axis=0)"
   ]
  },
  {
   "cell_type": "code",
   "execution_count": 19,
   "id": "aeca72cc",
   "metadata": {},
   "outputs": [
    {
     "data": {
      "text/html": [
       "<div>\n",
       "<style scoped>\n",
       "    .dataframe tbody tr th:only-of-type {\n",
       "        vertical-align: middle;\n",
       "    }\n",
       "\n",
       "    .dataframe tbody tr th {\n",
       "        vertical-align: top;\n",
       "    }\n",
       "\n",
       "    .dataframe thead th {\n",
       "        text-align: right;\n",
       "    }\n",
       "</style>\n",
       "<table border=\"1\" class=\"dataframe\">\n",
       "  <thead>\n",
       "    <tr style=\"text-align: right;\">\n",
       "      <th></th>\n",
       "      <th>spk</th>\n",
       "      <th>C</th>\n",
       "      <th>S</th>\n",
       "      <th>I</th>\n",
       "      <th>D</th>\n",
       "      <th>N</th>\n",
       "      <th>Acc.</th>\n",
       "    </tr>\n",
       "  </thead>\n",
       "  <tbody>\n",
       "    <tr>\n",
       "      <th>11</th>\n",
       "      <td>C1</td>\n",
       "      <td>877</td>\n",
       "      <td>612</td>\n",
       "      <td>170</td>\n",
       "      <td>149</td>\n",
       "      <td>1808</td>\n",
       "      <td>0.485066</td>\n",
       "    </tr>\n",
       "    <tr>\n",
       "      <th>9</th>\n",
       "      <td>B4</td>\n",
       "      <td>908</td>\n",
       "      <td>546</td>\n",
       "      <td>107</td>\n",
       "      <td>184</td>\n",
       "      <td>1745</td>\n",
       "      <td>0.520344</td>\n",
       "    </tr>\n",
       "    <tr>\n",
       "      <th>8</th>\n",
       "      <td>B3</td>\n",
       "      <td>967</td>\n",
       "      <td>463</td>\n",
       "      <td>105</td>\n",
       "      <td>208</td>\n",
       "      <td>1743</td>\n",
       "      <td>0.554791</td>\n",
       "    </tr>\n",
       "    <tr>\n",
       "      <th>1</th>\n",
       "      <td>A2</td>\n",
       "      <td>975</td>\n",
       "      <td>409</td>\n",
       "      <td>24</td>\n",
       "      <td>254</td>\n",
       "      <td>1662</td>\n",
       "      <td>0.586643</td>\n",
       "    </tr>\n",
       "    <tr>\n",
       "      <th>5</th>\n",
       "      <td>A6</td>\n",
       "      <td>989</td>\n",
       "      <td>388</td>\n",
       "      <td>44</td>\n",
       "      <td>261</td>\n",
       "      <td>1682</td>\n",
       "      <td>0.587990</td>\n",
       "    </tr>\n",
       "    <tr>\n",
       "      <th>7</th>\n",
       "      <td>B2</td>\n",
       "      <td>1007</td>\n",
       "      <td>397</td>\n",
       "      <td>11</td>\n",
       "      <td>234</td>\n",
       "      <td>1649</td>\n",
       "      <td>0.610673</td>\n",
       "    </tr>\n",
       "    <tr>\n",
       "      <th>14</th>\n",
       "      <td>C4</td>\n",
       "      <td>1084</td>\n",
       "      <td>357</td>\n",
       "      <td>35</td>\n",
       "      <td>197</td>\n",
       "      <td>1673</td>\n",
       "      <td>0.647938</td>\n",
       "    </tr>\n",
       "    <tr>\n",
       "      <th>15</th>\n",
       "      <td>C5</td>\n",
       "      <td>1126</td>\n",
       "      <td>404</td>\n",
       "      <td>87</td>\n",
       "      <td>108</td>\n",
       "      <td>1725</td>\n",
       "      <td>0.652754</td>\n",
       "    </tr>\n",
       "    <tr>\n",
       "      <th>16</th>\n",
       "      <td>D2</td>\n",
       "      <td>1097</td>\n",
       "      <td>333</td>\n",
       "      <td>32</td>\n",
       "      <td>208</td>\n",
       "      <td>1670</td>\n",
       "      <td>0.656886</td>\n",
       "    </tr>\n",
       "    <tr>\n",
       "      <th>0</th>\n",
       "      <td>A1</td>\n",
       "      <td>1165</td>\n",
       "      <td>291</td>\n",
       "      <td>96</td>\n",
       "      <td>182</td>\n",
       "      <td>1734</td>\n",
       "      <td>0.671857</td>\n",
       "    </tr>\n",
       "    <tr>\n",
       "      <th>10</th>\n",
       "      <td>B5</td>\n",
       "      <td>1105</td>\n",
       "      <td>287</td>\n",
       "      <td>5</td>\n",
       "      <td>246</td>\n",
       "      <td>1643</td>\n",
       "      <td>0.672550</td>\n",
       "    </tr>\n",
       "    <tr>\n",
       "      <th>20</th>\n",
       "      <td>D3</td>\n",
       "      <td>1172</td>\n",
       "      <td>317</td>\n",
       "      <td>24</td>\n",
       "      <td>149</td>\n",
       "      <td>1662</td>\n",
       "      <td>0.705174</td>\n",
       "    </tr>\n",
       "    <tr>\n",
       "      <th>17</th>\n",
       "      <td>D4</td>\n",
       "      <td>1193</td>\n",
       "      <td>282</td>\n",
       "      <td>20</td>\n",
       "      <td>163</td>\n",
       "      <td>1658</td>\n",
       "      <td>0.719542</td>\n",
       "    </tr>\n",
       "    <tr>\n",
       "      <th>3</th>\n",
       "      <td>A4</td>\n",
       "      <td>1202</td>\n",
       "      <td>274</td>\n",
       "      <td>23</td>\n",
       "      <td>162</td>\n",
       "      <td>1661</td>\n",
       "      <td>0.723660</td>\n",
       "    </tr>\n",
       "    <tr>\n",
       "      <th>18</th>\n",
       "      <td>D5</td>\n",
       "      <td>1199</td>\n",
       "      <td>289</td>\n",
       "      <td>17</td>\n",
       "      <td>150</td>\n",
       "      <td>1655</td>\n",
       "      <td>0.724471</td>\n",
       "    </tr>\n",
       "    <tr>\n",
       "      <th>4</th>\n",
       "      <td>A5</td>\n",
       "      <td>1206</td>\n",
       "      <td>301</td>\n",
       "      <td>19</td>\n",
       "      <td>131</td>\n",
       "      <td>1657</td>\n",
       "      <td>0.727821</td>\n",
       "    </tr>\n",
       "    <tr>\n",
       "      <th>19</th>\n",
       "      <td>D1</td>\n",
       "      <td>1236</td>\n",
       "      <td>244</td>\n",
       "      <td>16</td>\n",
       "      <td>158</td>\n",
       "      <td>1654</td>\n",
       "      <td>0.747279</td>\n",
       "    </tr>\n",
       "    <tr>\n",
       "      <th>13</th>\n",
       "      <td>C3</td>\n",
       "      <td>1243</td>\n",
       "      <td>251</td>\n",
       "      <td>21</td>\n",
       "      <td>144</td>\n",
       "      <td>1659</td>\n",
       "      <td>0.749247</td>\n",
       "    </tr>\n",
       "    <tr>\n",
       "      <th>12</th>\n",
       "      <td>C2</td>\n",
       "      <td>1247</td>\n",
       "      <td>252</td>\n",
       "      <td>22</td>\n",
       "      <td>139</td>\n",
       "      <td>1660</td>\n",
       "      <td>0.751205</td>\n",
       "    </tr>\n",
       "    <tr>\n",
       "      <th>2</th>\n",
       "      <td>A3</td>\n",
       "      <td>1266</td>\n",
       "      <td>259</td>\n",
       "      <td>29</td>\n",
       "      <td>113</td>\n",
       "      <td>1667</td>\n",
       "      <td>0.759448</td>\n",
       "    </tr>\n",
       "    <tr>\n",
       "      <th>6</th>\n",
       "      <td>B1</td>\n",
       "      <td>1329</td>\n",
       "      <td>192</td>\n",
       "      <td>7</td>\n",
       "      <td>117</td>\n",
       "      <td>1645</td>\n",
       "      <td>0.807903</td>\n",
       "    </tr>\n",
       "  </tbody>\n",
       "</table>\n",
       "</div>"
      ],
      "text/plain": [
       "   spk     C    S    I    D     N      Acc.\n",
       "11  C1   877  612  170  149  1808  0.485066\n",
       "9   B4   908  546  107  184  1745  0.520344\n",
       "8   B3   967  463  105  208  1743  0.554791\n",
       "1   A2   975  409   24  254  1662  0.586643\n",
       "5   A6   989  388   44  261  1682  0.587990\n",
       "7   B2  1007  397   11  234  1649  0.610673\n",
       "14  C4  1084  357   35  197  1673  0.647938\n",
       "15  C5  1126  404   87  108  1725  0.652754\n",
       "16  D2  1097  333   32  208  1670  0.656886\n",
       "0   A1  1165  291   96  182  1734  0.671857\n",
       "10  B5  1105  287    5  246  1643  0.672550\n",
       "20  D3  1172  317   24  149  1662  0.705174\n",
       "17  D4  1193  282   20  163  1658  0.719542\n",
       "3   A4  1202  274   23  162  1661  0.723660\n",
       "18  D5  1199  289   17  150  1655  0.724471\n",
       "4   A5  1206  301   19  131  1657  0.727821\n",
       "19  D1  1236  244   16  158  1654  0.747279\n",
       "13  C3  1243  251   21  144  1659  0.749247\n",
       "12  C2  1247  252   22  139  1660  0.751205\n",
       "2   A3  1266  259   29  113  1667  0.759448\n",
       "6   B1  1329  192    7  117  1645  0.807903"
      ]
     },
     "execution_count": 19,
     "metadata": {},
     "output_type": "execute_result"
    }
   ],
   "source": [
    "l = []\n",
    "for spk in csid_dict.keys():\n",
    "    csid = np.stack(csid_dict[spk]).sum(axis=0)\n",
    "    l.append({'spk': spk, 'C': csid[0], 'S': csid[1], 'I': csid[2], 'D': csid[3]})\n",
    "csid_df = pd.DataFrame.from_records(l)\n",
    "csid_df['N'] = csid_df[['C', 'S', 'I', 'D']].sum(axis=1)\n",
    "csid_df['Acc.'] = csid_df['C'] / csid_df['N']\n",
    "csid_df.sort_values('Acc.')"
   ]
  },
  {
   "cell_type": "code",
   "execution_count": 20,
   "id": "499126cf",
   "metadata": {},
   "outputs": [
    {
     "data": {
      "text/plain": [
       "<AxesSubplot: >"
      ]
     },
     "execution_count": 20,
     "metadata": {},
     "output_type": "execute_result"
    },
    {
     "data": {
      "image/png": "[encoded data removed]",
      "text/plain": [
       "<Figure size 640x480 with 1 Axes>"
      ]
     },
     "metadata": {},
     "output_type": "display_data"
    }
   ],
   "source": [
    "csid_df.sort_values('Acc.').head(8)['Acc.'].hist()\n",
    "csid_df.sort_values('Acc.').tail(8)['Acc.'].hist()"
   ]
  },
  {
   "cell_type": "code",
   "execution_count": 21,
   "id": "58b8427f",
   "metadata": {},
   "outputs": [],
   "source": [
    "for spk in res_dict.keys():\n",
    "    df = pd.DataFrame(np.hstack(res_dict[spk])).T\n",
    "    df['mis'] = df[0] + '-' + df[1]\n",
    "    df[df[2]!='C']['mis'].value_counts().to_csv(f'{spk}.csv')"
   ]
  }
 ],
 "metadata": {
  "kernelspec": {
   "display_name": "Python 3 (ipykernel)",
   "language": "python",
   "name": "python3"
  },
  "language_info": {
   "codemirror_mode": {
    "name": "ipython",
    "version": 3
   },
   "file_extension": ".py",
   "mimetype": "text/x-python",
   "name": "python",
   "nbconvert_exporter": "python",
   "pygments_lexer": "ipython3",
   "version": "3.8.16"
  }
 },
 "nbformat": 4,
 "nbformat_minor": 5
}
