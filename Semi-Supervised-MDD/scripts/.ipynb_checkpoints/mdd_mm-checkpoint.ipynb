{
 "cells": [
  {
   "cell_type": "code",
   "execution_count": 1,
   "id": "d7229d43",
   "metadata": {},
   "outputs": [],
   "source": [
    "import sys\n",
    "sys.path.append('../../fairseq')\n",
    "# sys.path.append('./scripts')\n",
    "# sys.path.append('./scripts/g2p')\n",
    "\n",
    "import os\n",
    "import string\n",
    "import pathlib\n",
    "import numpy as np\n",
    "import pandas as pd\n",
    "import librosa\n",
    "\n",
    "\n",
    "from tqdm.notebook import tqdm\n",
    "from glob import glob\n",
    "from g2p.en_us import G2P\n",
    "\n",
    "import torch\n",
    "import fairseq\n",
    "import soundfile as sf\n",
    "\n",
    "from itertools import groupby"
   ]
  },
  {
   "cell_type": "code",
   "execution_count": 2,
   "id": "34ceb97b",
   "metadata": {},
   "outputs": [],
   "source": [
    "data_dir = '/mnt/d/projects/mm_data_splited'\n",
    "checkpoint_path = '/mnt/d/projects/semi/results/finetune_base_vc copy/checkpoint_best.pt'\n",
    "dict_path = '/mnt/d/projects/semi/data/dict.wrd.txt'\n",
    "\n",
    "g2p = G2P()\n",
    "remove_digits = str.maketrans('', '', string.digits)"
   ]
  },
  {
   "cell_type": "code",
   "execution_count": 3,
   "id": "57cedad5",
   "metadata": {},
   "outputs": [],
   "source": [
    "wav_path_list = glob(os.path.join(data_dir, '*.mp3'))+glob(os.path.join(data_dir, '*.m4a'))+glob(os.path.join(data_dir, '*.wav'))+glob(os.path.join(data_dir, '*.acc'))\n"
   ]
  },
  {
   "cell_type": "code",
   "execution_count": 4,
   "id": "6d73a792",
   "metadata": {},
   "outputs": [],
   "source": [
    "phone_seq_dict = dict()\n",
    "for part in [1,2,3]:\n",
    "    prompt_path = os.path.join(data_dir, f'Part{part}.TXT')\n",
    "    with open(prompt_path) as f:\n",
    "        lines = f.readlines()\n",
    "        s = ''.join([l.replace('\\n', ' ') for l in lines])\n",
    "    phone_seq = []\n",
    "    for word in s.split(' '):\n",
    "        if word in ['–', '…', '']:\n",
    "            continue\n",
    "        phone_seq += [x.lower().translate(remove_digits) for x in g2p.convert(word.translate(str.maketrans('', '', string.punctuation)))]\n",
    "    phone_seq = ' '.join(phone_seq)  \n",
    "    phone_seq_dict[part] = phone_seq"
   ]
  },
  {
   "cell_type": "code",
   "execution_count": 5,
   "id": "5f0934dc",
   "metadata": {},
   "outputs": [
    {
     "data": {
      "text/plain": [
       "'hh m s eh d dh ah s ah n l uh k ih ng th ao t f ah l ay hh ae v ae n ay d iy ah l eh t s hh ae v ah k aa n t eh s t t uw s iy w ih ch ah v ah s ih z dh ah s t r ao ng er ay n ow hh uw w ih l w ih n s eh d dh ah w ay n d w iy sh ae l s iy r ih p l ay d dh ah s ah n d uw y uw s iy dh ae t m ae n d aw n dh eh r dh ah w ay n d l uh k t w eh r dh ah s ah n w aa z p oy n t ih ng ah y ah ng m ae n w aa z w ao k ih ng ah l ao ng ah w ih n d iy r ow d th r uw dh ah m aw n t ah n z ih t w aa z s ow k ow l d hh iy w aa z w eh r ih ng ah hh eh v iy w ih n t er k ow t t uw k iy p w ao r m l eh t s s iy w ih ch w ah n ah v ah s ih z s t r ao ng ih n ah f t uw t ey k hh ih z k ow t ao f hh ih m s ah jh eh s t ih d dh ah s ah n iy z iy ay k ae n d uw dh ae t ih n n ow t ay m b ow s t ah d dh ah w ay n d g ow aa n dh eh n s eh d dh ah s ah n ih l w aa ch y uw f r ah m b ih hh ay n d ah k l aw d dh ah w ay n d b l uw ah n d b l uw ih t b l uw s ow hh aa r d dh ae t dh ah b er d z hh ae d t uw k l ih ng t uw dh ah t r iy z t uw s t aa p b iy ih ng s w eh p t ah w ey dh ah m ae n sh ih v er d ah n d d ih d ah p dh ah t aa p b ah t ah n ah v hh ih z k ow t ae z dh ah s n ow s w er l d ih n dh ah eh r dh ah w ay n d k eh p t aa n b l ow ih ng b ah t dh ah m ao r ih t d ih d s ow dh ah t ay t er dh ah m ae n p uh l d hh ih z k ow t er aw n d hh ih m t uw k iy p w ao r m ay g ih v ah p g ae s p t dh ah w ay n d ae t l ae s t ay v g aa t n ow m ao r p ah f l eh f t n aw ih t s m ay t er n s eh d dh ah s ah n ae z ih t ih m er jh d f r ah m dh ah k l aw d dh ah s ah n jh eh n t l iy b r iy dh d ih n dh ah k ow l d eh r dh ah s t r ao ng er ih t b r iy dh d ih n dh ah l aa r jh er ah n d r aw n d er ih t s iy m d t uw g l ow'"
      ]
     },
     "execution_count": 5,
     "metadata": {},
     "output_type": "execute_result"
    }
   ],
   "source": [
    "phone_seq"
   ]
  },
  {
   "cell_type": "code",
   "execution_count": null,
   "id": "2d816bcd",
   "metadata": {},
   "outputs": [
    {
     "data": {
      "application/vnd.jupyter.widget-view+json": {
       "model_id": "ab0904679dc546f697f7866832e1be3d",
       "version_major": 2,
       "version_minor": 0
      },
      "text/plain": [
       "  0%|          | 0/59 [00:00<?, ?it/s]"
      ]
     },
     "metadata": {},
     "output_type": "display_data"
    },
    {
     "name": "stderr",
     "output_type": "stream",
     "text": [
      "/home/dmesg/miniconda3/envs/semi/lib/python3.8/site-packages/librosa/util/decorators.py:88: UserWarning: PySoundFile failed. Trying audioread instead.\n",
      "  return f(*args, **kwargs)\n"
     ]
    },
    {
     "name": "stdout",
     "output_type": "stream",
     "text": [
      "A1-1\n",
      "l ih s sil t r ay sil k r iy sil m eh zh er sil iy sh uw sil b r l uw sil l iy f sil g r uw sil f ah sil t er sil k er f iy sil t er n ao n sil t er n aa n dh ah l ay s sil p iy s sil sil dh eh w ah z ah sil ih sil k sil p r ah sil b l ah m sil b iy sil t ih n d ih sil ch uw sil k r uw sil p s sil sil dh ah sil g aa m ih n sil t ih z sil t r ay n sil t uw ah sil d r eh s iy ih sh uw ah f hh ow m l ah s sil n ah s sil hh ih l er n sil d ah hh aw sil t uw sil d r ay w ih hh iy w ao s ih sil s sil t iy y ih z ow sil d sil hh ih s sil w ih zh er w ah sil b l aw r iy ae n sil d hh iy n iy dh ah sil g r eh s ih z sil t uw s iy sil sil sh uw w ah z sil d aa w z hh er w ao sil k f ao dh ah sil d ey sil ae n d sil k uw er l ae sil k s sil sh iy y uw z sil t ah sil b l eh n sil d er sil t uw m ey sil k ah s sil s sil m ao th ih f ao sil b r eh sil f er s sil sh ih l aa sil k s sil t sil t ih sil k w ao sil k ih ih n dh ah sil p aa sil k eh v r ih m ao n iy ng sil dh ah s sil k uw s ih s sil t ah m n iy z sil m ao f ah ng sil d ih ng sil t uw ih n sil p r uw v eh sil jh ih sil k ey sh ih ah n sil sil dh ah sil b ih dh ih z aa sil k ih sil t eh sil ch er w ah z sil m ao sil d ih n ae n y uw n iy sil\n"
     ]
    },
    {
     "name": "stderr",
     "output_type": "stream",
     "text": [
      "/home/dmesg/miniconda3/envs/semi/lib/python3.8/site-packages/librosa/util/decorators.py:88: UserWarning: PySoundFile failed. Trying audioread instead.\n",
      "  return f(*args, **kwargs)\n"
     ]
    },
    {
     "name": "stdout",
     "output_type": "stream",
     "text": [
      "A1-2\n",
      "sil sil sil ih sil t w ah z ah f aa n b ah sil t sil r v r ih sil k uh sil w ih n sil t er s sil t ey sil ae dh ih s aa sh ah n sil d aa ng sil aa n dh ah s sil n ow ng sil k aw er sil er s sil p ih sil er s sil b ih l ow sil ah s ah sil b uw f ao s aa sil t sil ih s ao sil s sil aa l uw sil k eh dh ah l ey sil t ow w ay sil t s aw s ah v sil dh ih sh ih sil p ao n dh ah sil b r uw s iy sil ay w ah n sil t uw sil t ih sil k m ay sil t aa sil t ah v ah l ih ng ah sil k r ao s dh ah s sil k ay sil t ih sil d ey sil aa f sil t er ao sil w ah sil t ah sil k sil w ah s ah r aa sh sil sil s ah sil d ah n l iy sil ah v f r ih z ih ng sil k ow sil b l aa s ah v er sil s sil k r ih sh sil t sil p aa s sil t ae n sil d n ih r l ih sil b l uw dh ah s aa ng ah l ao ng w ih dh ih sil t sil sil ao sil t ah f m aa w ey s ah sil r ow dh ah w ih n sil d sil sil s iy dh ow sh ih sil s sil aa m sil g ow ng sil t uw sil b l ow dh ow m r ow sil ah sil b l ow dh ah m r ay sil s ah v sil k s sil sil ih sil d ow ng sil aa dh ih w uh n n ow w ah s hh ih dh ah dh ah w ih n d sil b l uw aa n sil th r uw ih sil p r uw s ow hh dh ae sil dh ih sh ih sil p s aw s uw r ih sil t ah sil p aa sil t sil ao dh s ah n sil k uw sil d r uw w ah w ao sil ch ih ng ae sil dh ah s ih l er sh ih v er dh ih n dh ah ay s sil p l aa s sil t sil sh uh sil k f ih f ih s sil t ae sil d ah sil k r aa sil d ao sil t ih ng ah ng sil g er sil n aa s ah sil g ey w ih n d sil s ay dh ih s aa n sil w ah sil d uw uw hh ae v sil t uw sil k ao s sil m ih dh r iy ae n sil d ih sil t ao s ao dh ah sil t aa m sil b ih sil k ao s ay ae sil k sh ow ih ng jh aa s sil t aa hh aa s sil t r ow ng m ay ay m sil r ih sil p ae dh ah w ih n sil d sil sil y uh s ih dh ih n dh ih s ah sil k sil ey y uh s ih ih n dh ah s sil k ay ae n sil d n aa th ih ng ih sil s eh sil sh aa sil b ah t ay ah m f uh sil ay m f uh l ah f ao s ae n d ae n er sil jh iy sil sil\n"
     ]
    },
    {
     "name": "stderr",
     "output_type": "stream",
     "text": [
      "/home/dmesg/miniconda3/envs/semi/lib/python3.8/site-packages/librosa/util/decorators.py:88: UserWarning: PySoundFile failed. Trying audioread instead.\n",
      "  return f(*args, **kwargs)\n"
     ]
    },
    {
     "name": "stdout",
     "output_type": "stream",
     "text": [
      "A1-3\n",
      "sil sil s ae sil dh ih s ah n sil l uw sil k iy ng s ao t f ah l iy sil ay hh ae v ah ay sil d iy sil dh ah s ae v ah sil k aa n sil t eh sil k s sil t uw s iy w uh sh ah f aa s ih z dh ah sil f r ao ng sil dh ah sil ih z dh ah sil ey s sil l ah sil ih s sil ey z dh ah sil s sil t t r ao ng g er sil ay n ow hh uw w w ih n s ae dh ah w ih sil w ih sh aa s iy sil r ih sil p ae dh ih s ah n sil d uw uw s iy dh ah m aa n sil d aa n dh eh sil dh ah w ih n d ih l uw sil k sil t uw w ih n dh ih s aa w ah sil p ao n t ih ng sil ah y ah ng m aa w ah z sil w ow sil k ih ng sil ah l ao ng sil ah y ah ng ow w z sil w ow sil k ng ao l ao ow w n d ih sil ah w ih n d iy r ow sil d sil th uw dh ah m ah ng sil t n sil ih z sil w ah s ow sil k ow sil d sil sil sh uw w z w eh ih ng ah hh ae v ih sil hh ae v ah w ih n sil t uw sil k ow sil t uw sil k iy sil p w ao sil eh s iy w uh sh ah v sil w ih sh sil w ah n ah f aa s ih s sil t r ao ng sil g er sil sil sil iy ih n sil t uw sil t ih sil k hh ih s sil k ow sil ch th ah sil ah hh ih s sil k ow sil ao f hh iy sil s ih sil jh eh s ih dh ah s ah n sil iy z ey sil ay sil k ih n sil d uw dh ae sil ih n ow sil ch aa n sil b ow s dh ah w ih n sil d sil ow ao ng dh eh n sil s eh dh ih s ah n sil ah w uh sil ch iy f r ah n sil aa ay v uw ow sil sh iy f ao m sil b iy hh ae n ah sil k ao sil t sil sil dh ah w ih n d sil b r l uw ae n sil p r uw ey sil p r uw s ow hh aa dh ae sil dh ah sil p er s hh ae sil hh ae sil t uw sil k r iy sil t uw dh ih sil t r iy z sil t ah s sil t aa sil b iy ih ng s sil w aa sil p ah w ey sil sil dh ah m aa n sh ih er sil d aa n d ih sil d ih sil d aa sil sil t aa sil p aa t ah m ao f ih s sil k ao sil ch sil ay dh s sil n ao sil s w ih dh er ih n d iy ae r sil dh ah w ih n sil k eh sil p m sil b l ow sil b ah sil s ah m ao r ih sil d ih s ao sil t t ae sil ch er dh ah m aa n sil p uh dh ih sil k ao sil s ah er r ao n hh ih m sil t uw sil k iy sil p w ao sil ay sil g ih v aw sil p g eh s sil p ih dh ah w ih n d ae l s sil t sil ay v sil g ow n ow m ao sil p uw f l aa f sil sil sil n aw sil ih s sil m ay sil t er n s ae dh ih s aa n ae n dh ih s ih m er f f ao n dh ah sil k ao sil t sil dh ah s ah n sil t eh n sil t er ih sil v ih sil t iy ih n dh ah sil k ow sil t aa er sil dh ah s sil t r ao ng g er ih sil d sil b r ih s sil t ih n sil dh ah l aa sil jh er ae n r ao ng er s ih n sil t uw sil k r ao sil\n"
     ]
    },
    {
     "name": "stderr",
     "output_type": "stream",
     "text": [
      "/home/dmesg/miniconda3/envs/semi/lib/python3.8/site-packages/librosa/util/decorators.py:88: UserWarning: PySoundFile failed. Trying audioread instead.\n",
      "  return f(*args, **kwargs)\n"
     ]
    },
    {
     "name": "stdout",
     "output_type": "stream",
     "text": [
      "A2-1\n",
      "sil dh iy s sil sil sil t aa sil sil ch iy sil sil m ey er sil iy sh sil sil b uw sil iy sil sil er sil sil ah sil p aa sil g er f ih sil t er aa n sil sil k er ah n ih ay s sil p iy s sil sil dh eh w ah s ah sil b ih sil p r aa sil b ah n sil ih sil uw z uw sil ch uw sil g r ow sil s sil sil dh ah sil g aa ah n d eh z ay sil t ah sil t ay s iy y uw sh f ow m ih s n ay s sil sil hh ae eh sil d ah hh aa sil t uw sil t aa w ah sil hh ey w s ih sil k s t iy n y ih z ao sil t sil uw w z sil l aa iy sil ah n d ah hh ih m ih sil d ih sil dh ih sil k s ih sil t uw s iy sil sil sh iy sil d aa m ih s er w ao sil k f ao z ah sil d ey sil ah n ih sil k uw sil d er ih l ay sil s sil sil sh iy y ih s ah sil d ih n sil d ih sil t uw m ih sil k ah s iy s iy f ao f eh k f er s sil sil sil sh iy eh s sil t uw sil t k uw w ao sil k ih n dh ah sil p aa sil ay r ih m ao n ih sil sil dh ah s sil k uw s ih s sil t er n r ih z ah m ao f ah d ih sil ch uw ih n sil p ay sil d sil iy sh ih sil iy sil uw sil d ih s aa sil t sil t ih sil sil ch er w ah z m ao sil d ah ah n dh ih y ih iy t sil\n"
     ]
    },
    {
     "name": "stderr",
     "output_type": "stream",
     "text": [
      "/home/dmesg/miniconda3/envs/semi/lib/python3.8/site-packages/librosa/util/decorators.py:88: UserWarning: PySoundFile failed. Trying audioread instead.\n",
      "  return f(*args, **kwargs)\n"
     ]
    },
    {
     "name": "stdout",
     "output_type": "stream",
     "text": [
      "A2-2\n",
      "sil ey t ah w ah z ow f eh n v t ah m ay r ih sil k ah t ah sil p ih n sil t er s sil t ey sil ae z ah s aa n sh ao n d ah ao n z ah s n ow sil k aa er dh s sil p ih aa sil sil w ah z ah sil dh ih f ah s ay s sil ey s ao sil t s sil sil ah n ah uw k aa z ah l ih sil t ow sil r dh s eh s sil ah f ah sh ih sil s ah ah sil b uw s ih sil sil ah n sil t uw sil ih k m ay sil t aa n sil ch aa er iy ah sil k aa s ah s k s sil d ey sil aa s er r l sil ah s l er r aa sh sil ih eh dh ah ey sil ah f r iy dh ih n sil k ow dh ah sil b ay s ah f eh er s sil k r uw n d ah sil p aa s t sil ah n ih r l ih sil b ih ow s ah ah ih z ih z sil aa t ah f m ay v ey sil s aa sil r ow z l ah ih n d sil s iy dh ih s iy s sil ah n sil g ow ih n sil t uw sil b l ow z ah n d ay th ao f sil k ao s sil ah n s m ao m s iy z ah n sil sil dh ih v n sil b uw ah n sil b sil ih z sil g r uw s ow hh aa z ah sh ih s ah s eh s r ah sil ah sil p aa d sil ao z ah s ah n sil k d ah sil t uw sil w ah z ah w sh ay z ah dh ah sil s ih l er s ih er ih ih n dh ah s ih sil b aa s t sil ih dh eh f ih s sil sil ah n dh ah sil k r ay dh ah v iy n dh sil sil l aa t sil g eh n v ih n d sil ah n dh ah s ah sil sil ay t uw hh aa sil t uw k aa s m ih s er ih ae n dh ah sil t ao s ao l dh ah sil p aa sil b ih sil k ao s ay ah sil k sh ao n z ae s ah hh ah s sil t ao n sil er sil p ay n d ah dh ah v ih n d sil sil ih s iy t iy n ah s sil k ae n sil t uw n ay s ih s eh sil z ah sh aa n sil aa t aa n f ao f t ao s ah n dh ae n er sil jh iy sil\n"
     ]
    },
    {
     "name": "stderr",
     "output_type": "stream",
     "text": [
      "/home/dmesg/miniconda3/envs/semi/lib/python3.8/site-packages/librosa/util/decorators.py:88: UserWarning: PySoundFile failed. Trying audioread instead.\n",
      "  return f(*args, **kwargs)\n"
     ]
    },
    {
     "name": "stdout",
     "output_type": "stream",
     "text": [
      "A2-3\n",
      "sil sil s ae n z ah s ah sil uw k ih s ah f ah sil ay hh ae sil d ih sil dh ae s hh ae ao k aa n t ae s sil t uw s v r ih sh ah f aa s ih z ah s t r ao n g er sil sil sil ay n ow k ih v r sil s ae dh ah r ih d sil r ih sh ah s iy sil sil k aa z ah s ah sil dh s s m ae sil aa ih dh eh sil sil dh ow r ih n t ah m ow k dh ah r eh ah s ah ah sil p ah n t ih sil sil ah y ah n m ah w ah s ah w ah k ih ah l ah ah r ih n d ih v ao t sil s er z ah m ah n sil t ah n sil eh t ah w s k ao d sil eh w ah dh ah r eh ih ah hh ae v ih n sil t ah sil k ao t sil t uw sil k ih sil w ao sil dh ay s iy r sh r aa f aa s ih s t r ao sil ih s sil t r aa m s t uw sil t ih hh s sil k ao t ao f hh sil sil s ih sil d ae s sil t eh l ah s ah sil ih th eh sil ay k ah n t uw dh aa s ih n ao t aa sil ih s sil ih uw ah ih n sil iy sil ah ah s ao sil ay r ih w sh ah f ah n sil b ih hh ae n dh ah sil k ao t sil sil dh ah r ih n sil r uw ah n sil d m uw sil ah n ah sil d uw uw s ow ah hh aa z aa z ah sil p er s hh ae sil t uw sil t ih n t uw z ah sh r ih s sil t uw s t aa sil t ih s ay sil t ah r eh sil ah s ih w er t ah n sil d iy k dh ah sil l ah sil t aa sil t ah sil s sil k ao s sil sil s ih v eh d ih n dh sil l ih r ih n sil k ih sil t ch ah aa n sil b ow sil ao ih t sil d ih s ao dh ah sil t ae t z ah m aa n sil p ao d hh ae z sil k aa t ah r ah hh ih n t sil k sil w ao sil ay sil g ey ay sil t sil sil ih s sil ih ih ih n aa ay s sil sil ay sil b aa n m sil ow m ao sil p uw sh l ay f sil sil n aa s m ay t er sil s aa z ah s ah s ih sil t r er sh ah f r ah n z ah sil k ao t sil sil dh ah s ah n sil t ih n d ih sil b r ih z ih sil b r ih z ih n dh ah sil k ao t ah eh sil ah s r ah n g er sil t ah sil b r ih s ih ah sil m ay sh er n dh ih r aa n t ih ih dh ih s ih n d ah sil t uw sil g ah l sil\n"
     ]
    },
    {
     "name": "stderr",
     "output_type": "stream",
     "text": [
      "/home/dmesg/miniconda3/envs/semi/lib/python3.8/site-packages/librosa/util/decorators.py:88: UserWarning: PySoundFile failed. Trying audioread instead.\n",
      "  return f(*args, **kwargs)\n"
     ]
    },
    {
     "name": "stdout",
     "output_type": "stream",
     "text": [
      "A3-1\n",
      "sil sil l iy s sil k f ao sil k r iy sil m eh zh er sil iy sh uw n sil g r uw sil l sil g r uw sil f uw t ow er f iy sil t er ao l sil t r uw ao l dh ah l ay s p l iy s sil dh er r w ow s ah b ih k p b ah n sil b ih t w ih n dh ah t uw k r uw p s sil dh ah sil g ah ah m ah n t sil ih s t r oy n t ah t r eh s ih s sh ah n ah v hh uw m l ih s n ah s sil sil hh iy l er n d ah hh ao t uw t r aa sil ah n sil w ih n hh iy w ow s s ih k s t iy n y ih er z ow d sil hh ih z v iy sh ah n sil w ah s p r ao r iy sil ah n hh iy n iy d ih d k r ah s ih s t uw s iy sil sh iy w ah s d w ih th hh er w er k sil f ao dh ah d ey sil ah n k uw d l ah k s sil sh iy y uw s t ah b r ah n d er sil t uw m ih k ah s m uw th iy sil f ao b r eh k f er s t sil sh iy l er k s t uw t ih ah w ao k sil ih n d ah p ao k sil er v r iy m ao r n ih ng sil dh ah s k uw l s ih s t ah m ih s m ao f ah n d ih sil t uw ih m p r uw r eh jh ah k ey sh ah n sil dh ah b d ih z ao k ih t hh ah t er w ah z m ao r d ah n ah n y uw n iy k sil sil\n"
     ]
    },
    {
     "name": "stderr",
     "output_type": "stream",
     "text": [
      "/home/dmesg/miniconda3/envs/semi/lib/python3.8/site-packages/librosa/util/decorators.py:88: UserWarning: PySoundFile failed. Trying audioread instead.\n",
      "  return f(*args, **kwargs)\n"
     ]
    },
    {
     "name": "stdout",
     "output_type": "stream",
     "text": [
      "A3-2\n",
      "ih t w ah z ah f ay n b ah t v eh r ah k w ih n t er s t ih sil ah z dh ah s ah n sh ao n d aa n sil ah n dh ah s n ow k ah v er t er th sil b ih l ow sil w t ah b y uw t f ah s ay t sil ih t s f s sil ah n d l r uw k ah t sil dh ah l ih t uw sil w aa t s ih n s ah v dh ah sh ih p s ah v dh ah k l iy n s iy sil ah t ah t ih k m ah t n f ah m ih ah k ao s ah s k aa t ah d sil ah v t ao sil w ao s dh ah r ah sh sil s ah d ah n l iy sil ah v f r iy s ih ng k ow sil b r aa s t w eh r sil s k r iy ch p ao s t sil n d ah y ih ih t dh ah s eh l ao ng w ih dh ih t sil ao t ah v m w ey s ah sil t ao z dh ah w ih n d sil s iy dh ah s iy p s sil n k uw n t uw sil b r uw dh ah sil ao sil r er t ah k ao s sil dh ih w ao t m n ow w s ih t hh ih b b ow sil sil dh ah w ih n b r uw ah n b r uw sil t sil r uw s ow hh r sil dh ah dh ah sh ih p s r ih p t ah p aa t sil ao dh ah s ah n k uw t g uw sil w ah s sil w ao sh sil ah z dh ah s t er s sil sh ey v er d ih n dh ah ay s iy p r s t sil f uw k er f s ah n d k r ay sil ao t ih ae ng g er sil sil m ao t d iy m w ih t sil s ay dh ah s ah sil w ao t er hh ae v t ah k ow s sil m r iy z ah ih d ah n d t iy s ao l dh ah t ay sil k ao z l k sh ao ih ng jh ah s t hh ao s t ao m ah sil ah p r aa dh ah w ih n d sil sil y uw s ih t ih n dh ah s k ay ah n d sil t uw m aa s iy ih k s eh f sh ay sil dh ah t ay n s ah n s ao s ah n eh n d ah jh iy sil sil\n"
     ]
    },
    {
     "name": "stderr",
     "output_type": "stream",
     "text": [
      "/home/dmesg/miniconda3/envs/semi/lib/python3.8/site-packages/librosa/util/decorators.py:88: UserWarning: PySoundFile failed. Trying audioread instead.\n",
      "  return f(*args, **kwargs)\n"
     ]
    },
    {
     "name": "stdout",
     "output_type": "stream",
     "text": [
      "A3-3\n",
      "sil sil ah sil s ah dh s ah sil t k iy m s ao t f ah sil hh ah v d iy sil ah s hh ah v k ao n t ah s t sil t ah s iy w ih ch uw v sil ah s ih s dh ah s k ao m er sil n ow sil uw w ih n s eh dh ah w ih n sil w ih sh ah s iy sil r ah p ay dh ah s ah sil t r uw s iy dh ah m ah n sil d dh eh sil dh ah w ih n d ah uw t w er dh ah s ah w s p ao n t ih sil ah y ao ng m w z w t m sil ah w uw n d iy r ow sil th r uw dh ah m ow t s t sil ih t ah s ow ng k ow d sil hh iy w ah w er d hh ah v ih w ih dh ah k ow s t t iy w ao sil b ah t s iy w ih sh w ah v ah ah s k t r ao d ah s t t r t hh ih s k ow t ao f hh ih sil s ah zh eh s ih v dh ah s eh sil iy z iy sil ay t ah t uw dh ah t n m ow t hh aa m sil uw s ih dh ah w ih n sil t ah w d ah sil s eh dh ah s ah sil aa w uw sh ah n f ah n b ih hh ay n dh ah k r aw t sil dh ah w ih n b r uw ah n b r uw t r uw s ow hh t sil dh ah dh ah sil b er s hh ah ah k r iy n t uw dh ah s t r iy s t ah s t ao p sil b iy s w eh p t ah w ey sil dh ah m ah sh ih v er sil ah n sil d ih t aa p s ah sil t ow sil b aa t ah ah v ih s ow s sil ah th ah s m n ow s w ao d ih n dh ah eh r sil t ah w ih n d sil k eh p t ah n sil b r ow sil dh ah dh ah m ao r ih s sil d ih s ah sil dh ah t hh aa t er d ah m ah n p uw hh ih k ow t ah r ao hh ih sil t uw k iy p w ao sil ay g ey v ah p sil d ah s sil d ah s t sil dh ah w ih d ah t l aa s t sil ah v t ah t sil m ow m ao p ah f eh f t sil n aw ah s m ay t er sil s ah dh ah s ah n sil ah z ih t sil iy m er s f ah n dh ah k r aw sil dh ah s ow sil jh eh n t ah l iy b r s t ih n dh ah k ow d er sil dh ah s t r ow ng g er ih t sil b r eh t t ih n sil dh ah m aa t ah d r ao n er sil ih s iy m d t sil p r sil sil\n"
     ]
    },
    {
     "name": "stderr",
     "output_type": "stream",
     "text": [
      "/home/dmesg/miniconda3/envs/semi/lib/python3.8/site-packages/librosa/util/decorators.py:88: UserWarning: PySoundFile failed. Trying audioread instead.\n",
      "  return f(*args, **kwargs)\n"
     ]
    },
    {
     "name": "stdout",
     "output_type": "stream",
     "text": [
      "A4-1\n",
      "sil d iy s sil k ay sil k r iy sil m ae uw sil s uw sil l uw sil sil uw sil dh ah sil t ow b f iy sil t uw m ao sil t uw n ah n dh ah l ay s sil p iy s sil dh eh w ah s ah sil b ih sil p r aa b l ah sil b ih t ih n d ah sil t uw sil k r uw s sil dh ah sil g m ah n t sil s t r ay n t uw sil sil t r eh s t iy s uw uw l ah s s sil hh iy l er t sil hh ao l t uw sil t r ay sil w eh n hh iy w ah s ih s iy er s ow sil hh ih s v zh uw n sil w ah s sil p l ao sil ah n hh iy n iy d ih d sil k l aa s ih s t ah s iy sil sh w ah s t ao n sil w hh uw sil w er k f ao d ah sil d ey n sil k uw l aa k s sil sh iy y uw s t ah sil b l ah n d er sil t uw m ih k ah s m uw th iy sil f ao sil b r aa k f er s t sil sil sh iy l ae s t uw sil t iy k ah w ao k sil ih n ah sil p aa t eh v ih m ao n ih sil sil dh ah s k uw s ih s t ah sil sil m iy s m ao f ah n iy n t r ih m p uw sil ah d ah k iy sh ah n sil d ah sil b iy d iy s ah hh iy t ae k f uw w ah s m ao d ah n sil ah n iy ah sil sil\n"
     ]
    },
    {
     "name": "stderr",
     "output_type": "stream",
     "text": [
      "/home/dmesg/miniconda3/envs/semi/lib/python3.8/site-packages/librosa/util/decorators.py:88: UserWarning: PySoundFile failed. Trying audioread instead.\n",
      "  return f(*args, **kwargs)\n"
     ]
    },
    {
     "name": "stdout",
     "output_type": "stream",
     "text": [
      "A4-2\n",
      "sil ih t w ah s ah f ay n sil b ah th er k ow d w ih n t er s t ey sil ah z ah s ah n sh r ah n d aa sil ao n s m ow n sil aa er er sil b ih l ow sil w ah s ah b uw t f ah s ay t sil ih ao sil ah l k ae n dh ah l ih t uw w ay t s ih s ah v dh ah sh ey p s sil ao n dh ah sil b l uw s iy sil w ah n t ah t hh iy m ay t hh ay sil t r v ah ih k ao s ah s k ay t ah d ey sil aa ch ow sil w ah s er r aa sh sil s ah d ah n l iy sil ah f r iy z ih ng k ow sil b l aa s ao th eh s sil k r iy ch t sil p aa s t sil ah n ih l iy sil b l uw d ah s ah n ah l ih d ey t sil aa t ah m ay w s ah n sil r ao sil r ao d sil d ah w iy n sil s iy d ow s sh ey p s sil ah n k uw n ch uw sil b l ow d ah n l ay t sil ao sil k ao s sil d ih w uw n ow w ao s hh iy b ow sil d ah w n p l uw sil n b l uw sil b l uw s uw hh aa sil d aa t sil dh ah sh iy p s ey s sil r ih ch ah p aa t sil ao l dh ah s ah n sil k uw t uw sil w er s w ch sil ah s dh ah s ih m er s ih er t sil ih n d iy sil ay s iy b l aa s t sil ao k sil d eh f ih s ah n sil k r aa ay d s sil ih n ae g uw sil n aa s ah g ih n w ih n sil s ay d sil d ah s ah n sil ay uw hh t uw k ao s m z ah r iy ah n sil k l s sil ao dh ah t aa n sil b ih k ao s ah l k sh uw iy n sil t ah s hh ao s t r ao ae n sil b ih p ay d ah w iy n sil ih s iy t hh ih n ah s k ah n sil d uw n aa th ih n s sil b aa k t sil sh aa n sil aa s ah n ah f sil th ao s ah n ah n ah d iy sil sil\n"
     ]
    },
    {
     "name": "stderr",
     "output_type": "stream",
     "text": [
      "/home/dmesg/miniconda3/envs/semi/lib/python3.8/site-packages/librosa/util/decorators.py:88: UserWarning: PySoundFile failed. Trying audioread instead.\n",
      "  return f(*args, **kwargs)\n"
     ]
    },
    {
     "name": "stdout",
     "output_type": "stream",
     "text": [
      "A4-3\n",
      "sil sil s ae dh ah s ah n sil d l uw k ih ng sil th ao t f uw sil ay hh ae v ah n ah n sil ay d iy sil l ae s hh ae w ah sil k n t aa s t sil t uw s iy w ih sh ah f aa s ih s ah s t r m sil aa ow uh w iy sil s ae d ah w n sil ih sh uw s iy sil r ah sil p l ay t sil d ah s ah n sil d uw s iy dh t s m aa n sil d ah n dh ih sil d ah w iy n d sil l k sil d uw k sil w eh dh ah s ah n w ah s p ow n t ih m sil ah y ng m aa w ah s w ow k ih ah m aa ng w ih n d ih r ow dh d ah m ao n t ih s sil ih w ah s ow k ow d sil hh uw w uh s w er ih ng ah hh v iy w ih n t uw k ow sil t uw k iy p w ao n sil ae s iy w ih ah n ah f ao s ih s k t r ao ng er sil s t r ah ng iy n aa f t uw t ih hh ih s k ow ch ah f hh ih sil s ah jh ae s t d sil d ah s ah n sil iy z iy sil ay k ah n d uw d aa t ih n n ow t aa sil b s t ey d sil d ah w iy sil k uw ao n sil ah n sil s ae dh ah s ah n sil aa w ao t sh uw sil f r ah m sil b ih hh aa n d ah k l aa sil d ah w iy n d sil b l uw sil ah n b uw ih l m uw s ow hh aa r sil aa sil d ah sil b er s hh aa t uw t iy ng t uw b s t uw t r iy s sil t uw s t ao b iy ng s w aa ah w ih sil d ah m aa sh ih v er d sil ah n sil d ah v sil d ah ch ao sil b aa t ih n sil ao v sil hh ih s k ow t sil z dh ah s m ow s w aa t sil ih n d ah sil ih n dh iy ih sil d ah w iy n d sil k ae t ah m b l w iy n sil ah d ah m ao ih d s ow sil dh ah t ay t er sil d ah m aa n sil p ow t sil hh ih s k ow s ah w r aa n hh ih n t uw sil k iy p w n sil ay g ey v ah p sil d ah s t sil sil d ah w ah l aa s t sil aa g aa n ow m ao p aa f l f t sil n aw sil ih s m t r ah n sil s ae n dh ah s ah n sil aa s iy s sil m er s sil f r ah m dh ah k l aa sil dh ah s ah n sil ah n s uw l iy sil b r iy iy n sil d ah sil k ow d iy sil ah s t r ao ng er sil b r sil b iy n sil d ah m aa jh er sil ah n w r ao ng er sil ih s iy n sil t b ow sil\n"
     ]
    },
    {
     "name": "stderr",
     "output_type": "stream",
     "text": [
      "/home/dmesg/miniconda3/envs/semi/lib/python3.8/site-packages/librosa/util/decorators.py:88: UserWarning: PySoundFile failed. Trying audioread instead.\n",
      "  return f(*args, **kwargs)\n"
     ]
    },
    {
     "name": "stdout",
     "output_type": "stream",
     "text": [
      "A5-1\n",
      "sil d ih s sil t aa n sil t r iy n sil m aa zh er sil iy sh uw sil b l uw sil l f sil k er sil f ao t ao k er f iy sil t er m aa sil sil t er m ah d ah l ay s sil p l ey s sil d eh r w ah z ah b ih k p r aa b l ah sil b t w iy n d ah t uw g r ow p s sil dh d iy d aa f sil m ah n t sil ih s t r ay n t uw d r ay s t ah iy sh uw ah v hh ow m l ah s n ah s sil sil hh er l er n t hh aa t ah d r w er n hh iy w er s ih k s t iy n y ih r s ow t sil hh ih s w ih sh ah n w ah s sil p r aa ih ah n hh ey m iy d ih sil l aa s ih s t uw s iy sil sh iy w ah s t aa m w ih s hh er w ao k f ao z ah sil d ey sil ah n d k uw d r iy l ay s sil sh iy iy l s t ah p l ay n d er t ah m ey k ah s m uw th iy f ao sil b r eh k f ah s t sil sh iy l k s t uw ey k ah w ao k ih n d ah p ao k sil eh v r iy m ao n ih sil d ah s k uw s ih s t ah m m iy s m ao f n d ih n t uw ih n p r uw f ae jh ah t ey sh ah n sil d ah b l d ih ng s ah dh ah t ae p ah ch er w ao s m ao n ah ng ah n d ih m iy t sil sil\n"
     ]
    },
    {
     "name": "stderr",
     "output_type": "stream",
     "text": [
      "/home/dmesg/miniconda3/envs/semi/lib/python3.8/site-packages/librosa/util/decorators.py:88: UserWarning: PySoundFile failed. Trying audioread instead.\n",
      "  return f(*args, **kwargs)\n"
     ]
    },
    {
     "name": "stdout",
     "output_type": "stream",
     "text": [
      "A5-2\n",
      "sil sil ih t w ah z ah f f ay m b ah b ay k ow w ih n d ah s t ey sil ae dh ah s n sh ao n d aa ao n dh ah s m ow k v er d sil er s sil b ah l ow sil w ah s ah p iy f ah s ay t sil ih t s ao t sil ah n l uw k hh ae z ah l ih uw w ay t ih s ah v dh ah sh ih p s ah n dh ah b r uw s iy sil aa w ah t ah t ey k m ay t ay m t r aa v l ih ng ah k r ao s ah s aa t d ey sil aa f t ah ao sil w ah t ow r aa sh sil s ah t n l iy sil f r ey z ih ng t hh ow d ah sil b l aa s t ah f sil eh s k r aa ch t sil p ao s t sil ah n ah m ih r l iy b l uw d ah s ng ah m ao ng w ih z ih t sil aw t ah f sil m ay v ey s aa sil r ow z ah w ih n d sil s iy z ah sh ih p s sil aa n g t ah sil b l ow z ah n b r ay ao v k ao r s sil s ih ow m ow w ao hh ey s ah m sil dh ah w ih n d sil b l uw sil n d sil b l uw sil ih s sil b l uw s ow hh ae z ah dh ah sh ih p s ey s sil r aa p t ah p ao t sil ao l z ah s ay n t uw t uw w ah s w ao sh t ih ae dh ah s ih ah s sh ih t sil ih n dh ah ae s p l ao s sil s sil s uh k z eh r f ih s t ah n d k r aa t aw t sil ih ae ng g er sil n aa t ah g ey n sil w ih n sil s ay n d z ah sh sil w ay t iy hh ae f sil t uw k s m ey z er r iy n d ah t iy s ah dh ah t ay m sil b ih k ah s ay l ay t sh ow ih n d ah s t hh aa s t r ao ng ay ay sil r ih l ay d dh w ih n sil sil ih s eh ch sil ih n dh ah s k ae n d ah z m ah s iy ih s p aa k t sh ay b ah t ay n f uw ah v f ao s sil ah n d sil eh n er jh iy sil sil\n"
     ]
    },
    {
     "name": "stderr",
     "output_type": "stream",
     "text": [
      "/home/dmesg/miniconda3/envs/semi/lib/python3.8/site-packages/librosa/util/decorators.py:88: UserWarning: PySoundFile failed. Trying audioread instead.\n",
      "  return f(*args, **kwargs)\n"
     ]
    },
    {
     "name": "stdout",
     "output_type": "stream",
     "text": [
      "A5-3\n",
      "sil uw sil s ae d dh ah s ah n sil m k ih m s ao t f uh sil sil ay hh ae v ah ay d iy ah sil m aa s hh ae v ah k aa n t eh s t sil t uw s iy w ih ch ah f ah s ih s ah s t ow g er sil ay n ow hh uw w ih w ih sil s d z ah w ih n d sil sil w ih sh aa s iy sil ih p ay d ah dh ah s ah n sil d iy n s iy z ah m aa d aa d eh sil s ah w ih n d sil l k t w dh ah s aa m w er s sil p ao n t ih m sil ah y ah ng m ah n w ah s sil w ao k ih n ah l ao ng sil w ih n d ih r ow t sil s r uw dh ah m ao n t ih n s sil ih w ah s ow k ow d sil hh iy v w ah s w ih r iy hh ae v iy w ih t k ow t sil t uw k iy p sil w ao sil d ae t s iy w ih ch w n ah f ah s ih s t r ao ng g er ih n ao f sil t uw t ey k hh ih s k ow d f ih sil s ah sil d t s t sil ah s ah n sil iy z iy sil ay hh ah n d uw z ae t sil ih n n ow t aa m sil b ow s ih s dh ah w ih n sil k ow ao n z ah sil s eh d dh ah s ah n sil aa v iy w ao t sh uw f ah m sil b ah hh aa n d ah k l ow t sil s ah w ih n d sil l uw sil ah n d sil b l uw sil eh d g r uw s ow hh ao z ah dh ah sil p er s hh ae v t k l iy ng t dh ah t r iy s t ah s t ao b iy s w eh p t w ih sil s ah m aa n sh iy v er ah n d d ih d aa p s ah t ao p sil b aa t ah m ah v ih s k ow t sil ay s ah s m ow s w ih d sil ih n z ah t sil eh sil s ah w ih n d p t ah m b r ow ih ng sil b ah z iy m ih d d t s ow sil t ah t ay t er dh ah s m aa n p uw ih s k ow t er r ao n hh ih m sil t uw k p sil w ao sil sil ay g ey v ah p sil g ae s t sil z ah w ih n ah d l ao s t sil aa f k ow s m ow m ao p uw l aa f t sil m aa ih s m ch er m s n dh ah s ao n ah d ih m er s f r ah m dh ah k l ow sil ah s ah n t ah n t l ih sil p w r s t sil ih n d iy k ow sil ay sil t ah s t r ow ng g er sil ih t s sil p r eh s t ih n sil s ah l ao t er sil ah n w ao ng g er ih t s iy m sil t sil k r ow sil sil\n"
     ]
    },
    {
     "name": "stderr",
     "output_type": "stream",
     "text": [
      "/home/dmesg/miniconda3/envs/semi/lib/python3.8/site-packages/librosa/util/decorators.py:88: UserWarning: PySoundFile failed. Trying audioread instead.\n",
      "  return f(*args, **kwargs)\n"
     ]
    },
    {
     "name": "stdout",
     "output_type": "stream",
     "text": [
      "A6-1\n",
      "l iy s sil k ao r sil t r uw sil m ao l sil s iy sil b r uw sil l iy sil r uw sil t ao b iy sil t ao sil t uw ao ah n l ae s p iy s sil er w ah s dh ah b ih d sil p ao b ah sil t ih n sil t uw uw s sil s ah t ao m eh n hh ih z f oy ih n t hh uw f r eh s ih s iy ah v sil hh eh m l ah s eh s sil hh iy l uw m ah hh eh t ih t r w ah hh iy w s ih t ih ng ih s ow l sil hh ih s w iy zh ah n w ah s l ao r sil b l ao r iy ae n d hh eh n d ih d ah p r ae n s ih s ah s iy sil sh uw w ah s eh n w ih s hh w ao f ah z t ey k ah n d ah sil d ah l eh k s sil sh iy y uw z d ah r ae n d er s m ih d ao s m ao s iy f ah p er f s sil sh iy l eh s t ih t iy k w eh t ih n z ah p aa t v r m ao r n ih ng sil d ih s k uw s ih s n m iy s m eh f eh n ih ng t ih n f uw sil eh jh ah k iy sh ah n sil s ah b r uw d iy n s sil ao t ih t eh ch ah ah z m ao n ih ng sil ah n ih n m iy k sil sil\n"
     ]
    },
    {
     "name": "stderr",
     "output_type": "stream",
     "text": [
      "/home/dmesg/miniconda3/envs/semi/lib/python3.8/site-packages/librosa/util/decorators.py:88: UserWarning: PySoundFile failed. Trying audioread instead.\n",
      "  return f(*args, **kwargs)\n"
     ]
    },
    {
     "name": "stdout",
     "output_type": "stream",
     "text": [
      "A6-2\n",
      "ih t w ah s ah f aa sil dh w ao iy k ow b ah s r iy ah v sil s ah n sh ih n d ow sil ao n dh ah s n ow k aw er er s ao sil ao s ah b uw v ah s ah s sil ah n dh ah k ah z ah w aa t s sil l ih t ow w aa t s aa s ah v dh ah sh iy p s ao n dh ah p r uw s iy sil ao l s s iy m ah t s aa n k ao m ih k r ao s ah s k s t iy sil ah f ao l sil w ao s r sh sil s ah d ah l iy sil ah f r iy t ih ng k ow sil r s ah v eh s k r ih s k r iy n d sil p ao s sil ah n dh ah n dh y ao n ih b l ow z s ah ao w iy s iy sil ao l s m ay w ey s ah sil ao dh ah w ih n sil s ih s sh iy p s sil ah n uw n t b l ow sil r aa n ow sil k ao s sil s ah w uw n m ow w ao hh iy s ow sil s ow w ih n d b l ow ah n g l ow sil l uw s ow hh aa dh ah sh iy p s ih w ah dh ah p aw sil ao l s ah n k uw hh uw sil w ao s w ao sh aa s ah s eh v er s sh r iy t ih n dh ah s iy ih n dh ah ao s r ao s sil f ow l ah f iy s ah n dh ah k ao dh ao ih n ao ng er sil m ow l ah k iy b ih m sil s s eh sil ao t ah hh aa uw k ao s m aa s r ao n ah k ao s ah s t ao ah s ah l ah sh uw ih ch ah s hh eh s f r m dh sil ah p aa dh ah w ih n sil dh ah s iy dh ah s k ah n d m ao s ih ng s ah v sh eh sil ah n f uw ah f ao s ah n t ah n jh iy sil sil\n"
     ]
    },
    {
     "name": "stderr",
     "output_type": "stream",
     "text": [
      "/home/dmesg/miniconda3/envs/semi/lib/python3.8/site-packages/librosa/util/decorators.py:88: UserWarning: PySoundFile failed. Trying audioread instead.\n",
      "  return f(*args, **kwargs)\n"
     ]
    },
    {
     "name": "stdout",
     "output_type": "stream",
     "text": [
      "A6-3\n",
      "s dh ah s eh l sil uw k ih s ao f sil ah hh ao ay d iy sil l eh s hh aa k n t ah s t ah s iy w ih sh ah f ao s ih z ah f r ao ng g sil ah n ow hh uw w ih n sil s eh dh ah w ih n sil w ih f ow s iy sil ah p dh ah s sil t r ih s iy ah n m ah n t ao ng eh sil w n dh ah r uw w er s eh w ah s p ao n hh ih n sil iy y ow ng m ow w ah z w ow k ih ng m ow w ih ng d ih r uw sil sil s ah dh ah m ao n t ah s sil ah w ah s uw k ow sil ah z r ng ah hh aa w l ih ih ng er k ow s k ih w ao sil sil ih s iy v ih sh r ao v l ah m ih s ao ng ah f ah t iy s k ow ah v m n sil s ah jh eh s ih dh ah s eh l sil iy z iy sil ah hh ah d uw dh ah n iy n ow t ah sil s ih dh ah w ih n d sil k ow l ih n sil s eh dh ah s ah sil ah l uw m ow f iy f r ao n b ih hh ae n ah k r ow sil t w ih dh ah b l ow ah n b l ow sil ah d ah s ao hh ah dh ah z ah p er s hh aa t sil k l iy n t uw s ah t r iy t ah s ao b iy n s l aa b ah w ih sil s m ih sh eh b ah n ah d n aa t ah s ah p ow t ao ow t s ah ah v ih s k ow sil s s m ow s w aa t ih n dh eh r sil s w ih dh ih k iy p ao b ih n sil dh ah s m ao ih z d ih s ow sil dh ah t aa n m aa n p ow d ah hh ih s k ow r ao n hh ih s k t uw k ih m w sil ay uw w ao sil g ah w ng aa l ah s t sil hh uw m ow m ao p ow sil k ow f ah l ah f t sil m ao ah s m ah t er sil s ah dh ah s ah d ih t m ao t f r ah m dh ah k ow l sil dh ih n s n ch d ah l ih d sil r s n dh ah k ow l eh r sil ah s t r ao ng g er d r iy s iy n sil m aa d er ah n dh ah r ao er s iy m s t ow sil\n"
     ]
    },
    {
     "name": "stderr",
     "output_type": "stream",
     "text": [
      "/home/dmesg/miniconda3/envs/semi/lib/python3.8/site-packages/librosa/util/decorators.py:88: UserWarning: PySoundFile failed. Trying audioread instead.\n",
      "  return f(*args, **kwargs)\n"
     ]
    },
    {
     "name": "stdout",
     "output_type": "stream",
     "text": [
      "B1-1\n",
      "dh ih s sil t r ay sil t r iy sil m eh jh er sil ih sh uw sil l uw sil l ih sil k er sil f ah t aa g er f iy sil t er n ao n sil er n aa n s ah l ay s p l iy s sil d ih r w ah z ah b ih k p r b l ah m b ih t w iy n dh ah t uw r uw s sil dh ah g ah v er m ah n d ih s t r ay ih t uw ah d r eh s ih ih sh uw ah v k uw m l ah s n ah s sil sil hh iy l er n d hh aw t uw d r ay w ih hh iy w s ih k s t iy n y ih z ow t sil sil hh ih z v ih zh ah n w ah s p l er iy sil ae n d hh iy n iy d ih d k l ae s ih s t ih s iy sil sil sh iy w ah s t n w ih th hh er w er k f er d ey sil ae n t uw t r ih l ae f k s sil sh iy z d ah b l ae n d er t uw m ey k ah s m uw th iy f er b r eh k f ah s t sil sil sh iy l ay s t t ih k ah w ao k ih n dh ah p aa r eh v r ih m ao r n ih sil sil dh ah s k uw l s ih s t ah m m ih s m ao r f ah n d ih n t uw ih m p r uw eh jh ah k ey sh ah n sil sil dh v ih d ih ng z aa r k ih t eh k ch er w ah s m ao r t ih n ae n y ih m iy sil t sil sil\n"
     ]
    },
    {
     "name": "stderr",
     "output_type": "stream",
     "text": [
      "/home/dmesg/miniconda3/envs/semi/lib/python3.8/site-packages/librosa/util/decorators.py:88: UserWarning: PySoundFile failed. Trying audioread instead.\n",
      "  return f(*args, **kwargs)\n"
     ]
    },
    {
     "name": "stdout",
     "output_type": "stream",
     "text": [
      "B1-2\n",
      "sil ih t w ah z ah f ay m b ah t v eh r iy k ow d w ih n t er s t ey sil ae z dh ah s ah n sh ao n d aw n sil ao n dh ah s n ow k aa v er d er s b ah l ow sil sil w ao d ah b iy t f uh s t sil ih s ao t sil ae n l ih t ih d ah l ih t ah w ay s ih z ah v dh ah sh ih p s ao n dh ah b l uw s iy sil ay w n t ih t ey k m ay t ay m k r ae v ih ng ah k r ao s ah s k ay t ah d ey sil ae f t er ao l sil w ah s t ah v aa s sil sil sil s ah d ah n l iy sil ah f r iy z ih ng k ow d l ae s ah v sil s k r iy ch t sil p ae s t sil sil ae n n d ih l iy l iy dh ah s ah n l ao v ih jh ih t sil sil aa t ah v m ay w ey s ah n sil r ao dh ah w ih sil s iy dh ah s sh ih p s sil aa n g ow n t b l ow dh ah v ay d ao f k ao r s sil dh ih w n sil n w ao t s hh eh d k ah m sil s ah w ih n b l uw ah n b r uw sil ih t l uw s ow hh aa r sil dh ah t dh ah sh ih p s ey s r ih dh ah p ao r t sil sil ao t ah s ah n t ih d uw sil w uh th sil w ao ch ae t s ah s ey l er s sh ih v er d ih n dh ah ay s iy p l ae s t sil sh uw dh eh r f ih s s sil ae n k r ay d aw t ih ae ng k g er sil n aa t sil ah g ey n w ih n jh sil s ay d dh ah s ah n sil w aa t ih hh ae t uw k ao s m ih z er iy ae n k ey ao s ao s ah t ay m sil b ih k ao s ay l ay k sh uh ih ng jh ah s hh aa s t r ao eh n sil r ih p l ay dh ah w ih n t sil iy s ih ch ih n dh ah s k sil ae n d ih n n ah th ih ng ih k s eh p sh ay sil b ah ao ih n f ao f ao r s ih n eh n er jh iy sil sil\n"
     ]
    },
    {
     "name": "stderr",
     "output_type": "stream",
     "text": [
      "/home/dmesg/miniconda3/envs/semi/lib/python3.8/site-packages/librosa/util/decorators.py:88: UserWarning: PySoundFile failed. Trying audioread instead.\n",
      "  return f(*args, **kwargs)\n"
     ]
    },
    {
     "name": "stdout",
     "output_type": "stream",
     "text": [
      "B1-3\n",
      "sil sil s eh t dh ah s ah n sil l uh k ih ng s ao t ow sil sil ay hh ae v n ao d iy sil dh eh s v ah k aa n t eh s t sil t ih s iy w ih ch ah b s ih dh ah s t r ah n g ay n ow hh uw w uh w ih sil s ih t dh ah w n t sil r iy sh eh s iy sil r ih l ay dh ah s ah n sil d uw s iy d eh t m eh n d aw n d ih sil dh ah w n l uw w eh dh ah s aa w ah s p ao n t ih sil y ah m eh n w ah s w ao k ih ng ah l ao ng ah w ih n d ih r ow s sil th r uw dh ah m aw t ih s sil ih t w ah s ow k ow t sil hh iy w ah z w eh r ah hh ae v iy w ih n t k ah t uw k iy p w ao r n sil sil sil l eh t s iy w ih t w ah n d w aa s ih s t r ao ng ih n aa f sil t uw t ih k ih s k ow t aw f hh ih m sil s ah jh eh s t ih dh ah s ah n sil iy z iy sil sil ay t ih n d uw d t ih n ow t aa m sil b ow s t ih t dh ah w ih n t sil k ow ao n d eh n sil s eh dh ah s ah n sil ay w ch iy f r ah m b ih hh ay n dh ah k l aw t sil dh ah w ih n b l uw ae n b l ih sil ih t l uw s ow hh aa r dh ae t dh ah b er s hh ae d t k l iy n t ih d t r iy s t ih s t ao ih n s r eh d ah w ey sil dh ah m eh n sh ih v er d sil ae n d ih d ah dh ah k aa aa t ah n dh ah hh ih s k ow t sil ae z ah s n ow s w er d ih n dh iy eh r sil dh ah w ih n k eh p ah m b l ow w ih sil dh ah t dh ah w ao r ih t d ih s ow sil dh t ay d er s ah m ae n p ow d ih s k t ah r aw n t hh ih m t ah k iy p w ao r sil sil ay g ih v ah g ae s dh ah w ih n ae k l aw s t sil ay z ow n ow m ao r p aa f l ah n aw ih s m ay t ih n sil s eh t dh ah s ah n sil ae z ih t d w er s f r ah m d sil k l aw t sil sil dh ah s aa n jh eh n t l iy b r iy t ih n dh ah k ow d eh r sil dh ah s ao ng g er ih t sil b r iy th ih n sil dh ah l aa r jh er ae n r n d er sil ih s iy m s uw k l ow sil sil\n"
     ]
    },
    {
     "name": "stderr",
     "output_type": "stream",
     "text": [
      "/home/dmesg/miniconda3/envs/semi/lib/python3.8/site-packages/librosa/util/decorators.py:88: UserWarning: PySoundFile failed. Trying audioread instead.\n",
      "  return f(*args, **kwargs)\n"
     ]
    },
    {
     "name": "stdout",
     "output_type": "stream",
     "text": [
      "B2-1\n",
      "sil sil l iy s sil t ay sil t r iy n sil m ae zh er sil iy sh uw sil l uw sil l iy n sil k uw sil f ah t aa k er f iy sil t r er ao l sil s uw ao n dh l ay v s sil p l iy s sil sil l eh r w ao s ah b sil p iy p r aa b ah m sil b iy t r ih n d ah t r uw k r uw s sil t ah k r er m ah n z sil ih n sil t r ay ng t ao t ae s ah iy sh uw ah v ow m l ah s n ah s sil hh iy l er n hh ow s uw t r ay w ah hh iy w ah s ah k s iy ng y er z ow l d s sil hh ih s ah l iy zh er w ah s p l er iy n d hh iy n iy d ih d k l aa s eh s t ah s iy sil sh iy w ah s eh n w ah s hh ao w ao er k f ao d ah d ey ae n k uh d r ih l aa k s sil sh iy uw s ah b l n d er s uw m ey k ao s m s iy ng f ao p r eh k f er s t sil sh iy l aa k s t uh t ey k uw w ao k iy n d ah p k eh v r iy m ao n ih ng sil d ah s k uw s ih s ah m iy m ao f ah n d ih ng sil t uw ih n p r uw ae d ah k iy sh ah n sil d ah b iy d ih s sil sil aa k ah t eh k sh er w ao s m ao r d ah n ae n d y uw n iy k sil sil\n"
     ]
    },
    {
     "name": "stderr",
     "output_type": "stream",
     "text": [
      "/home/dmesg/miniconda3/envs/semi/lib/python3.8/site-packages/librosa/util/decorators.py:88: UserWarning: PySoundFile failed. Trying audioread instead.\n",
      "  return f(*args, **kwargs)\n"
     ]
    },
    {
     "name": "stdout",
     "output_type": "stream",
     "text": [
      "B2-2\n",
      "sil sil sil ih t w ah ah th eh b ah s w iy k ow d ah w ih ng t er s iy sil ah s ah n sh ao n s ah ao n dh ah s l ow hh aa er d s er s b ih l ow sil w ow s ow b y uw t f ah s ay sil n s ow t sil ah n l uw hh ae ah l ih t s uw w ay t s ey l s ah v dh ah sh iy p s ah n ah b l uw s iy sil ae w ow n d s k m ay t s ae n t aw ih ng ah k ao s ah s k t s d iy sil aa f t s ao sil ah s ah r aa sh sil s ah d ah n l iy sil ah f r iy s ih ng k ow sil b aa s ah v eh r s r iy n sh p aa s t sil ah n m ih r l iy b l uw d ah s eh l ao w eh s eh sil ao l s ow m ay v ey s ae sil l ow d m iy n d sil s iy ow sh ih p s sil ah n g ow s sil r ow l ah r ae d ah v k ao s sil l iy w ow s l w ao s iy l ah sil t uw v iy n b l uw aa n b l uw sil ih d g l ow s ow hh aa r s sil dh ae d sh ih p s ih l s sil r ih p s sil ah p aa r t sil ao r s eh n k uw t uw w ah s w ao sh ae s eh l ah sil sh iy l s sil ih n dh iy sil eh s p l aa s t sil sh uh k l eh r f iy s ae n k r eh n ah v y ao ng g er sil n ao s ow g iy w iy n sil s ay n ah s ah n sil w ay t uw hh ae t ah k s m iy z ah iy ae n k iy ah v dh ah s aa m sil b ih k ow s aa l ah t sh ow ih ng ah s hh ao s t r ah ey ae m sil r ih p l ay d m iy n t sil ah s iy t ih ng d ah s k ay ae n t uw m aa s ih ng k s ah t sh ay n sil ah s eh n f uw f ao s eh n iy eh n er jh iy sil sil sil\n"
     ]
    },
    {
     "name": "stderr",
     "output_type": "stream",
     "text": [
      "/home/dmesg/miniconda3/envs/semi/lib/python3.8/site-packages/librosa/util/decorators.py:88: UserWarning: PySoundFile failed. Trying audioread instead.\n",
      "  return f(*args, **kwargs)\n"
     ]
    },
    {
     "name": "stdout",
     "output_type": "stream",
     "text": [
      "B2-3\n",
      "sil ah sil s d ah s ah n sil ah hh iy s ow t f ow sil ah hh ae l ay d iy ah sil dh ae s ae k ao n t ah s sil t uw s iy w ih sh ah v aa s sil ih s ah s t r ao ng g sil ae n ow hh uw v ih v iy ng sil s ay d ah m iy n t s sil r iy sh ah sh s iy sil r ih p ae d ah s eh n sil t uw s iy m dh ae s m r eh n z ah n d eh r sil t uw v iy ng l uw k uw w ih d ah s eh v p ao n t ih sil ah y ah ng m w uw s ow k hh ih ah l ow n ih n d iy r ow sil s r uw d ah m aa n t ah s sil ih t w ah s s ow k ow t sil hh iy w ow s m r ih iy ng hh ae v ih n s k ow s k iy p w ow sil l ah s iy r iy sh r eh f aa s ih s t r ao ih n ah f t ah t ey k hh iy s k ow t f hh ih m sil s ch ae s iy t s eh n sil iy z iy sil eh t hh ae n d uw l ah t s ih n d ow t ay m sil b ow s t iy n d ah w iy ng t sil ow n sil s ay d ah s ae n sil ah w ow sh uw f ah m b iy hh ae n ow k ao t sil d v iy n b l ow b l uw sil ih t b l ow s ow hh aa r dh ae d dh ah b s hh ae sil aa t uw k l iy ng t t ah t r iy n s t uw s t p iy l s r ae p ah v ey sil t ah m ae n sh uw er d ae n d iy dh aa sil t ah t ao b s ah v ih k ow s ae s ah s m ow sil s w ao s ih n d iy eh r sil t uw w iy ng s sil k iy p t t ow b r ow iy ng sil b d ah m ao t iy s ow sil t ah s ae sh uh t m ae n p uw t hh ih s k ow s r ao n hh ng sil t k iy p ao ng sil sil ae iy w aa p sil g ae s t ah m iy n ae l aa s t sil ah v k s sil n ow m ao p aa f l ah t sil m l ao s m ae t s ah n sil s d ah s n ae s iy ih t sil sil m ao r sh ah f r ah m dh ah k ao t sil s ae n ch ah n t ah l b r iy s ih ng sil ih n d ah k ow eh r sil s t r ao ng er t sil b r s ih ng sil l aa r jh er ae n r ow n d er s iy m t ah g l ow sil sil\n"
     ]
    },
    {
     "name": "stderr",
     "output_type": "stream",
     "text": [
      "/home/dmesg/miniconda3/envs/semi/lib/python3.8/site-packages/librosa/util/decorators.py:88: UserWarning: PySoundFile failed. Trying audioread instead.\n",
      "  return f(*args, **kwargs)\n"
     ]
    },
    {
     "name": "stdout",
     "output_type": "stream",
     "text": [
      "B3-1\n",
      "sil l iy sil k er sil f ow t ow g r aa sil ah aa sil t ng l ah l ay s sil p l iy s sil l eh w ah z ah b iy g p aa p ih sil b ih t w iy n l ow t uw sil k r uw p th s sil l ow k aa n m ah t iy sh ay t uw t aa s sil l ah iy sh uw ah v hh ow n l iy s n s sil sil hh iy l ah n t hh aw t uw d r ay v sil w ih n hh iy w ah s ih k s t iy n y s ow t sil hh ih s v iy sh er w z ah b r ao sil ah n d ao hh iy n iy d iy d ah k aa s sil ch uw s iy sil sil sh iy w ah z d w ih z sil w ih z hh er w ao k sil f ao l ah d ey sil ae n d ah k uw l ah r ih l ae k s sil sh iy y uw s t ah sil p l ae n d er t uw m ey k ah s m er s iy f ao sil b r aa k f er s t sil sil sh iy l ah k s t uw t ey k ah w k ih n ah p aa k sil eh v r ih m ow n iy sil l ah s k ao r s ih s t ah n iy s sil m ao sil f aa n d ih n t uw iy m p r uw eh jh ah k ey sh ah sil l ah p iy d ih n s aa iy d hh ae k ch er w ao z m ao d ah ae n ah y uw n iy k sil sil\n"
     ]
    },
    {
     "name": "stderr",
     "output_type": "stream",
     "text": [
      "/home/dmesg/miniconda3/envs/semi/lib/python3.8/site-packages/librosa/util/decorators.py:88: UserWarning: PySoundFile failed. Trying audioread instead.\n",
      "  return f(*args, **kwargs)\n"
     ]
    },
    {
     "name": "stdout",
     "output_type": "stream",
     "text": [
      "B3-2\n",
      "ih t ah w ao z ah f aa sil b ah d ah w ay r iy sil k r ao sil l ay r iy k ow l w ih n t er s t iy sil ah l l ah s aa sh n sil d aa ao l ow s l k aa v er d ah s sil b ih l ow sil sil w ah t ah b uw t f ah s aa t sil t s ao t sil ah n d ah l uw k d ae ah l t ao w ay d ah s ey s ao v l ah sh r iy s sil ah l ah b r l uw s iy sil ay w ao n t uw t ey k m ay t eh n t aa v ih ah k r ao s l ah s k ay t ah d ey sil ah sil t ah ao sil ah s ah r sh sil s aa d ah l iy sil ah f r iy t ih ng sil k ao d ah b r aa s ah v sil s k r ae sh t ah sil ah p aa s t ae n d sil n ih r l iy sil r uw l ah s aa ah l ao w iy d iy t sil aa t ah m ay w ey s aa sil r ow d l ow w iy t sil s iy r ow s sh r iy p s sil ah n g ow ih ng t uw b r ao l ey sil r aa n sil r ae t ao f sil ao s t sil l ey w ao t ah sil n ow w ao s hh iy s l sil l ow w ih n t sil b l uw sil b r uw ah n d ah sil b l uw sil iy t ah r uw s ow hh aa t sil l ae l ow sh iy p s ah s ey s r ih t sil p aa t sil sil ao l ah s k uw d uw sil w ah ah t sil w ah sh ae z ah l ah s eh l ah s sh v er s ih l ah ay s iy sil b r aa s t sil sh uw t ah l eh f iy s sil ah n d ow sil k r aa d s ih ng sil ae n g ah sil n ow t ah sil g ae sil w ih n t sil s t eh l ah s ao sil w ay d uw hh ae v t uw k ow s m er r iy ae n d ah k eh s ao l ah t ah sil b iy k ao dh ay l ae k ah sh ao ih ng ch aa ah hh ao t r ao ay ah m sil r ih p ay d l ah w iy n sil t sil sil y uw s iy s iy l ah s k aa ah n ah d r uw n ow z ih iy s ae t ah s sh aa sil b aa d ah ay ah m f ao v ao sil ao s t ae n d ah ae n d ah t r iy sil sil\n"
     ]
    },
    {
     "name": "stderr",
     "output_type": "stream",
     "text": [
      "/home/dmesg/miniconda3/envs/semi/lib/python3.8/site-packages/librosa/util/decorators.py:88: UserWarning: PySoundFile failed. Trying audioread instead.\n",
      "  return f(*args, **kwargs)\n"
     ]
    },
    {
     "name": "stdout",
     "output_type": "stream",
     "text": [
      "B3-3\n",
      "sil uw sil s eh l ah s aa sil l uw k iy m s t p ao sil ay hh ae v ay d iy ah sil ae s ae v ah sil ah k aa n t eh s t t uw s iy w iy t r aa w aa s ih dh ah s t r aa ng g ah sil ay n ow sil uw w ih w iy sil s ae d ah l ow w iy n t sil m iy sh uh s iy sil ah p aa l ah l ah s sil d uw s iy l ay m sil d aa l eh r sil l ow w ih n l uw sil d ah w ih l ah s aa w ah z p oy n t sil ah y aa m ae w z w aa ao k ih ng ah ao w ih ng d iy r ow t sil s r uw l ow m aa n t ah s sil ih n ah w ao s s ow k ao d sil hh iy w ah z aa r iy l ow sil ae v iy w ih n t ah k ow t sil uw sil k iy p w ao sil l ah s iy w iy t r aa w aa s ih s t r aa ng g er iy n sil t uw t ey k l sil ey k hh iy s ao s sil k ow t ah f sil hh iy sil s ah t r ah s ah s sil iy dh iy sil ay k ey n d uw l ay s ih n ow t aa sil b ao s t l ow sil w ih n t sil g aa sil k ow l ih sil s ae d l ah s aa sil eh w ch uw f r b iy hh ae n d ah p sil k r ao t sil l ow w ih n t sil b r uw ae n ah b r uw sil iy t sil p r uw s ow hh aa t sil l ae l ah b r er s hh ae t uw s iy n ih ng t uw ah t r iy s sil t uw s t ao sil b iy n s uw iy sil t ah w ey sil l ah m eh n sh ih v er d ae n d ah sil d iy d aa p sil l ow sil b ao sil l ah t ah b b aa t ah sil ah v ao sil l eh sil k ao sil ah v hh iy k s sil ah z ah l ah s sil l ao s r eh d ah l ah eh sil l ow w ih d sil k eh t ao sil k eh p ah sil l ow w ih n t sil t aa sil b r ao sil b aa t l m ao r s sil d iy ah s ao sil l ah t ay er l ah d eh m p ao hh iy s k ao d ah r n hh ih n uw k iy w ao sil ay sil g ey aa sil ay g ey v p sil g eh s sil g eh f s ao l ao sil g eh s sil p ah sil g ae s r ow w ih n t ae d ah l aa s t sil sil ah v k ow sil l ow sil aa v g ow s sil n l ow ao p ao f sil l aa f s sil d ow sil ih s m ay t eh sil s aa l ah s aa sil ah n ah iy z ah m ao s ah f r aa l ah sil k ao t sil l ow aw jh eh n l iy sil b r ey s iy sil l ow s aw sil t eh n er l iy sil b r iy s iy ng iy l sil k ao ih r sil l ah s t r ng g er t sil b r iy s ih sil l ow s sil l aa jh er ae n d r aa n d er iy s iy m s sil t uw sil k r ow sil sil\n"
     ]
    },
    {
     "name": "stderr",
     "output_type": "stream",
     "text": [
      "/home/dmesg/miniconda3/envs/semi/lib/python3.8/site-packages/librosa/util/decorators.py:88: UserWarning: PySoundFile failed. Trying audioread instead.\n",
      "  return f(*args, **kwargs)\n"
     ]
    },
    {
     "name": "stdout",
     "output_type": "stream",
     "text": [
      "B4-1\n",
      "sil l iy s sil t w ay sil sil iy sil m ae dh er sil iy f uw sil p r uw sil iy sil k r er sil f uw t ow sil g r aa f sil t er sil sil dh aa n z ah l iy v s sil iy s sil sil s eh w ah z ah sil b ih k sil p r ow m sil b iy t ih n s ah sil t uw sil g r ow s sil sil dh ah sil g aa m ah n d ih s sil t r ay ih ng sil t uw ao sil t r ay s iy sh uw ao f uw m l ih s n ih s sil sil hh iy l er n d ih dh hh ao t uw sil t r ay sil hh ao t uw t aa sil hh ow t uw d r ay sil sil w ih n iy w ah s ih s t ih y er s ow t sil hh iy s sil w iy sh er w ao s sil p l er v r iy sil ah n d ih hh iy n iy d ih d ah sil k l aa s ih s sil t uw s iy sil sil sh iy w ah sil t ao w ih s hh ao w er f ao dh ah d ih ah n d ah sil k uw t r ih ae k s sil sil sh iy sil y uw s sil dh ah sil l ah sil l ah n d er sil t uw m ey sil ah s m ao s iy f ao sil b r eh k f er s sil sh iy l eh sil k s sil t uw sil t ih k uw w ao k ih n dh ah sil p k v r iy sil m ao n ih sil sil s ah s sil k uw s ih s t er n iy s m ao f ah n d ih ng sil f ao n d ih ng sil t uw ih n sil r uw sil eh d sil k iy sh ah n sil sil dh ah sil b uw d ih s sil w ah s sil t iy s sil t er sil w ao s m ah n d ah n ah n d y uw n iy sil k sil\n"
     ]
    },
    {
     "name": "stderr",
     "output_type": "stream",
     "text": [
      "/home/dmesg/miniconda3/envs/semi/lib/python3.8/site-packages/librosa/util/decorators.py:88: UserWarning: PySoundFile failed. Trying audioread instead.\n",
      "  return f(*args, **kwargs)\n"
     ]
    },
    {
     "name": "stdout",
     "output_type": "stream",
     "text": [
      "B4-2\n",
      "ih t uw w er s ah f aa n sil aa t r r iy sil k uw t m ih n t er s t ih sil ah s ah s ah n s ah n sil ah n dh ah sil ah sil aa ng s ah sil s n m ow sil k aa er iy sil dh ah sil er s sil b r ih l ow sil sil w ah t ah sil b ih f uw s s th s sil ih t s ow s sil sil ah n d ah m uw k ah l t uw w ay s s ih sil s eh s sil ah f ih sh iy p ah ng s ah sil r uw s iy sil aa v aa n t uw sil t iy k m ay t aa n sil t aa v l ih ng k r aa s ah s k ay t sil t sil aa f sil aa f t er ao sil w ao s er sil r sh sil sil s n d ah l iy sil ao f r iy s iy ng sil k ow sil t sil r l aa s t ah sil ao f ih r sil k r ow sil d ih t ah sil p aa s t sil aa n d n ih r l ih sil b ih l ow z ah s aa sil ah l aa n v iy z ih sil sil ao t ow f sil m ay v iy s ah sil r ow sil dh sil sil t ah v iy ng sil sil s iy l uw s sh iy p s sil ah m g uw n t uw v iy sil t uw sil m ow s ah m v r aa t ao f sil k r aa s sil sil s ow s n ow sil w ah t iy s ah sil s ow v iy sil t sil b l ow sil b ih sil b ah m uw aa n sil r uw sil ih t sil r m uw s t ow hh aa t sil s aa s th ah sh iy p s iy s sil sil d r aa f t ah sil ah p aa t sil aa t ah s aa ng sil k uw t sil d uw sil w s sil w er sh ih sil w ah sh sil ae s ah s w er s sil s aa iy d ih sil ih n s ah sil r aa s t sil sh aa k s ah n ah iy s sil aa n d ah sil k r ow sil d iy sil ao s sil ih n sil aa ng g er sil sil m aa t ah sil d iy ng f ih n t sil sil s ay d ih ah s aa sil sil w ay t uw iy hh aa v sil k ow s m s r iy aa n d ah sil ao s ah sil t aa n sil sil b iy k ao s ay l ay k s sh ow iy ng sil jh aa s dh ah hh s t r ao ng ay aa m sil sil s l iy sil p t ih sil dh ah sil ah s iy ng sil sil y iy s iy t iy n s ah s k ay sil ah n dh sil d uw n aa s iy sil eh k s aa f s ih ng sil s aa sil aa t ah aa ao ao f ao k er sil s ao s sil n d ah sil aa n ah jh iy sil\n"
     ]
    },
    {
     "name": "stderr",
     "output_type": "stream",
     "text": [
      "/home/dmesg/miniconda3/envs/semi/lib/python3.8/site-packages/librosa/util/decorators.py:88: UserWarning: PySoundFile failed. Trying audioread instead.\n",
      "  return f(*args, **kwargs)\n"
     ]
    },
    {
     "name": "stdout",
     "output_type": "stream",
     "text": [
      "B4-3\n",
      "sil n aw sil s ae s ah s aa sil r uw k iy sil s ao t ao sil sil aa hh ae v w aa sil ay d iy sil s w ao sil k aa n sil t ih s t sil k aa n t eh s sil t sil t uw s iy v iy t ah f aa s ih ah sil s t r ah ng g er sil n n sil uw v ih v ih n sil s ae s dh ah aa sil ih ng t sil iy sh ih eh s iy sil s ih sil p l ey sil dh ih sil sil dh ah s aa sil t uw s iy z ae t sil m aa n sil d s ih sil sil s ah v ih n d ah r uw k ae sil m uw k sil dh ah sil v ih ah s aa w ah s ah sil p ao t ih ng sil ow y ah n m aa w ah s w ao k ih l aa n s ow v ih sil dh ey sil k r ow t sil ah v n d ih ah t sil k r uw sil s r uw ah sil ah n t ih s sil ae t w ah s uw sil k ow t sil hh iy w er z w er ng ah hh aa v ih ng v ih n t uw sil k ow t s sil t uw k ih p w ao n sil sil ae s iy sil v r ih ch aa f s ih s t r ao ng g er sil v r ih s t aa ng ih n aa f sil t uw sil t ih t s k ow t ah f dh ah sil ng sil s t t ey s dh ah s aa sil iy z iy sil ae k ah n d uw z s ih ow t n sil sil b ow s t ih ah v ih sil sil p ow s ih sil s ae t s s ah s aa sil sil aa iy w t sh iy f sil b iy hh ae n d sil k aa t sil sil dh ah v ih n d sil p m uw aa n sil p m uw sil sil ih t sil p r uw s k s aa s ah sil p w er s aa t uw sil k ih ng sil t uw s ah t iy s sil t uw s sil sil b iy s eh p sil t ah v ih sil th ah m aa n sil s v iy ng aa sil dh ah sil n d ah sil dh ih t sil aa f sil s ah sil t ao sil aa t s sil ah sil b ao t ah n sil ah f sil hh s k ao t sil ae t ah s aa n sil s ih iy t ih sil ih n th ah eh r sil dh ah ih n t sil k ih p t ah n p r ow sil p r uw n sil p r uw ih sil sil b aa t s m ao ah s dh s ow sil ah t ih sil k r er sil f ah m aa n sil p uw sh t ah iy s k ao t sil ah aa n ih n sil t sil k ih m w ao sil sil aa t w aa sil b aa s t sil p ah t th ao sil dh iy n t sil ae t l s sil sil hh ae v sil ao sil s uw m ow m ao sil p uw f sil t uw sil l aa f t sil n aw ih s sil m ay t aa sil ih s m ay t r ah sil sil s ae s t ah s aa sil ae s s ih m ao ch er sil ih m ao sil ih m ao sil t er sil dh ih sil t sil f r ah th ah sil k r uw t sil dh ah s aa sil k ae t uw m ih sil r aa s iy sil t ah sil ih n th ah sil p t sil eh r sil t ah s t r aa n g er ey s ah sil p r s iy n sil sil s ah n sil m aa t er sil n dh eh sil ow t er ey sil t ah s iy n sil t sil t uw sil k r ow sil\n"
     ]
    },
    {
     "name": "stderr",
     "output_type": "stream",
     "text": [
      "/home/dmesg/miniconda3/envs/semi/lib/python3.8/site-packages/librosa/util/decorators.py:88: UserWarning: PySoundFile failed. Trying audioread instead.\n",
      "  return f(*args, **kwargs)\n"
     ]
    },
    {
     "name": "stdout",
     "output_type": "stream",
     "text": [
      "B5-1\n",
      "sil sil l ih s sil t ay sil g r iy sil m ey y sil ih sh uw sil g l uw sil l ih v sil g er sil f uh t aa iy sil t er aw sil t aa aa n dh ah l ay s p l iy s dh eh r w ah z dh ah b ih k p r ao ah n sil b iy t iy n dh ah t uw uw s dh ah g er m n t ih z t r aa n t eh t r eh s dh iy ih sh uw ah v hh ow m l ah s n ah s hh ih l er d hh aw t er t r aa sil b aa n hh iy w er s ih s t iy n y ih r ow sil hh ih z v ih zh ah n w ah f l ao iy sil ae n hh iy n iy d ih g ao s ih s t ih s iy sil sil sil sh iy w ah z t ae n ih z ah w er k f ao dh ah dh ey sil n k uw r ih l ae s sh hh y iy s ah v ae er n t uw m ey ah z m uw dh iy f ao b r ae d f er s sil sh iy ae s t uw t ey k sil ah w ao ih n dh ah b k ae v ah m ao r n ih ng sil dh ah s r uw s ih s t ah n dh iy s w ao f aa n d ih n t ih n p r uw dh iy ae d ih g ey sh ah n sil dh ah b ih dh ih s t aa k iy d eh ch er sil w ao s m ao ae n ih m iy k\n"
     ]
    },
    {
     "name": "stderr",
     "output_type": "stream",
     "text": [
      "/home/dmesg/miniconda3/envs/semi/lib/python3.8/site-packages/librosa/util/decorators.py:88: UserWarning: PySoundFile failed. Trying audioread instead.\n",
      "  return f(*args, **kwargs)\n"
     ]
    },
    {
     "name": "stdout",
     "output_type": "stream",
     "text": [
      "B5-2\n",
      "ih w ah z ah f aa n sil dh ah w er ih k ow w ih n t er s t ey sil ae z dh ah s ah n sh ay n d aw dh ah s k aa b er er s iy l ow sil w aa ah b y uw t f ah s ae t sil ih s ao s sil ae l uh k er sil dh ah l ih d ah w ay s eh s ah v dh ah sh ih p s aa n dh b l uw s iy sil aa w aa n t ih t ih k m ay t aa n t eh b l ih ng ah k r ao s dh ah s k ay t ah d ey sil aa f t er ao l sil w ah t ah w aa sh s ah dh ah l iy sil ah f r ih m ih k ow d sil b l ae s ah v eh r s k k r ih p aa s sil ae n n iy r l iy sil b l uw dh ah s ah n sil ah l ao w ih dh ih s sil sil aa l ah m ah n iy sil s ah n sil w ao n sil dh ah w iy d sil s iy b er s ih s ae n g ow ih n sh uw sil b ow d n r ae d ah v k ao r s dh iy w aa d ah w ah hh ih b ah n sil dh ah w iy sil b l uw sil ae n d l uw sil ih t g uw s ow hh aa sil dh ah dh sh ih p s s r ae t ah p aa s ao dh ah s ah n k uw d uw w ah s w ao sh ae n sil dh ah s eh dh er s sh aa er ih n dh ah sil ae s iy p ae s sh uh t b eh r f eh s ae n k r ae d aw sil ih n ae n g er sil n aa l t iy sil w iy sil s ah dh ah s ah n sil w ay d uw hh ae v t uw k aa z m ih z ah l iy ae n ah k ey aa s aa dh ah t aa n sil b ih k aa s aa l er sh ow n sh ah z aw s t r ao ay ae n sil w ih p aa ah w iy d sil y uw s ih t ih n dh ah s k aa sil ih n dh d ah n aa s iy ih k s ah sh aa n sil b aa s aa ae n f ao f ao s ae n ae n ah zh iy sil sil\n"
     ]
    },
    {
     "name": "stderr",
     "output_type": "stream",
     "text": [
      "/home/dmesg/miniconda3/envs/semi/lib/python3.8/site-packages/librosa/util/decorators.py:88: UserWarning: PySoundFile failed. Trying audioread instead.\n",
      "  return f(*args, **kwargs)\n"
     ]
    },
    {
     "name": "stdout",
     "output_type": "stream",
     "text": [
      "B5-3\n",
      "sil n sil s ay dh ah s ae sil ah k iy s ao f sil ay hh ae v ah n ay t iy sil l ay s ow k aa n t hh ae s t ih s iy w ih sh ah s ih t r ah g er sil sil ah ow hh uw w er ih sil s ay ah w ih n d sil sil w iy sh ah s iy sil r ih p ay dh ah s ah n sil sil d uw s iy dh ae n d aa ah dh ih r sil dh ah w iy n b l uw d ah w ih er dh ah s ah w ah s k aa t iy sil ah y ah n aw w ah z w ow d ah l ow ah w ih n d ih g er sil dh uw dh ah m t ih s ih w ah s ow k sil sil hh iy s w ih w ih ah hh ae v iy w ih d er k t uw t iy p w ao sil sil l s iy sil w ih sh aa ah v b s ih s t r aa d er ih n aa sil t uw s ih k hh ih s k ah sil aa sil s ah jh eh s t ih dh ah s ah n sil iy v ih sil ay ae n d uw dh aa sil ih n ow t hh aa sil b ow s t ih dh ah w ih n d sil g ow aa dh eh sil s ay ah s ae n sil ae w ah sh iy dh iy hh aa d ah k aa t sil sil dh ah w iy d b l uw ae n b l uw sil ih g uw s ih aa sil dh ah dh ah sil b er s hh s ih s iy t uw dh ah t r iy t ih s t aa b iy s eh ah w ay sil dh ah eh n sh ae d er d sil ae n dh ih sil dh ah s ow b aa d ih n ah v hh ih s k ow d sil ah dh ah s ow s ao d sil ih n dh iy eh r sil dh ah w iy d sil k ih aa b ow ih ng sil b ah dh ah w ao r ih t ih s ah sil dh ah t ay t er dh ah m ae n b l uw d hh ih s k eh d er w aa hh ih ng sil t uw k iy w ao sil ay k iy v aa sil g ae s t ah v ah w iy sil ae ao s t sil ay g aa n m aa p ae f aa s aw sil ih s l ay t ah sil s ay ah s ae n sil ae z ih ih m er zh sh t f ao ng ah k l ao s sil sil dh ah s ae n sh ae t ah ih b r iy s ih n dh ah k aa eh r sil dh ah s t ao g er ih t p r ey s iy n sil ah l aa jh er ae n r aa d er sil ih s iy n s uw ah m ih sil sil\n"
     ]
    },
    {
     "name": "stderr",
     "output_type": "stream",
     "text": [
      "/home/dmesg/miniconda3/envs/semi/lib/python3.8/site-packages/librosa/util/decorators.py:88: UserWarning: PySoundFile failed. Trying audioread instead.\n",
      "  return f(*args, **kwargs)\n"
     ]
    },
    {
     "name": "stdout",
     "output_type": "stream",
     "text": [
      "C1-1\n",
      "sil sil iy s sil f aa sil t r ih m m ae s er sil s iy sil p uw m uw sil m l ey s sil k ao sil aa t f ao sil r aa sil f uw s ao t ah w sil t ah t ah d ah l ae t ah p iy s d eh w ao s ow sil b iy b ah p r aa p ah sil b iy t iy sil d ah t uw k r uw v ah s sil d ah sil g aa m ah t ih s t r ay ng t uw sil ah t r ae s d ah ah s iy d ah sil ow m l ih s t iy s sil hh iy l er n d hh aa t uw t r aa b w ah iy w ao f ih k s t iy n y ah s sil ao t sil hh ih s w ey sh ah w ao s l ah sil r aa sil r iy aa n d ah sil iy n iy d ih sil sil r aa s r aa s ih s sil t uw s iy sil sil sh iy w ao l ah sil d aa sil w ih s ah f er w ao d ah f ao d ah sil d ey sil aa n d ah sil k uw d r ih l ae k s sil sh iy y ow s t ah ah sil aa n sil b aa n d er sil t uw m ey t ow sil s m ow sil m ow t f ao sil b r k f ao s t ah sil iy l ae k s ah sil t uw t k ah sil w aa k ih n d ah sil p aa k ae r iy m ao n ih sil d ah s ah g w ao sil f eh s t ah sil m iy s sil m ao sil f uw f uw d iy sil f ao ng sil f ao d iy sil t uw sil iy m p r uw sil aa d ah k ey sh ah n sil d ah b iy d ah n s ah sil aa sil t k uw sil t iy t ao sil w ah sil m ao d ah n sil aa n d ah sil y uw sil uw k ah sil sil sil\n"
     ]
    },
    {
     "name": "stderr",
     "output_type": "stream",
     "text": [
      "/home/dmesg/miniconda3/envs/semi/lib/python3.8/site-packages/librosa/util/decorators.py:88: UserWarning: PySoundFile failed. Trying audioread instead.\n",
      "  return f(*args, **kwargs)\n"
     ]
    },
    {
     "name": "stdout",
     "output_type": "stream",
     "text": [
      "C1-2\n",
      "sil iy t w aa s sil s aa sil aa hh ah w er r ow t w ih n t er s t ey sil aa s t ah s aa sil s ow sil d aa sil aa ng d ow sil s uw m ao sil k aa er d ah sil r ah s sil r iy sil b l ow sil w ah t ah b ih t ah f ah l aa t sil iy t ah sil s aa t sil n d ah l uw aa t ah sil d ah l t ah w aa t ah sil s aa s sil ah d ah sil s eh p s t sil aa d ah sil l ow s iy sil aa w ah t uw t ey k sil m ay sil p aa sil t r aa v er l ih ng sil r s t ah sil s ah k aa t d ey sil s ah d aa s sil w ah s t ah r aa sh sil r aa sh sil s aa dh l iy sil ao sil s iy s ih ng sil k ow sil d sil l aa s t sil ow aa sil s r ih ng d ah sil p aa s t aa n d ah sil n iy l ey sil b l ow sil d ah sil s aa sil ah l aa w iy s iy t sil aa ng sil aa sil ah m aa v iy s aa sil r ow sil d ah d ah d ah sil w r iy ng sil s iy sil dh ih s iy s sil aa m g ow ng t f uw sil l ow sil d ah sil r aa s f s t ah sil k ao s sil d ah w ah t ah m ow sil w ah t ah hh ih ah d sil d ah w eh n t ah b l ow aa n d sil b ah sil l n d sil l ow sil d ah b l ow s ah hh aa t sil dh aa dh sh ih p s s ey sil r ih f ah d ah sil ah p aa t sil sil aa d ah s aa k uw d ah b iy sil k uw d ah sil d ow sil aa t sil ah sil w aa s aa s ah dh ah s ey s s sil s eh d r ah sil aa n d sil th eh t ah s iy sil s iy w ah d ih n d ah sil aa s ah sil b l ow s aa s t sil s aa p t ah s ao s t ah aa n dh ah sil k r aa t ah sil t ah sil iy ng sil ah n sil aa n g iy sil m ao d eh w ih n d sil s ih d ah ah s aa sil r aa d ah d ah hh ae ah sil iy sil v r ay d ah t ah hh ae t uw k ih s sil m ih s t ah aa n d ah sil k ao s sil k aa s aa t aa n sil b ih k ah s aa l aa sh r ow ng sil jh aa s t ah hh aa sil s ah t r aa ae m sil r ih p iy t ih d ah d ah w iy n sil iy sil y uw s ey t ih ng d ah s k aa sil n d ah sil d uw m aa s iy s aa t ah s aa sil b aa d aa m ah s ao ah w ao sil f ao s sil aa n d ah sil aa n ah jh iy sil sil\n"
     ]
    },
    {
     "name": "stderr",
     "output_type": "stream",
     "text": [
      "/home/dmesg/miniconda3/envs/semi/lib/python3.8/site-packages/librosa/util/decorators.py:88: UserWarning: PySoundFile failed. Trying audioread instead.\n",
      "  return f(*args, **kwargs)\n"
     ]
    },
    {
     "name": "stdout",
     "output_type": "stream",
     "text": [
      "C1-3\n",
      "sil s ae s t ah sil s aa sil r uw hh iy sil s aa t s ah sil aa hh ae ay d iy ah sil l ae s hh ae ah k aa s t ae s t t uw s iy sil v ih sh ah aa s ih s ah s t r b ah sil sil ay n ow sil uw w iy w iy sil s ae t d sil w sil w ih sh ah s iy sil r ih p iy t ih d ah s aa sil t uw ih s iy d ah m ah n aa ng d ah sil d ah w ih n ah s r uw k aa t ih r sil r hh ae ah w d ah s aa w ah v ao t ih sil ah y aa v ah w ah f ah ng ah l w ih s ah w ih aa sil r ih ih d sil w ih n sil w ih n d ih d s r uw d ah m aa ng t hh ih s t ih t w ao s ow k ao d sil iy w ao s w eh r iy w ao sil hh aa v l v ih n t ah k ow t sil t uw s iy p w aa sil l ae s sil l aa s sil s iy w ih sh w aa m s ih s t r sil k er ng n f sil t uw t ey k ah hh ih s l ah sil k ao d ah f hh iy m sil s zh ae s ih s t ah s aa sil iy s iy sil ae ah n d uw s ae ih n n ow t hh aa sil b ah s t ah sil t ah w iy sil g ow d ah sil s ah t ah ah s aa sil aa v iy w aa sh y uw f r m sil b iy hh aa n d k ow t sil d ah w iy n sil b iy l ow sil p b r ow ah n d sil l ow ih t t s ow hh aa v sil dh ae t ah d ah sil b aa d ah sil b r ao s hh t uw sil k k ah sil l ng t uw d ah t r iy sil t uw sil s t iy sil s b ay sil b aa t ah w ey sil d ah m eh sil s ae v iy d aa n d ah sil d iy d ah n d hh ah sil d iy ah n sil d iy d ah aa p ah t uw d ah t ah b aa t ah ah hh ih s k ow s sil aa s ah sil d ah s m ao sil s uw sil s w aa sil d ah sil ih n d ah sil d w iy ng sil t ey f aa sil ah l ow sil b aa t ah sil d ah m ao sil iy t uw sil d ih d sil d uw sil d ah t ae sil t ae k er s sil d ah t ae v ah s ah d ah m ah sil p ow sh ah dh ah hh ih s k ao d r aa hh ih m sil t t iy f w aa sil ay d iy w aa sil r aa s t ah sil d ah w iy sil aa t ah l aa s t ah sil ae v iy sil b aa t ah m l ow m ao uw p uw sil l aa f t m l ow ih s b ay t ow sil s ae t ah dh ah s aa sil aa s sil ih t aa n ah d ih l ah f r d ah sil l aa sil d ah s aa sil ay t sil t iy sil d ah s aa sil b ay t ah sil b r eh s t ah ih n d ah k w aa sil d ah s ah g aa d er iy t sil b r ih s t ah sil b r ih t ah n d ah sil iy sil d ah l aa t r ih s sil aa n d ah r aa n ih t ah ah s iy m sil sil uw sil g r ow sil\n"
     ]
    },
    {
     "name": "stderr",
     "output_type": "stream",
     "text": [
      "/home/dmesg/miniconda3/envs/semi/lib/python3.8/site-packages/librosa/util/decorators.py:88: UserWarning: PySoundFile failed. Trying audioread instead.\n",
      "  return f(*args, **kwargs)\n"
     ]
    },
    {
     "name": "stdout",
     "output_type": "stream",
     "text": [
      "C2-1\n",
      "sil l iy s sil t w ay sil t r iy n sil m eh zh er sil iy sh uw sil b l uw sil l iy f sil k er sil f ao t ow g r ae f iy sil t er ao sil t er dh ah l ay t s sil p l iy s sil dh eh r w ah z ah sil b iy k sil p r ao b l ah n sil b ih t w iy n d ah sil t uw sil g r uw p s sil dh ah g aa v m ah n t sil ih th sil t r ay n t uw ah t r eh s sh uw ah v hh ow m n l ah s n ah s sil ih l ao r d sil hh ao t uw t r ay v sil w ao hh iy w s ih k s t iy n y ih r s sil ow l d sil hh iy s v iy sh ah n w ao s sil b l r iy ae n sil hh iy n iy d ih d sil k l ae s ih s t uw s iy sil sh uw d sil d aw m w ih t hh er w ao r k f ao ah sil d ey sil ae n sil k uw t sil r iy l ae k s sil sh iy y uw d ah sil p l ae n d er sil t uw m ey t sil b ah s sil m ao s iy f ao r p r eh t f ao s t sil sh iy l ay t sil t uw t ey k ah w ao k ih n ah p aa r k sil eh v r iy m ao r n ih ng sil sil dh ah s k ao s ih s t ah n iy s m ao r f ao n d ih n sil t uw m sil p r uw sil ih jh uw iy sh ah n sil dh ah sil b iy d ih ng s ah t k ae p t uw w sil m ao d ah n sil ae n d sil ih m iy ng t sil sil\n"
     ]
    },
    {
     "name": "stderr",
     "output_type": "stream",
     "text": [
      "/home/dmesg/miniconda3/envs/semi/lib/python3.8/site-packages/librosa/util/decorators.py:88: UserWarning: PySoundFile failed. Trying audioread instead.\n",
      "  return f(*args, **kwargs)\n"
     ]
    },
    {
     "name": "stdout",
     "output_type": "stream",
     "text": [
      "C2-2\n",
      "sil iy t w ao z ah ay n b ah t dh ah k ow d w ih n t er s t ey sil ah z dh ah s ao ng sh ow n d aa sil ah n dh s n ao k ah v er t sil er th sil b l ow sil w ao t ah b ih d f ah s ay t sil ih s ao s sil n d uw k ae dh ah d iy t uw w ah s eh s ah v sh iy p s sil ah n dh sil b r uw s iy sil ah w ah n t uw t ey k m ay t ay n t aa v ah l ih ng sil k r ah s ah s k ay t t ey sil ah f s p ao sil b ah t s r aa sh sil s ah d ah n l iy sil ah f r ey s ih ng k ow t sil b r ae s ah v eh s k r ey n p ae s t sil ah n n ih r l iy sil b r uw dh ah s ao ng sil l ao ng w ih th ih t sil t m ay w ey iy s ao sil r ow t ah dh ah w ay sil s iy dh ah s iy p s sil ah n g ow n t b r ow dh eh n sil b r aa sil ah v sil k ao r s sil ih w ow t n ow w ah t s hh iy t dh ih n sil d w ay n d sil b r uw sil ae n sil b r uw sil ih t sil b l ih t s ow hh aa r dh ae t sil dh ah sh ih p s eh r p t sil ah p aa r t sil sil ao s ow ng k d uw w ah th w aa sh sil ah dh ah s ey l er s sil sh uh r aa r s ih n dh ah ay s sil b l ae s t sil sh uh k dh eh r f ey s t eh n sil k r ay d aw t ih n sil ae ng g ah sil sil n aa ah sil d ae m w ay sil s ay n t sil s ao sil w ay d uw hh ae v d k ao s m iy z ah r iy ae n d t ey ah s sil ah th ah t aa sil b iy k ao s ay l ah t sh ow ng jh ah s dh ah hh ao s t r ao ng ay n sil r ih p l ay t s sil w ay sil ih s iy t ih n ah s k ay ae n d n aa s ih ng ih k s t eh p s sil b ah ay ae m f ao f ao r s sil ae n eh n er jh iy sil sil\n"
     ]
    },
    {
     "name": "stderr",
     "output_type": "stream",
     "text": [
      "/home/dmesg/miniconda3/envs/semi/lib/python3.8/site-packages/librosa/util/decorators.py:88: UserWarning: PySoundFile failed. Trying audioread instead.\n",
      "  return f(*args, **kwargs)\n"
     ]
    },
    {
     "name": "stdout",
     "output_type": "stream",
     "text": [
      "C2-3\n",
      "sil hh uw sil s eh d s sil l uw k ih n s ao t f ao ih sil ah hh ae th ay d iy ah sil dh ah s hh v ah k ah t k s t uw s iy w ih sh ah v s ih s sil dh ah s t ao ng k er sil ah n ow hh uw w er w iy sil s eh dh ah w n sil sil w ih sh ah s iy sil r uw p l ae dh ah s ao sil t uw s iy dh ah m eh n d ao n dh ih r sil dh ah w ay n d uw f t ah w er dh s ao d sil p ao n ih m sil ah y ah m ae w th w ow k ih ng ah l ao w ay n d ih ng r ow sil th s r uw dh ah m aa n t ah s sil ih t w ah s ow k ow sil hh iy w ow s sil w er ih ng ah hh ae v iy w ih n t sil k ow t t uw sil k iy p w ao sil sil dh ah s s iy w ih ch w ah n ah r s ih s t r ao n ah f t uw t ey k hh ih s k ao d ao f hh ih m sil s ah k ch eh s t ih dh ah s ao sil sil iy z iy sil ey k ah n d uw dh ae d ih n n ow t ay sil b ow s t ih dh ah w aa n sil k ow ao n dh eh n sil s eh dh s ao sil ay w uh w ah sh uw s r ah n b hh ay n dh ah sil k l sil t sil dh ah w ay n b r iy ae n sil b r ih sil ih t sil b r uw t s ow hh aa r dh ah s b ao r t hh ae t uw sil k l iy n t uw dh ah t r iy s sil t s t ao sil b iy n s w eh p t ah w ey sil sil dh ah m ae sh uh r t sil ae n d ih l aa p dh ah sil t aa b aa t ah n ah v sil hh ih s sil k ow s sil ah dh ah s m n ow sil s w er d ih n dh ah ey r sil w ay n d sil k eh ah sil b r ow sil b ah dh ah m ao r ih sil d iy s ow sil dh ah t ay t er dh ah m ae n p ow d hh ih t ow s ah r d hh ih n sil t uw sil k iy p sil w ao sil sil ay iy v aa p ah d ae s t ih dh ah w ay n d ah sil k l aa s t sil ah v g ao n ow m ao sil p ao f sil l eh f t sil sil n aw iy s m ay t ao sil s eh s ao s ih n m ch t f r dh sil k l ao sil sil dh ah s ao jh eh n t ah l iy sil r eh s ah ah sil k d sil ey sil dh ah s t r ao ng er t sil b r er s t ih n sil dh ah sil l aa jh er sil ah n d r ao n d er sil ih t s ih n t k l ow sil sil\n"
     ]
    },
    {
     "name": "stderr",
     "output_type": "stream",
     "text": [
      "/home/dmesg/miniconda3/envs/semi/lib/python3.8/site-packages/librosa/util/decorators.py:88: UserWarning: PySoundFile failed. Trying audioread instead.\n",
      "  return f(*args, **kwargs)\n"
     ]
    },
    {
     "name": "stdout",
     "output_type": "stream",
     "text": [
      "C3-2\n",
      "sil sil iy t w z ah ay b ah t dh k ow d w ih n t er s t ey sil ah z dh ah s ao ng sh ow n d aa ng sil ah n dh s n ao k ah v er t sil er s sil b l ow sil w ao t ah b ih d f ah s ay t sil ih t s ao s sil ah n b uw k ah dh ah d iy t uw w ah s eh s ah v ah sh iy p s sil ah n ah sil b r uw s iy sil ah w ah n t t ey k m ay t ay n t r aa v ah l ih ah k r ah s ah s k ay t d ey sil ah f s t ao sil ah s dh ah r aa sh sil s ah t ah n iy sil ah f r ey s ih ng k ow t sil b r ae s ah v eh s k r ey n ch p ae s t sil ah n n ih r l iy sil b r uw dh ah s ao ng sil l ao ng w ih th t sil ao t m ay w ey iy s ao sil r ow t dh ah w ay t sil s iy dh ah s iy p s sil ah n g ow ng t b r ow eh n sil b r ay d sil ah v sil k ao r s sil b ih w ow t n ow w s hh iy t dh eh n sil w ay n d sil b r uw sil ae n d sil r uw sil ih t sil b l uw t s ow hh aa dh ae dh ah sh ih p s eh r iy t sil ah p aa r t sil ao l s ng k uh d uw w ah th w aa sh sil ah dh ah s ey b l er s sil sh uh r aa r s ih n dh ah ay s iy b l ae s t sil sh uh k dh eh r f ey s t eh n sil k r ay d aw t ih n sil ae ng g ah sil sil n ah sil d ae n w ay sil s n t sil s ao sil w ay d uw hh ae v d ih k ao s m iy z ah r iy ae n ey ah s ah dh ah t ay sil b iy k ao s ay l ah t sh ow ng jh ah s t ah hh ao s t ao ng ay ae sil r ih p l ay t sil w ay sil ih s iy t ih ng ah s k ay ae n d ih n aa s ih ng ih k s t eh s aa sil b ah ay ae m f ao s ao r s sil ae n eh n er jh iy sil sil sil\n"
     ]
    },
    {
     "name": "stderr",
     "output_type": "stream",
     "text": [
      "/home/dmesg/miniconda3/envs/semi/lib/python3.8/site-packages/librosa/util/decorators.py:88: UserWarning: PySoundFile failed. Trying audioread instead.\n",
      "  return f(*args, **kwargs)\n"
     ]
    },
    {
     "name": "stdout",
     "output_type": "stream",
     "text": [
      "C3-3\n",
      "sil hh uw n sil s eh d s ao sil l uh k ih n s ao t f ao ih sil ah hh ae v ah ay d iy ah sil dh ah s hh ah v ah k ah p ae k s t uw s iy w ih sh ah v aa s s sil dh ah s t ao ng g er sil ah n ow hh uw w er w iy sil s eh dh ah w ay n sil w ih sh ao s iy sil r uw p l dh ah s ao sil t uw s iy dh ah m eh n d ao n dh ih sil dh ah w ay n d uw f t ah w er dh ah s ao sil k n ih sil ah y ah m ae n w ah w uh k ih ng ah l ao w ay n d ih r sil th r uw dh ah m aa n t ah s sil ih t w ah s ow k ow d sil hh iy w ow s sil w er ih ng ah hh ae v iy w ih n t sil k ow t t uw sil k iy p sil w ao sil sil dh ah s s iy w ih ch w ah n ah l s ih s t r ao n ah f t uw t ey k hh ih s k ao d ao f hh ih m sil s ah k ch eh s t ih dh ah s ao sil sil iy z iy sil ey k ah n d uw dh ae d t ih n n ow t ay sil b ow s t ih dh ah w n sil ow ao n dh eh n sil s eh dh s ao ng sil ay w er w ah sh uw s r ah n b iy hh ay n dh ah sil k l aa sil t sil dh ah w ay n b r iy ae n r sil ih t sil b r uw t s ow hh aa r dh ah s b ao r t hh ae t uw sil k l iy n t uw dh ah t r iy s sil t s t ao sil b iy n s w eh d ah w ey sil sil dh ah m ae sh uh r t sil ae n d ih l p dh ah sil t ao b aa t ah n ah v hh ih s sil k ow s sil ah dh ah s m n ow sil s w er d ih n dh ah ey r sil dh w ay n d sil k eh p ah sil b r ow sil b ah dh ah m ao r ih t sil d ih s ow sil dh ah t ay s er dh ah m n p d hh ih s k ow s ah r n d hh ih n sil t uw sil k iy p sil w ao sil sil ay g iy v aa p d ae s t ih dh ah w ay n d ah l aa s t sil ah v g ao n ow m ao sil p ao ow f sil l eh f t sil sil n aw iy s m ay t ao sil s eh s ao ih n m ao s t f r ao dh sil k l ao sil sil dh ah s ao n jh eh n t ah l iy sil r eh s ah sil k ow d sil ey sil dh ah s t r ao ng er t sil b r s t ih n sil dh ah sil l aa jh er ah n d r aa n d er sil ih t s ih n t uw k l sil sil\n"
     ]
    },
    {
     "name": "stderr",
     "output_type": "stream",
     "text": [
      "/home/dmesg/miniconda3/envs/semi/lib/python3.8/site-packages/librosa/util/decorators.py:88: UserWarning: PySoundFile failed. Trying audioread instead.\n",
      "  return f(*args, **kwargs)\n"
     ]
    },
    {
     "name": "stdout",
     "output_type": "stream",
     "text": [
      "C4-1\n",
      "sil m ih s sil k aa sil k r iy n sil m iy er sil ay s iy sil b er uw sil l aa sil k r er sil f uw t uw k r aa f iy sil t er ao sil t aa ng ah l ay t sil l iy s sil dh ih w er s ah sil b ey p ao b l ah m sil b iy sil t w iy n sil t uw sil t uw sil r p s sil dh ah sil k aa m ah n t sil ih s sil t oy ng sil uw sil t r aa s sil dh ih s sil ah s ih sil ow f sil ow n l s sil n ih s sil sil iy l er n d sil hh aa sil t uw sil t r v sil ah n sil iy w sil s ih k s sil t ey ng sil y eh s ow sil d sil hh iy s v ey sh ah n sil er s sil aa l er r iy sil aa n dh ah sil hh iy sil m iy sil t ih sil k aa s ih s sil t uw s iy sil sh iy er s sil t aa n sil ih z hh ao er w er sil k sil f ao d ah sil d ey sil aa n sil k uw t sil r ih l aa sil k s sil sil sh iy uw s t sil ow sil p ah l ah n d er sil t uw sil m iy k sil sil s m ow s iy sil f ao sil b r eh k f er s t sil sh iy l aa k s sil t uw sil t ey k ah sil b ao sil k sil n dh ah sil p aa k aa v r ih m ao n ih sil dh ah s sil k uw sil s ih s ah m sil m iy s sil m w m ao r f ao n d ih ng sil t uw ih n sil p r uw sil ah t ah k ey sh ah n sil dh ah sil b ih d iy n s sil aa k ih t eh k ch er sil w er s sil ao r sil d ah n sil ah n d ah sil ih n sil k ey sil\n"
     ]
    },
    {
     "name": "stderr",
     "output_type": "stream",
     "text": [
      "/home/dmesg/miniconda3/envs/semi/lib/python3.8/site-packages/librosa/util/decorators.py:88: UserWarning: PySoundFile failed. Trying audioread instead.\n",
      "  return f(*args, **kwargs)\n"
     ]
    },
    {
     "name": "stdout",
     "output_type": "stream",
     "text": [
      "C4-2\n",
      "sil sil ih t w ah s ah f aa n sil b ah t sil b r ih sil k ow sil w ih ng t er s t ey sil ah s t ah s ah sh aa n sil d aa sil ah n l ah s sil n ow sil k aa v er t er s sil b ih l ow sil sil w ao t ah sil b y uw t ah f ah sil ay sil t sil ey sil t sil t t sil ah n d l uw sil k aa sil d dh ah l ih t w aa t sil s eh s sil ah v f t ah sh iy sil p s ah n dh ah sil b uw s iy sil ah sil w ah n sil t uw sil t ey sil m ay sil t aa n sil t r v l ih ng sil k r ao s s sil k aa t t ey sil aa f sil t ah ao sil w ao s sil t uw sil r uw sh sil sil s ah dh ah l iy sil ah f r iy z ih ng sil k ow t sil b l aa s t sil ah f sil eh sil s sil k r iy ng sil p aa s t sil ah n t ah sil ih r l iy sil b l uw dh ah sil s ah sil ah l ao ng w ey z ey t sil ao s ah f sil m ay w ey s ah n sil r ow r ey sil d dh ah sil w ng d sil s iy ng dh ow s sh iy s sil aa n g ow ng t uw sil l ao sil ah m sil r aa sil t ah f sil k ao s sil dh ih sil sil ow n t sil n ow sil ao s sil hh iy t l ow sil dh ah w ih ng d sil b ih l ow sil aa n sil b ih l ow sil eh t sil b ih l ow s ow hh aa sil aa n sil dh ah sh iy s sil s eh s sil r iy p iy t ah sil p aa r t sil ao dh ah f s ah ng sil k uw sil t uw sil er s sil w ao sil ch s t ah sil s ih l er s sil sh ih v er s sil ih n dh ah sil ay s iy sil b l aa s t ah sh r ow k ah dh eh f r aa s sil t ah sil aa n dh ah sil k r ay t aa t ah iy sil ey sil ah n g er sil n aa t ah sil g iy n ah w ey n sil s ay n dh ah s aa n sil w aa sil d w ih hh aa sil t uw sil k aa s sil m ey zh er aa n dh ah sil k ow z ey s ah sil ao dh ah t aa m sil k ao s aa l ay sil k sil sh r ow iy ng sil t r ah sil t aa sil sil t r ao aa sil r ih p aa dh ah sil w ay t sil y uw s iy t ih ng s sil k aa aa n s sil t uw n th iy s sil s ah sil p sil t sil sh aa sil b ah ay aa n sil f uw f sil f ao s ah n ae n ah sil jh iy sil\n"
     ]
    },
    {
     "name": "stderr",
     "output_type": "stream",
     "text": [
      "/home/dmesg/miniconda3/envs/semi/lib/python3.8/site-packages/librosa/util/decorators.py:88: UserWarning: PySoundFile failed. Trying audioread instead.\n",
      "  return f(*args, **kwargs)\n"
     ]
    },
    {
     "name": "stdout",
     "output_type": "stream",
     "text": [
      "C4-3\n",
      "sil sil ah sil s ay dh ah s aa d sil k dh uw k ih n sil ow f ow sil aa hh ay m ay d ih r sil ay s hh aa v l ah sil k ao ng sil t ae s sil t uw s iy sil w ih sh r ow f sil aa s sil ih s sil t ah s sil t r ow ng g er sil ay n d n ow w uw w ih ng sil s ae dh ah w ay t sil w iy sh ah s iy sil ah p dh s aa sil t uw s iy dh ae t sil m aa sil d aa ng dh eh r sil t ah w ay n d sil uw k t sil eh dh ah s aa w ao s sil p oy n t ng sil ah y ah ng m ah sil w ao k ih ah l ao sil w aa d r ow t sil th r ow dh ah m ow n t ah s sil ih dh ah w ah s ow k ow d sil sh uw w ah s sil w er ih ng ah hh aa v ih r sil w ih n t ah sil k ow t uw sil k iy w ao sil ae s iy w ih ch sil w aa sil aa s sil ih s t ow n aa sil t uw sil t k sil hh ih s sil k ow sil ow f sil hh ih n sil s ah sil ch eh s iy ah dh ah s aa sil iy z ey sil ay ah n d uw d ay t sil ih n n ow t aa sil b ow s iy dh ah w ay d sil k ng dh ah sil s aa dh ah s aa sil aa ah w ow sh uw sil f ao ng sil b iy hh aa ah sil k ao t sil t ah w ih n d sil b l ow aa n b ih l ow sil ey s sil b l ow s ow hh aa ah ah sil b er s hh aa sil t uw sil k sil s iy b ih ng dh ah sil t uw dh ah sil t w iy ng sil t uw s t ow sil b iy ng s sil t aa ow w iy sil t ah m aa sh er v aa n sil d iy t aa p dh ah sil t ao sil b ao n t ah sil ah f sil hh ih s sil k ow sil aa s ow sil s n ow s sil w er l er ih n dh ah eh r sil t uw w ih n sil k eh p t aa sil b l ow n iy ng sil aa sil dh ah ow sil m ao r sil ih t sil d iy s ow sil dh ah sil t ay t er d ah m aa sil p uw th sil hh ih s sil k ow dh ah w ah hh ih m sil t uw sil k iy w ao sil ay g ey v sil g eh s sil p aa dh ah w ih n t l s sil aa v sil k ow s sil n ow m ao sil p uw f sil l f t sil aa t sil m l ih s sil m ay t er n s t aa sil dh ah s aa sil aa s sil iy t sil aa n ah m ey sil f r ah m dh ah k ow sil t ah s aa n sil jh eh n sil d ah d ey sil b r eh th sil ih n d ah sil k ow t sil eh r sil s ah s sil t g er ih t sil b r iy s t sil dh iy iy n sil t ah sil l aa ch er aa n d ah sil ao ng d er ih sil s iy n d sil t uw sil ow sil\n"
     ]
    },
    {
     "name": "stderr",
     "output_type": "stream",
     "text": [
      "/home/dmesg/miniconda3/envs/semi/lib/python3.8/site-packages/librosa/util/decorators.py:88: UserWarning: PySoundFile failed. Trying audioread instead.\n",
      "  return f(*args, **kwargs)\n"
     ]
    },
    {
     "name": "stdout",
     "output_type": "stream",
     "text": [
      "C5-1\n",
      "sil sil b iy s sil t ao sil t r iy sil b r ay er sil b ih sh uw sil r uw sil b v iy sil g r ow sil f uw t hh p r ay f ih sil sil t uw n ao sil sil t uw n sil ah n sil dh ah m s p r iy s sil b g er m ah z ah b iy k sil p ao p ah n sil dh ih t uw b ow sil t uw p r uw p s sil d ah k p ah m m ah n t sil ih s t ao sil t uw ah t r ah s b ih ih sh uw ao hh ow m ah s ah s sil sil f iy m ih n dh ah hh ao t uw t ao w ah n f uw w s ih k s t iy y ih z ow sil sil hh ih z v iy w ao s sil r uw ah dh ah f iy v m iy v ih d f r aa z ah z t ah s iy sil sh iy w ah s t ao sil w ih d hh ao w ao k sil f ao b ah sil dh iy sil ah n sil k uw d l ah k s sil sil f iy uw s t ah sil ao sil ah n d er sil t uw sil r ih k sil ao sil s m uw th iy f ao sil b r ah t f ah s t sil sh iy l ay k s t uw sil t ih k sil ao w ao k sil ih b ao sil p ao sil ah v m ao dh ih sil sil ah s p uw s ah s t ao n sil dh iy s sil f ah n dh iy sil t uw ih n p uw sil eh d ah k iy sh ah n sil b ah b d ih s sil ay t iy t hh ah k t r ao w ao s sil m ao dh sil ah n d sil ih n\n"
     ]
    },
    {
     "name": "stderr",
     "output_type": "stream",
     "text": [
      "/home/dmesg/miniconda3/envs/semi/lib/python3.8/site-packages/librosa/util/decorators.py:88: UserWarning: PySoundFile failed. Trying audioread instead.\n",
      "  return f(*args, **kwargs)\n"
     ]
    },
    {
     "name": "stdout",
     "output_type": "stream",
     "text": [
      "C5-2\n",
      "sil ih t m ey s sil ih f ah b ah t s sil iy iy t uw s t iy t sil ah s sil b ih s ah ao sil d ao n sil ae n b ey sil s m ey n sil hh ah r iy d ah sil ae s sil b p r sil b r ae n sil t sil ih sil b ih ey s aa t sil ih t s eh t sil ah b iy t sil t sil b ey sil b r ih t aa t sil s ay s sil sil ih n sil n sh iy p s sil ah v d ah sil b r ih s iy ah m ow t ah t ih k sil b ay t aa n t ay v iy ah k ao s sil b ah s k dh ih t b ih sil ah t uw ey sil m ah s dh r aa sh sil s ah b ah l iy ow f r iy z iy k uw b ah sil b aa s t ah ao ao er s sil r iy iy b ow sil p aa s t ah ao b ah v ih r l iy p r b ow s ah n sil ah w r ih v ih t sil ao th sil ah m w ih s uw sil sil w ey b ow sil b ah w s iy b iy n s iy p s sil v sil ey f n sil n iy b ow w ao t ih n sil p ao s sil b ih ih s b ow sil b ih s sil b ih m n t sil b ow sil ao s hh ih th sil b ow w ao n d sil b r ah v ah sil b r ey sil ih t sil b r ow s ey hh aa t sil dh dh ah sh ih s ih n z ih r ih ah p ao t sil ah s ah n t ih n t sil t ih sil w ao z ah w ao sil ah s sil ah s ih v ah z ah sil f aa b er ih d ah ih b ih sil ah s ih sil b r aa s t sil uw sil g ah sil ih s ah b ah sil k r d ah ao l t sil ah n g er sil v ah t t iy w ao s uw b ah s ao sil sil w ao d hh ah t ih n ae s sil n ih s iy r ih ah b ao sil ao s sil ao d ah sil ao sil sil b ih k s sil ah m ay t ow iy sil ae t f ah s t sil hh ae s t ao ao ao n sil r ih p hh aa d ah ae t s f b ah s k aa ao v b ah t m ah sil b iy sil ih s ah ah f aa sil ah v ao aa sil s f uw n sil ae s sil ah b ah ah v ah r ih sil sil\n"
     ]
    },
    {
     "name": "stderr",
     "output_type": "stream",
     "text": [
      "/home/dmesg/miniconda3/envs/semi/lib/python3.8/site-packages/librosa/util/decorators.py:88: UserWarning: PySoundFile failed. Trying audioread instead.\n",
      "  return f(*args, **kwargs)\n"
     ]
    },
    {
     "name": "stdout",
     "output_type": "stream",
     "text": [
      "C5-3\n",
      "ah s er b ah s ah n sil r uw n k iy sil ao th sil f sil aa hh er b ah dh ih sil m ah s er ao t ah s t ah t n s iy w ih t ah w ao s ih s t ao ah sil aa m ow uw w ih s ah dh ah w ao b w ih sh s iy r ih p b ah s ah sil b r s iy b er t s sil b ah m er sil b ah m er sil b ah w ao n k ao ao sil w er b ow s ao w s sil ao d ih ao ao ao w aa w eh s sil w t ih w ao sil ah sil ah w ah d iy ey t sil uw n d ah m ao n t ih s sil ih m ao s ow k ow sil sil hh iy z w iy sil sil ih hh er v iy sil dh ah k uh sil t t iy p eh w ah s iy w s sil w ao w s ih s t ao m ah v sil t n t ih t ih s t ih ae s ih sil s uw t ah s t sil dh ah s ao sil iy z ih ah t ah dh b eh t ih t ao sil b ih s uw d d ah w ao ah sil ow ao b ah sil s er ah b ah s ao sil ao ah w ih w ao sh ah n f ao n sil b ih hh ao dh ah sil ao sil k ao sil b ih w ah dh ah sil b r iy sil ah b ow sil b r ng ah v b ah sil b r n sil ih d sil b r ih n s ey n hh ao dh ah b ah v sil b ih n sil b ao s hh aa dh ah t n sil er iy sil t d ah t r ih s t n s t eh p sil b iy s sil ah p sil n ih sil dh ah m ao sh ao m sil sh er m d ah v b sil dh ih d ah sil ae t ey k sil b ah t ah sil ah iy s k ih t sil ah s sil b ah sil s m ow n sil s m w er l ih d sil iy b sil b iy w ao n sil t uw t ao ah v sil b r ih sil p ah t sil d ow m ao ih t ih s m sil ao t aa dh m ao sil p uw hh ih s sil k t sil ah w b b ow t t iy p sil ah t b ao t sil d ah s t r ih d ah b ao w ao d ah t aa s t sil ah v ao sil ao t sil m ow m ao sil p th sil b t sil b ao ih t w z m t ih sil s er sil b ah s ah s ih t ao sil sil b ao sil ah m ao s t ah sil f ao m ao sil b ow sil k ao t sil d ah s ao sil t ah p t l iy sil r s t b iy sil k uw d ao ah sil dh ah s t ao m ao ih t ao sil p r ih s ih sil b ow m ao s sil ah v b ah w ao v ih ih s iy sil s t ih n sil r ey n sil sil\n"
     ]
    },
    {
     "name": "stderr",
     "output_type": "stream",
     "text": [
      "/home/dmesg/miniconda3/envs/semi/lib/python3.8/site-packages/librosa/util/decorators.py:88: UserWarning: PySoundFile failed. Trying audioread instead.\n",
      "  return f(*args, **kwargs)\n"
     ]
    },
    {
     "name": "stdout",
     "output_type": "stream",
     "text": [
      "D2-1\n",
      "sil sil sil z iy s sil t w ay sil t r iy m sil m ey jh er sil iy sh uw sil r uw sil iy f sil g ow sil f t uw sil aa f iy sil t er ah sil t er aa n dh ah l ay s p ih sil z eh r w ah s ah sil b ih k p r aa b l n sil b iy t ih n s ah sil t uw sil g r er s sil dh ah g aa m ah n t s sil ih s t r ay l ih ng t uw ah t r eh s l ah iy sh uw hh ow m l eh s n ih s sil hh ey l er n d sil hh ao t uw sil t r ay w n sil hh ey w ah s ih s t y sil ow sil hh ih s v iy zh ah w ah s sil b aa r iy sil ah n hh ey n n m iy s k ah l aa s ih s t uw s iy sil sh iy w ah s t ao w iy s hh er w er k f ao l ah sil b iy ah n d ah k uw r ih l aa k s sil sh iy y uw s ah sil b l eh n d er t uw m ey k sil ah s m ao s iy f sil p r aa k f ih sil f er sil f er s t sil sh iy l ay k s t uw sil t iy k ah w ao k ih n z ah sil p aa k eh v r iy m ao r n ih ng sil l s k uw s s t ah n ih s sil m ao f ao n ih ng t uw sil ih n p uw ae ah k ey sh ah n sil dh ah b uw d iy ah k t eh ch er w ah s m ao r l er ah n y uw n iy k sil sil\n"
     ]
    },
    {
     "name": "stderr",
     "output_type": "stream",
     "text": [
      "/home/dmesg/miniconda3/envs/semi/lib/python3.8/site-packages/librosa/util/decorators.py:88: UserWarning: PySoundFile failed. Trying audioread instead.\n",
      "  return f(*args, **kwargs)\n"
     ]
    }
   ],
   "source": [
    "class Decoder:\n",
    "    def __init__(self, json_dict):\n",
    "        self.dict = json_dict\n",
    "        self.look_up = np.asarray(list(self.dict.keys()))\n",
    "\n",
    "    def decode(self, ids):\n",
    "        converted_tokens = self.look_up[ids]\n",
    "        fused_tokens = [tok[0] for tok in groupby(converted_tokens)]\n",
    "        output = ' '.join([tok for tok in fused_tokens if tok != '<s>'])\n",
    "        return output\n",
    "    \n",
    "device = torch.device('cuda')\n",
    "\n",
    "model, _ = fairseq.checkpoint_utils.load_model_ensemble(\n",
    "    [checkpoint_path], arg_overrides={})\n",
    "model = model[0]\n",
    "model.eval()\n",
    "\n",
    "model.to(device=device)\n",
    "\n",
    "json_dict = {\"<s>\": 0, \"<pad>\": 1, \"</s>\": 2, \"<unk>\": 3}\n",
    "count = 4\n",
    "with open(dict_path, 'r') as f:\n",
    "    for line in f.readlines():\n",
    "        json_dict[line.split(' ')[0].strip()] = count\n",
    "        count += 1\n",
    "\n",
    "decoder = Decoder(json_dict=json_dict)\n",
    "\n",
    "\n",
    "decoded_dict = dict()\n",
    "for wav_path in tqdm(wav_path_list):\n",
    "    wav_id = wav_path.split('/')[-1].split('.')[0]\n",
    "    with torch.no_grad():\n",
    "        wav, sr = librosa.load(wav_path.strip())\n",
    "        if sr != 16000:\n",
    "            wav = librosa.resample(wav, orig_sr=sr, target_sr=16000)\n",
    "        input_sample = torch.tensor(wav)[None, :].to(torch.float32).to(device=device)\n",
    "\n",
    "        logits = model(source=input_sample, padding_mask=None)[\"encoder_out\"]\n",
    "        predicted_ids = torch.argmax(logits[:, 0], axis=-1).cpu()\n",
    "\n",
    "    phn_seq = decoder.decode(predicted_ids)\n",
    "\n",
    "    decoded_dict[wav_id] = phn_seq\n",
    "    print(wav_id)\n",
    "    print(phn_seq)"
   ]
  },
  {
   "cell_type": "code",
   "execution_count": 8,
   "id": "a2eeda67",
   "metadata": {},
   "outputs": [],
   "source": [
    "pd.to_pickle(decoded_dict, './decoded_dict.pkl')"
   ]
  },
  {
   "cell_type": "code",
   "execution_count": 15,
   "id": "f7c4e7ef",
   "metadata": {},
   "outputs": [],
   "source": [
    "output_dir = '/mnt/d/projects/semi/results/mm/'"
   ]
  },
  {
   "cell_type": "code",
   "execution_count": 17,
   "id": "cbdf63be",
   "metadata": {},
   "outputs": [
    {
     "data": {
      "text/plain": [
       "{1: 'dh ih s t r ay d r iy m m eh zh er ih sh uw b l uw l ay v g er l f ah t aa g r ah f iy t er n aa n t er n aa n dh ah l ay t s p l iy z dh eh r w aa z ah b ih g p r aa b l ah m b ih t w iy n dh ah t uw g r uw p s dh ah g ah v er m ah n t ih z t r ay ih ng t uw ae d r eh s dh ah ih sh uw ah v hh ow m l ah s n ah s hh iy l er n d hh aw t uw d r ay v w eh n hh iy w aa z s ih k s t iy n y ih r z ow l d hh ih z v ih zh ah n w aa z b l er iy ah n d hh iy n iy d ah d g l ae s ah z t uw s iy sh iy w aa z d ah n w ih dh hh er w er k f ao r dh ah d ey ah n d k uh d r ih l ae k s sh iy y uw z d ah b l eh n d er t uw m ey k ah s m uw dh iy f ao r b r eh k f ah s t sh iy l ay k s t uw t ey k ah w ao k ih n dh ah p aa r k eh v er iy m ao r n ih ng dh ah s k uw l s ih s t ah m n iy d z m ao r f ah n d ih ng t uw ih m p r uw v eh jh ah k ey sh ah n dh ah b ih l d ih ng z aa r k ah t eh k ch er w aa z m aa d er n ah n d y uw n iy k',\n",
       " 2: 'ih t w aa z ah f ay n b ah t v eh r iy k ow l d w ih n t er z d ey ae z dh ah s ah n sh ow n d aw n aa n dh ah s n ow k ah v er d er th b ih l ow w ah t ah b y uw t ah f ah l s ay t ih t th ao t ah n d l uh k ae t dh ah l ih t ah l w ay t s ey l z ah v dh ah sh ih p s aa n dh ah b l uw s iy ay w aa n t t uw t ey k m ay t ay m t r ae v ah l ih ng ah k r ao s dh ah s k ay t ah d ey ae f t er ao l w ah t s dh ah r ah sh s ah d ah n l iy ah f r iy z ih ng k ow l d b l ae s t ah v eh r s k r iy ch t p ae s t ah n d n ih r l iy b l uw dh ah s ah n ah l ao ng w ih dh ih t aw t ah v m ay w ey s ah n r ao r d dh ah w ay n d s iy dh ow z sh ih p s ih m g ow ih ng t uw b l ow dh eh m r ay t ao f k ao r s dh ey w ow n t n ow w ah t s hh ih t dh eh m dh ah w ay n d b l uw ah n d b l uw ih t b l uw s ow hh aa r d dh ae t dh ah sh ih p s s ey l z r ih p t ah p aa r t ao l dh ah s ah n k uh d d uw w aa z w aa ch ae z dh ah s ey l er z sh ih v er d ih n dh ah ay s iy b l ae s t sh uh k dh eh r f ih s t s ah n d k r ay d aw t ih n ae ng g er n aa t ah g eh n w ay n d s ay d dh ah s ah n w ay d uw y uw hh ae v t uw k aa z m ih z er iy ah n d k ey aa s ao l dh ah t ay m b ih k ao z ay l ay k sh ow ih ng jh ah s t hh aw s t r ao ng ay ae m r ih p l ay d dh ah w ay n d y uw s ih t ih n dh ah s k ay ah n d d uw n ah th ih ng ih k s eh p t sh ay n b ah t ay ae m f uh l ah v f ao r s ah n d eh n er jh iy',\n",
       " 3: 'hh m s eh d dh ah s ah n l uh k ih ng th ao t f ah l ay hh ae v ae n ay d iy ah l eh t s hh ae v ah k aa n t eh s t t uw s iy w ih ch ah v ah s ih z dh ah s t r ao ng er ay n ow hh uw w ih l w ih n s eh d dh ah w ay n d w iy sh ae l s iy r ih p l ay d dh ah s ah n d uw y uw s iy dh ae t m ae n d aw n dh eh r dh ah w ay n d l uh k t w eh r dh ah s ah n w aa z p oy n t ih ng ah y ah ng m ae n w aa z w ao k ih ng ah l ao ng ah w ih n d iy r ow d th r uw dh ah m aw n t ah n z ih t w aa z s ow k ow l d hh iy w aa z w eh r ih ng ah hh eh v iy w ih n t er k ow t t uw k iy p w ao r m l eh t s s iy w ih ch w ah n ah v ah s ih z s t r ao ng ih n ah f t uw t ey k hh ih z k ow t ao f hh ih m s ah jh eh s t ih d dh ah s ah n iy z iy ay k ae n d uw dh ae t ih n n ow t ay m b ow s t ah d dh ah w ay n d g ow aa n dh eh n s eh d dh ah s ah n ih l w aa ch y uw f r ah m b ih hh ay n d ah k l aw d dh ah w ay n d b l uw ah n d b l uw ih t b l uw s ow hh aa r d dh ae t dh ah b er d z hh ae d t uw k l ih ng t uw dh ah t r iy z t uw s t aa p b iy ih ng s w eh p t ah w ey dh ah m ae n sh ih v er d ah n d d ih d ah p dh ah t aa p b ah t ah n ah v hh ih z k ow t ae z dh ah s n ow s w er l d ih n dh ah eh r dh ah w ay n d k eh p t aa n b l ow ih ng b ah t dh ah m ao r ih t d ih d s ow dh ah t ay t er dh ah m ae n p uh l d hh ih z k ow t er aw n d hh ih m t uw k iy p w ao r m ay g ih v ah p g ae s p t dh ah w ay n d ae t l ae s t ay v g aa t n ow m ao r p ah f l eh f t n aw ih t s m ay t er n s eh d dh ah s ah n ae z ih t ih m er jh d f r ah m dh ah k l aw d dh ah s ah n jh eh n t l iy b r iy dh d ih n dh ah k ow l d eh r dh ah s t r ao ng er ih t b r iy dh d ih n dh ah l aa r jh er ah n d r aw n d er ih t s iy m d t uw g l ow'}"
      ]
     },
     "execution_count": 17,
     "metadata": {},
     "output_type": "execute_result"
    }
   ],
   "source": [
    "phone_seq_dict"
   ]
  },
  {
   "cell_type": "code",
   "execution_count": 18,
   "id": "88fa614f",
   "metadata": {},
   "outputs": [],
   "source": [
    "with open(os.path.join(output_dir, 'tran_seq'), 'w+') as f:\n",
    "    for k,v in decoded_dict.items():\n",
    "        part = int(k.split('-')[1])\n",
    "        f.write(k + ' ' + phone_seq_dict[part]  + \"\\n\")"
   ]
  },
  {
   "cell_type": "code",
   "execution_count": 16,
   "id": "e63b9d9b",
   "metadata": {},
   "outputs": [],
   "source": [
    "with open(os.path.join(output_dir, 'decode_seq'), 'w+') as f:\n",
    "    for k,v in decoded_dict.items():\n",
    "        f.write(k + ' ' + ' '.join([x for x in v.split(' ') if x != 'sil'])  + \"\\n\")\n"
   ]
  },
  {
   "cell_type": "code",
   "execution_count": 25,
   "id": "1bfc4387",
   "metadata": {},
   "outputs": [
    {
     "name": "stdout",
     "output_type": "stream",
     "text": [
      "compute-wer --text --mode=present ark:tran_seq ark:decode_seq \n",
      "align-text ark:tran_seq ark:decode_seq ark,t:- \n",
      "LOG (align-text[5.5.1061~1-e4eb]:main():align-text.cc:135) Done 47 sentences, failed for 0\n"
     ]
    }
   ],
   "source": [
    "!/mnt/d/projects/semi/semi/scripts/mdd_result_mm.sh"
   ]
  },
  {
   "cell_type": "code",
   "execution_count": null,
   "id": "071384c5",
   "metadata": {},
   "outputs": [],
   "source": []
  },
  {
   "cell_type": "code",
   "execution_count": 3,
   "id": "593090ee",
   "metadata": {},
   "outputs": [],
   "source": [
    "with open('/mnt/d/projects/semi/results/mm/ref_human_detail', 'r') as f:\n",
    "    lines = f.readlines()"
   ]
  },
  {
   "cell_type": "code",
   "execution_count": 11,
   "id": "57763216",
   "metadata": {},
   "outputs": [
    {
     "data": {
      "text/plain": [
       "'A1-1 #csid 266 68 6 42\\n'"
      ]
     },
     "execution_count": 11,
     "metadata": {},
     "output_type": "execute_result"
    }
   ],
   "source": [
    "lines[3]"
   ]
  },
  {
   "cell_type": "code",
   "execution_count": 12,
   "id": "e92e7233",
   "metadata": {},
   "outputs": [],
   "source": [
    "res_dict = dict()\n",
    "csid_dict = dict()\n",
    "i = 0\n",
    "for line in lines:\n",
    "    splited = line.split(' ', 1)\n",
    "    wav_id = splited[0]\n",
    "    spk = wav_id.split('-')[0]\n",
    "    if i == 0:\n",
    "        l = [[x for x in splited[1].split(' ', 1)[1].replace('\\n', ' ').strip().split(' ') if x != '']]\n",
    "    elif i == 1:\n",
    "        l.append([x for x in splited[1].split(' ', 1)[1].replace('\\n', ' ').strip().split(' ') if x != ''])\n",
    "    elif i == 2:\n",
    "        l.append([x for x in splited[1].split(' ', 1)[1].strip().split(' ') if x != ''])\n",
    "        \n",
    "        if spk in res_dict:\n",
    "            res_dict[spk].append(np.array(l))\n",
    "        else:\n",
    "            res_dict[spk] = [np.array(l)]\n",
    "    else:\n",
    "        i = 0\n",
    "        if spk in csid_dict:\n",
    "            csid_dict[spk].append(np.array([int(x) for x in splited[1].strip().split(' ')[1:5]]))\n",
    "        else:\n",
    "            csid_dict[spk] = [np.array([int(x) for x in splited[1].strip().split(' ')[1:5]])]\n",
    "        continue\n",
    "    i += 1"
   ]
  },
  {
   "cell_type": "code",
   "execution_count": 49,
   "id": "9f76bf31",
   "metadata": {},
   "outputs": [
    {
     "data": {
      "text/html": [
       "<div>\n",
       "<style scoped>\n",
       "    .dataframe tbody tr th:only-of-type {\n",
       "        vertical-align: middle;\n",
       "    }\n",
       "\n",
       "    .dataframe tbody tr th {\n",
       "        vertical-align: top;\n",
       "    }\n",
       "\n",
       "    .dataframe thead th {\n",
       "        text-align: right;\n",
       "    }\n",
       "</style>\n",
       "<table border=\"1\" class=\"dataframe\">\n",
       "  <thead>\n",
       "    <tr style=\"text-align: right;\">\n",
       "      <th></th>\n",
       "      <th>0</th>\n",
       "      <th>1</th>\n",
       "      <th>2</th>\n",
       "      <th>3</th>\n",
       "      <th>4</th>\n",
       "      <th>5</th>\n",
       "      <th>6</th>\n",
       "      <th>7</th>\n",
       "      <th>8</th>\n",
       "      <th>9</th>\n",
       "      <th>...</th>\n",
       "      <th>698</th>\n",
       "      <th>699</th>\n",
       "      <th>700</th>\n",
       "      <th>701</th>\n",
       "      <th>702</th>\n",
       "      <th>703</th>\n",
       "      <th>704</th>\n",
       "      <th>705</th>\n",
       "      <th>706</th>\n",
       "      <th>707</th>\n",
       "    </tr>\n",
       "  </thead>\n",
       "  <tbody>\n",
       "    <tr>\n",
       "      <th>0</th>\n",
       "      <td>hh</td>\n",
       "      <td>m</td>\n",
       "      <td>s</td>\n",
       "      <td>eh</td>\n",
       "      <td>d</td>\n",
       "      <td>dh</td>\n",
       "      <td>ah</td>\n",
       "      <td>s</td>\n",
       "      <td>ah</td>\n",
       "      <td>n</td>\n",
       "      <td>...</td>\n",
       "      <td>t</td>\n",
       "      <td>s</td>\n",
       "      <td>iy</td>\n",
       "      <td>m</td>\n",
       "      <td>d</td>\n",
       "      <td>t</td>\n",
       "      <td>uw</td>\n",
       "      <td>g</td>\n",
       "      <td>l</td>\n",
       "      <td>ow</td>\n",
       "    </tr>\n",
       "    <tr>\n",
       "      <th>1</th>\n",
       "      <td>&lt;eps&gt;</td>\n",
       "      <td>ah</td>\n",
       "      <td>s</td>\n",
       "      <td>&lt;eps&gt;</td>\n",
       "      <td>er</td>\n",
       "      <td>b</td>\n",
       "      <td>ah</td>\n",
       "      <td>s</td>\n",
       "      <td>ah</td>\n",
       "      <td>n</td>\n",
       "      <td>...</td>\n",
       "      <td>ih</td>\n",
       "      <td>s</td>\n",
       "      <td>iy</td>\n",
       "      <td>s</td>\n",
       "      <td>t</td>\n",
       "      <td>ih</td>\n",
       "      <td>n</td>\n",
       "      <td>r</td>\n",
       "      <td>ey</td>\n",
       "      <td>n</td>\n",
       "    </tr>\n",
       "    <tr>\n",
       "      <th>2</th>\n",
       "      <td>D</td>\n",
       "      <td>S</td>\n",
       "      <td>C</td>\n",
       "      <td>D</td>\n",
       "      <td>S</td>\n",
       "      <td>S</td>\n",
       "      <td>C</td>\n",
       "      <td>C</td>\n",
       "      <td>C</td>\n",
       "      <td>C</td>\n",
       "      <td>...</td>\n",
       "      <td>S</td>\n",
       "      <td>C</td>\n",
       "      <td>C</td>\n",
       "      <td>S</td>\n",
       "      <td>S</td>\n",
       "      <td>S</td>\n",
       "      <td>S</td>\n",
       "      <td>S</td>\n",
       "      <td>S</td>\n",
       "      <td>S</td>\n",
       "    </tr>\n",
       "  </tbody>\n",
       "</table>\n",
       "<p>3 rows × 708 columns</p>\n",
       "</div>"
      ],
      "text/plain": [
       "     0   1   2      3   4   5   6   7   8   9    ... 698 699 700 701 702 703  \\\n",
       "0     hh   m   s     eh   d  dh  ah   s  ah   n  ...   t   s  iy   m   d   t   \n",
       "1  <eps>  ah   s  <eps>  er   b  ah   s  ah   n  ...  ih   s  iy   s   t  ih   \n",
       "2      D   S   C      D   S   S   C   C   C   C  ...   S   C   C   S   S   S   \n",
       "\n",
       "  704 705 706 707  \n",
       "0  uw   g   l  ow  \n",
       "1   n   r  ey   n  \n",
       "2   S   S   S   S  \n",
       "\n",
       "[3 rows x 708 columns]"
      ]
     },
     "execution_count": 49,
     "metadata": {},
     "output_type": "execute_result"
    }
   ],
   "source": [
    "pd.DataFrame(l)"
   ]
  },
  {
   "cell_type": "code",
   "execution_count": 21,
   "id": "721e6a89",
   "metadata": {},
   "outputs": [
    {
     "data": {
      "text/plain": [
       "array([606, 721,  21, 311])"
      ]
     },
     "execution_count": 21,
     "metadata": {},
     "output_type": "execute_result"
    }
   ],
   "source": [
    "np.stack(csid_dict[spk]).sum(axis=0)"
   ]
  },
  {
   "cell_type": "code",
   "execution_count": 26,
   "id": "aeca72cc",
   "metadata": {},
   "outputs": [
    {
     "data": {
      "text/html": [
       "<div>\n",
       "<style scoped>\n",
       "    .dataframe tbody tr th:only-of-type {\n",
       "        vertical-align: middle;\n",
       "    }\n",
       "\n",
       "    .dataframe tbody tr th {\n",
       "        vertical-align: top;\n",
       "    }\n",
       "\n",
       "    .dataframe thead th {\n",
       "        text-align: right;\n",
       "    }\n",
       "</style>\n",
       "<table border=\"1\" class=\"dataframe\">\n",
       "  <thead>\n",
       "    <tr style=\"text-align: right;\">\n",
       "      <th></th>\n",
       "      <th>spk</th>\n",
       "      <th>C</th>\n",
       "      <th>S</th>\n",
       "      <th>I</th>\n",
       "      <th>D</th>\n",
       "      <th>N</th>\n",
       "      <th>Acc.</th>\n",
       "    </tr>\n",
       "  </thead>\n",
       "  <tbody>\n",
       "    <tr>\n",
       "      <th>15</th>\n",
       "      <td>C5</td>\n",
       "      <td>606</td>\n",
       "      <td>721</td>\n",
       "      <td>21</td>\n",
       "      <td>311</td>\n",
       "      <td>1659</td>\n",
       "      <td>0.365280</td>\n",
       "    </tr>\n",
       "    <tr>\n",
       "      <th>5</th>\n",
       "      <td>A6</td>\n",
       "      <td>693</td>\n",
       "      <td>540</td>\n",
       "      <td>13</td>\n",
       "      <td>405</td>\n",
       "      <td>1651</td>\n",
       "      <td>0.419746</td>\n",
       "    </tr>\n",
       "    <tr>\n",
       "      <th>11</th>\n",
       "      <td>C1</td>\n",
       "      <td>756</td>\n",
       "      <td>721</td>\n",
       "      <td>133</td>\n",
       "      <td>161</td>\n",
       "      <td>1771</td>\n",
       "      <td>0.426877</td>\n",
       "    </tr>\n",
       "    <tr>\n",
       "      <th>1</th>\n",
       "      <td>A2</td>\n",
       "      <td>727</td>\n",
       "      <td>528</td>\n",
       "      <td>18</td>\n",
       "      <td>383</td>\n",
       "      <td>1656</td>\n",
       "      <td>0.439010</td>\n",
       "    </tr>\n",
       "    <tr>\n",
       "      <th>9</th>\n",
       "      <td>B4</td>\n",
       "      <td>780</td>\n",
       "      <td>671</td>\n",
       "      <td>87</td>\n",
       "      <td>187</td>\n",
       "      <td>1725</td>\n",
       "      <td>0.452174</td>\n",
       "    </tr>\n",
       "    <tr>\n",
       "      <th>8</th>\n",
       "      <td>B3</td>\n",
       "      <td>886</td>\n",
       "      <td>521</td>\n",
       "      <td>95</td>\n",
       "      <td>231</td>\n",
       "      <td>1733</td>\n",
       "      <td>0.511252</td>\n",
       "    </tr>\n",
       "    <tr>\n",
       "      <th>7</th>\n",
       "      <td>B2</td>\n",
       "      <td>898</td>\n",
       "      <td>467</td>\n",
       "      <td>15</td>\n",
       "      <td>273</td>\n",
       "      <td>1653</td>\n",
       "      <td>0.543255</td>\n",
       "    </tr>\n",
       "    <tr>\n",
       "      <th>14</th>\n",
       "      <td>C4</td>\n",
       "      <td>935</td>\n",
       "      <td>463</td>\n",
       "      <td>34</td>\n",
       "      <td>240</td>\n",
       "      <td>1672</td>\n",
       "      <td>0.559211</td>\n",
       "    </tr>\n",
       "    <tr>\n",
       "      <th>10</th>\n",
       "      <td>B5</td>\n",
       "      <td>934</td>\n",
       "      <td>383</td>\n",
       "      <td>4</td>\n",
       "      <td>321</td>\n",
       "      <td>1642</td>\n",
       "      <td>0.568819</td>\n",
       "    </tr>\n",
       "    <tr>\n",
       "      <th>3</th>\n",
       "      <td>A4</td>\n",
       "      <td>955</td>\n",
       "      <td>386</td>\n",
       "      <td>20</td>\n",
       "      <td>297</td>\n",
       "      <td>1658</td>\n",
       "      <td>0.575995</td>\n",
       "    </tr>\n",
       "    <tr>\n",
       "      <th>2</th>\n",
       "      <td>A3</td>\n",
       "      <td>1005</td>\n",
       "      <td>380</td>\n",
       "      <td>18</td>\n",
       "      <td>253</td>\n",
       "      <td>1656</td>\n",
       "      <td>0.606884</td>\n",
       "    </tr>\n",
       "    <tr>\n",
       "      <th>0</th>\n",
       "      <td>A1</td>\n",
       "      <td>1078</td>\n",
       "      <td>362</td>\n",
       "      <td>115</td>\n",
       "      <td>198</td>\n",
       "      <td>1753</td>\n",
       "      <td>0.614946</td>\n",
       "    </tr>\n",
       "    <tr>\n",
       "      <th>4</th>\n",
       "      <td>A5</td>\n",
       "      <td>1019</td>\n",
       "      <td>421</td>\n",
       "      <td>13</td>\n",
       "      <td>198</td>\n",
       "      <td>1651</td>\n",
       "      <td>0.617202</td>\n",
       "    </tr>\n",
       "    <tr>\n",
       "      <th>13</th>\n",
       "      <td>C3</td>\n",
       "      <td>794</td>\n",
       "      <td>265</td>\n",
       "      <td>12</td>\n",
       "      <td>203</td>\n",
       "      <td>1274</td>\n",
       "      <td>0.623234</td>\n",
       "    </tr>\n",
       "    <tr>\n",
       "      <th>12</th>\n",
       "      <td>C2</td>\n",
       "      <td>1047</td>\n",
       "      <td>355</td>\n",
       "      <td>14</td>\n",
       "      <td>236</td>\n",
       "      <td>1652</td>\n",
       "      <td>0.633777</td>\n",
       "    </tr>\n",
       "    <tr>\n",
       "      <th>6</th>\n",
       "      <td>B1</td>\n",
       "      <td>1170</td>\n",
       "      <td>275</td>\n",
       "      <td>4</td>\n",
       "      <td>193</td>\n",
       "      <td>1642</td>\n",
       "      <td>0.712546</td>\n",
       "    </tr>\n",
       "  </tbody>\n",
       "</table>\n",
       "</div>"
      ],
      "text/plain": [
       "   spk     C    S    I    D     N      Acc.\n",
       "15  C5   606  721   21  311  1659  0.365280\n",
       "5   A6   693  540   13  405  1651  0.419746\n",
       "11  C1   756  721  133  161  1771  0.426877\n",
       "1   A2   727  528   18  383  1656  0.439010\n",
       "9   B4   780  671   87  187  1725  0.452174\n",
       "8   B3   886  521   95  231  1733  0.511252\n",
       "7   B2   898  467   15  273  1653  0.543255\n",
       "14  C4   935  463   34  240  1672  0.559211\n",
       "10  B5   934  383    4  321  1642  0.568819\n",
       "3   A4   955  386   20  297  1658  0.575995\n",
       "2   A3  1005  380   18  253  1656  0.606884\n",
       "0   A1  1078  362  115  198  1753  0.614946\n",
       "4   A5  1019  421   13  198  1651  0.617202\n",
       "13  C3   794  265   12  203  1274  0.623234\n",
       "12  C2  1047  355   14  236  1652  0.633777\n",
       "6   B1  1170  275    4  193  1642  0.712546"
      ]
     },
     "execution_count": 26,
     "metadata": {},
     "output_type": "execute_result"
    }
   ],
   "source": [
    "l = []\n",
    "for spk in csid_dict.keys():\n",
    "    csid = np.stack(csid_dict[spk]).sum(axis=0)\n",
    "    l.append({'spk': spk, 'C': csid[0], 'S': csid[1], 'I': csid[2], 'D': csid[3]})\n",
    "csid_df = pd.DataFrame.from_records(l)\n",
    "csid_df['N'] = csid_df[['C', 'S', 'I', 'D']].sum(axis=1)\n",
    "csid_df['Acc.'] = csid_df['C'] / csid_df['N']\n",
    "csid_df.sort_values('Acc.')"
   ]
  },
  {
   "cell_type": "code",
   "execution_count": 28,
   "id": "499126cf",
   "metadata": {},
   "outputs": [
    {
     "data": {
      "text/plain": [
       "<AxesSubplot: >"
      ]
     },
     "execution_count": 28,
     "metadata": {},
     "output_type": "execute_result"
    },
    {
     "data": {
      "image/png": "[encoded data removed]",
      "text/plain": [
       "<Figure size 640x480 with 1 Axes>"
      ]
     },
     "metadata": {},
     "output_type": "display_data"
    }
   ],
   "source": [
    "csid_df.sort_values('Acc.').head(8)['Acc.'].hist()\n",
    "csid_df.sort_values('Acc.').tail(8)['Acc.'].hist()"
   ]
  },
  {
   "cell_type": "code",
   "execution_count": 59,
   "id": "58b8427f",
   "metadata": {},
   "outputs": [],
   "source": [
    "for spk in res_dict.keys():\n",
    "    df = pd.DataFrame(np.hstack(res_dict[spk])).T\n",
    "    df['mis'] = df[0] + '-' + df[1]\n",
    "    df[df[2]!='C']['mis'].value_counts().to_csv(f'{spk}.csv')"
   ]
  }
 ],
 "metadata": {
  "kernelspec": {
   "display_name": "Python 3 (ipykernel)",
   "language": "python",
   "name": "python3"
  },
  "language_info": {
   "codemirror_mode": {
    "name": "ipython",
    "version": 3
   },
   "file_extension": ".py",
   "mimetype": "text/x-python",
   "name": "python",
   "nbconvert_exporter": "python",
   "pygments_lexer": "ipython3",
   "version": "3.8.16"
  }
 },
 "nbformat": 4,
 "nbformat_minor": 5
}
